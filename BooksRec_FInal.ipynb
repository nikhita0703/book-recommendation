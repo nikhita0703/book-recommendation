{
  "cells": [
    {
      "cell_type": "code",
      "execution_count": 1,
      "id": "7149cd08",
      "metadata": {
        "id": "7149cd08"
      },
      "outputs": [],
      "source": [
        "# Things to do \n",
        "# Follow  hybrid approach for the model by creating 2 cosine similarity matrices, one which has the \n",
        "# similarity values for the individual books and another which has the similarity values for the individual users. \n",
        "\n",
        "# # It would be a good idea to create separate functions for the number of inputs that the user enters \n",
        "# # For upto 3 inputs the cosine similairty matrix of the books should be used, and the books that have \n",
        "# the highest cosine simialrity values to the books that were input should be recommended. \n",
        "\n",
        "# For 4 and 5 inputs you can try to profile the user to another user who has rated the same books very highly \n",
        "# and then recommend the most highly rated books of that user. There can be some issues in this approach though. \n",
        "# Firstly there can be multiple users have highly rated the books that were given as input so then how do we figure \n",
        "# out which user's profile is the most similar to input profile, do we just pick the user who has rated\n",
        "#  the max no. of books?   \n",
        "# #  And this user would have also probably rated a lot of books highly(more than 5 in number) but since we are only \n",
        "# providing 5 recs how do we decide which 5 to recommend?  \n",
        "\n"
      ]
    },
    {
      "cell_type": "code",
      "source": [
        "from google.colab import drive \n",
        "drive.mount('/content/gdrive')"
      ],
      "metadata": {
        "colab": {
          "base_uri": "https://localhost:8080/"
        },
        "id": "nZ3m_xfVa1Xz",
        "outputId": "4b5fe5b9-89fc-4dbf-8cd4-f0d04a553b87"
      },
      "id": "nZ3m_xfVa1Xz",
      "execution_count": 2,
      "outputs": [
        {
          "output_type": "stream",
          "name": "stdout",
          "text": [
            "Mounted at /content/gdrive\n"
          ]
        }
      ]
    },
    {
      "cell_type": "code",
      "execution_count": 3,
      "id": "b85f38de",
      "metadata": {
        "id": "b85f38de",
        "outputId": "c97d080b-9080-477d-87aa-76bb3221cdd1",
        "colab": {
          "base_uri": "https://localhost:8080/",
          "height": 35
        }
      },
      "outputs": [
        {
          "output_type": "execute_result",
          "data": {
            "text/plain": [
              "'/content'"
            ],
            "application/vnd.google.colaboratory.intrinsic+json": {
              "type": "string"
            }
          },
          "metadata": {},
          "execution_count": 3
        }
      ],
      "source": [
        "import os \n",
        "import numpy as np\n",
        "import pandas as pd\n",
        "import zipfile\n",
        "import tensorflow as tf\n",
        "from tensorflow import keras\n",
        "from sklearn.pipeline import Pipeline\n",
        "from sklearn.linear_model import LogisticRegression\n",
        "from sklearn.tree import DecisionTreeClassifier\n",
        "from sklearn.ensemble import RandomForestClassifier\n",
        "os.getcwd()"
      ]
    },
    {
      "cell_type": "code",
      "execution_count": 4,
      "id": "c0083082",
      "metadata": {
        "id": "c0083082",
        "outputId": "95ac54a2-0eea-475c-d050-82f0fc1fb52e",
        "colab": {
          "base_uri": "https://localhost:8080/",
          "height": 595
        }
      },
      "outputs": [
        {
          "output_type": "execute_result",
          "data": {
            "text/plain": [
              "        Id                                               Name  \\\n",
              "0  1300002                                        Still River   \n",
              "1  1300003                The Naturalist on the River Amazons   \n",
              "2  1300017  Molecular Biology of Membrane Transport Disorders   \n",
              "3  1300027  The Question Of Discrimination: Racial Inequal...   \n",
              "4  1300028                             Unlevel Playing Fields   \n",
              "\n",
              "              Authors        ISBN  Rating  PublishYear  PublishMonth  \\\n",
              "0     Harry Hunsicker  0312940904    3.69         2006            27   \n",
              "1  Henry Walter Bates  1589761979    3.91         2002            15   \n",
              "2  Stanley G. Schultz  0306451646    0.00         1996            30   \n",
              "3      Steven Shulman  0819552143    0.00         1989             1   \n",
              "4       Randy Albelda  0070009686    3.58         1997             1   \n",
              "\n",
              "   PublishDay              Publisher RatingDist5 RatingDist4 RatingDist3  \\\n",
              "0           6         Minotaur Books        5:35        4:50        3:52   \n",
              "1           8        Narrative Press        5:23        4:25        3:13   \n",
              "2           6               Springer         5:0         4:0         3:0   \n",
              "3           9               Wesleyan         5:0         4:0         3:0   \n",
              "4           1  McGraw-Hill Companies         5:8         4:7         3:3   \n",
              "\n",
              "  RatingDist2 RatingDist1 RatingDistTotal  CountsOfReview Language  \\\n",
              "0        2:12         1:2       total:151              20      NaN   \n",
              "1         2:5         1:2        total:68              11      eng   \n",
              "2         2:0         1:0         total:0               0      NaN   \n",
              "3         2:0         1:0         total:0               0      NaN   \n",
              "4         2:3         1:3        total:24               0      NaN   \n",
              "\n",
              "   pagesNumber                                        Description  \\\n",
              "0          304  <i>In a stark and haunting debut novel, Harry ...   \n",
              "1          432  Charles Darwin encouraged Bates to write this ...   \n",
              "2          657  When the six of us gathered to start planning ...   \n",
              "3          394                                                NaN   \n",
              "4          256  Brief, topical, and issues-oriented, this inno...   \n",
              "\n",
              "   Count of text reviews  \n",
              "0                     20  \n",
              "1                     11  \n",
              "2                      0  \n",
              "3                      0  \n",
              "4                      0  "
            ],
            "text/html": [
              "\n",
              "  <div id=\"df-9ac56736-6a87-4544-b5e2-92a2c1e834f4\">\n",
              "    <div class=\"colab-df-container\">\n",
              "      <div>\n",
              "<style scoped>\n",
              "    .dataframe tbody tr th:only-of-type {\n",
              "        vertical-align: middle;\n",
              "    }\n",
              "\n",
              "    .dataframe tbody tr th {\n",
              "        vertical-align: top;\n",
              "    }\n",
              "\n",
              "    .dataframe thead th {\n",
              "        text-align: right;\n",
              "    }\n",
              "</style>\n",
              "<table border=\"1\" class=\"dataframe\">\n",
              "  <thead>\n",
              "    <tr style=\"text-align: right;\">\n",
              "      <th></th>\n",
              "      <th>Id</th>\n",
              "      <th>Name</th>\n",
              "      <th>Authors</th>\n",
              "      <th>ISBN</th>\n",
              "      <th>Rating</th>\n",
              "      <th>PublishYear</th>\n",
              "      <th>PublishMonth</th>\n",
              "      <th>PublishDay</th>\n",
              "      <th>Publisher</th>\n",
              "      <th>RatingDist5</th>\n",
              "      <th>RatingDist4</th>\n",
              "      <th>RatingDist3</th>\n",
              "      <th>RatingDist2</th>\n",
              "      <th>RatingDist1</th>\n",
              "      <th>RatingDistTotal</th>\n",
              "      <th>CountsOfReview</th>\n",
              "      <th>Language</th>\n",
              "      <th>pagesNumber</th>\n",
              "      <th>Description</th>\n",
              "      <th>Count of text reviews</th>\n",
              "    </tr>\n",
              "  </thead>\n",
              "  <tbody>\n",
              "    <tr>\n",
              "      <th>0</th>\n",
              "      <td>1300002</td>\n",
              "      <td>Still River</td>\n",
              "      <td>Harry Hunsicker</td>\n",
              "      <td>0312940904</td>\n",
              "      <td>3.69</td>\n",
              "      <td>2006</td>\n",
              "      <td>27</td>\n",
              "      <td>6</td>\n",
              "      <td>Minotaur Books</td>\n",
              "      <td>5:35</td>\n",
              "      <td>4:50</td>\n",
              "      <td>3:52</td>\n",
              "      <td>2:12</td>\n",
              "      <td>1:2</td>\n",
              "      <td>total:151</td>\n",
              "      <td>20</td>\n",
              "      <td>NaN</td>\n",
              "      <td>304</td>\n",
              "      <td>&lt;i&gt;In a stark and haunting debut novel, Harry ...</td>\n",
              "      <td>20</td>\n",
              "    </tr>\n",
              "    <tr>\n",
              "      <th>1</th>\n",
              "      <td>1300003</td>\n",
              "      <td>The Naturalist on the River Amazons</td>\n",
              "      <td>Henry Walter Bates</td>\n",
              "      <td>1589761979</td>\n",
              "      <td>3.91</td>\n",
              "      <td>2002</td>\n",
              "      <td>15</td>\n",
              "      <td>8</td>\n",
              "      <td>Narrative Press</td>\n",
              "      <td>5:23</td>\n",
              "      <td>4:25</td>\n",
              "      <td>3:13</td>\n",
              "      <td>2:5</td>\n",
              "      <td>1:2</td>\n",
              "      <td>total:68</td>\n",
              "      <td>11</td>\n",
              "      <td>eng</td>\n",
              "      <td>432</td>\n",
              "      <td>Charles Darwin encouraged Bates to write this ...</td>\n",
              "      <td>11</td>\n",
              "    </tr>\n",
              "    <tr>\n",
              "      <th>2</th>\n",
              "      <td>1300017</td>\n",
              "      <td>Molecular Biology of Membrane Transport Disorders</td>\n",
              "      <td>Stanley G. Schultz</td>\n",
              "      <td>0306451646</td>\n",
              "      <td>0.00</td>\n",
              "      <td>1996</td>\n",
              "      <td>30</td>\n",
              "      <td>6</td>\n",
              "      <td>Springer</td>\n",
              "      <td>5:0</td>\n",
              "      <td>4:0</td>\n",
              "      <td>3:0</td>\n",
              "      <td>2:0</td>\n",
              "      <td>1:0</td>\n",
              "      <td>total:0</td>\n",
              "      <td>0</td>\n",
              "      <td>NaN</td>\n",
              "      <td>657</td>\n",
              "      <td>When the six of us gathered to start planning ...</td>\n",
              "      <td>0</td>\n",
              "    </tr>\n",
              "    <tr>\n",
              "      <th>3</th>\n",
              "      <td>1300027</td>\n",
              "      <td>The Question Of Discrimination: Racial Inequal...</td>\n",
              "      <td>Steven Shulman</td>\n",
              "      <td>0819552143</td>\n",
              "      <td>0.00</td>\n",
              "      <td>1989</td>\n",
              "      <td>1</td>\n",
              "      <td>9</td>\n",
              "      <td>Wesleyan</td>\n",
              "      <td>5:0</td>\n",
              "      <td>4:0</td>\n",
              "      <td>3:0</td>\n",
              "      <td>2:0</td>\n",
              "      <td>1:0</td>\n",
              "      <td>total:0</td>\n",
              "      <td>0</td>\n",
              "      <td>NaN</td>\n",
              "      <td>394</td>\n",
              "      <td>NaN</td>\n",
              "      <td>0</td>\n",
              "    </tr>\n",
              "    <tr>\n",
              "      <th>4</th>\n",
              "      <td>1300028</td>\n",
              "      <td>Unlevel Playing Fields</td>\n",
              "      <td>Randy Albelda</td>\n",
              "      <td>0070009686</td>\n",
              "      <td>3.58</td>\n",
              "      <td>1997</td>\n",
              "      <td>1</td>\n",
              "      <td>1</td>\n",
              "      <td>McGraw-Hill Companies</td>\n",
              "      <td>5:8</td>\n",
              "      <td>4:7</td>\n",
              "      <td>3:3</td>\n",
              "      <td>2:3</td>\n",
              "      <td>1:3</td>\n",
              "      <td>total:24</td>\n",
              "      <td>0</td>\n",
              "      <td>NaN</td>\n",
              "      <td>256</td>\n",
              "      <td>Brief, topical, and issues-oriented, this inno...</td>\n",
              "      <td>0</td>\n",
              "    </tr>\n",
              "  </tbody>\n",
              "</table>\n",
              "</div>\n",
              "      <button class=\"colab-df-convert\" onclick=\"convertToInteractive('df-9ac56736-6a87-4544-b5e2-92a2c1e834f4')\"\n",
              "              title=\"Convert this dataframe to an interactive table.\"\n",
              "              style=\"display:none;\">\n",
              "        \n",
              "  <svg xmlns=\"http://www.w3.org/2000/svg\" height=\"24px\"viewBox=\"0 0 24 24\"\n",
              "       width=\"24px\">\n",
              "    <path d=\"M0 0h24v24H0V0z\" fill=\"none\"/>\n",
              "    <path d=\"M18.56 5.44l.94 2.06.94-2.06 2.06-.94-2.06-.94-.94-2.06-.94 2.06-2.06.94zm-11 1L8.5 8.5l.94-2.06 2.06-.94-2.06-.94L8.5 2.5l-.94 2.06-2.06.94zm10 10l.94 2.06.94-2.06 2.06-.94-2.06-.94-.94-2.06-.94 2.06-2.06.94z\"/><path d=\"M17.41 7.96l-1.37-1.37c-.4-.4-.92-.59-1.43-.59-.52 0-1.04.2-1.43.59L10.3 9.45l-7.72 7.72c-.78.78-.78 2.05 0 2.83L4 21.41c.39.39.9.59 1.41.59.51 0 1.02-.2 1.41-.59l7.78-7.78 2.81-2.81c.8-.78.8-2.07 0-2.86zM5.41 20L4 18.59l7.72-7.72 1.47 1.35L5.41 20z\"/>\n",
              "  </svg>\n",
              "      </button>\n",
              "      \n",
              "  <style>\n",
              "    .colab-df-container {\n",
              "      display:flex;\n",
              "      flex-wrap:wrap;\n",
              "      gap: 12px;\n",
              "    }\n",
              "\n",
              "    .colab-df-convert {\n",
              "      background-color: #E8F0FE;\n",
              "      border: none;\n",
              "      border-radius: 50%;\n",
              "      cursor: pointer;\n",
              "      display: none;\n",
              "      fill: #1967D2;\n",
              "      height: 32px;\n",
              "      padding: 0 0 0 0;\n",
              "      width: 32px;\n",
              "    }\n",
              "\n",
              "    .colab-df-convert:hover {\n",
              "      background-color: #E2EBFA;\n",
              "      box-shadow: 0px 1px 2px rgba(60, 64, 67, 0.3), 0px 1px 3px 1px rgba(60, 64, 67, 0.15);\n",
              "      fill: #174EA6;\n",
              "    }\n",
              "\n",
              "    [theme=dark] .colab-df-convert {\n",
              "      background-color: #3B4455;\n",
              "      fill: #D2E3FC;\n",
              "    }\n",
              "\n",
              "    [theme=dark] .colab-df-convert:hover {\n",
              "      background-color: #434B5C;\n",
              "      box-shadow: 0px 1px 3px 1px rgba(0, 0, 0, 0.15);\n",
              "      filter: drop-shadow(0px 1px 2px rgba(0, 0, 0, 0.3));\n",
              "      fill: #FFFFFF;\n",
              "    }\n",
              "  </style>\n",
              "\n",
              "      <script>\n",
              "        const buttonEl =\n",
              "          document.querySelector('#df-9ac56736-6a87-4544-b5e2-92a2c1e834f4 button.colab-df-convert');\n",
              "        buttonEl.style.display =\n",
              "          google.colab.kernel.accessAllowed ? 'block' : 'none';\n",
              "\n",
              "        async function convertToInteractive(key) {\n",
              "          const element = document.querySelector('#df-9ac56736-6a87-4544-b5e2-92a2c1e834f4');\n",
              "          const dataTable =\n",
              "            await google.colab.kernel.invokeFunction('convertToInteractive',\n",
              "                                                     [key], {});\n",
              "          if (!dataTable) return;\n",
              "\n",
              "          const docLinkHtml = 'Like what you see? Visit the ' +\n",
              "            '<a target=\"_blank\" href=https://colab.research.google.com/notebooks/data_table.ipynb>data table notebook</a>'\n",
              "            + ' to learn more about interactive tables.';\n",
              "          element.innerHTML = '';\n",
              "          dataTable['output_type'] = 'display_data';\n",
              "          await google.colab.output.renderOutput(dataTable, element);\n",
              "          const docLink = document.createElement('div');\n",
              "          docLink.innerHTML = docLinkHtml;\n",
              "          element.appendChild(docLink);\n",
              "        }\n",
              "      </script>\n",
              "    </div>\n",
              "  </div>\n",
              "  "
            ]
          },
          "metadata": {},
          "execution_count": 4
        }
      ],
      "source": [
        "zf = zipfile.ZipFile('/content/gdrive/MyDrive/BookRec.zip') \n",
        "\n",
        "df = pd.read_csv(zf.open('book1300k-1400k.csv'))\n",
        "# df.shape\n",
        "df.head()\n",
        "#df_copy=df.copy()\n",
        "#df_copy.shape"
      ]
    },
    {
      "cell_type": "code",
      "execution_count": 4,
      "id": "c6287564",
      "metadata": {
        "id": "c6287564"
      },
      "outputs": [],
      "source": [
        ""
      ]
    },
    {
      "cell_type": "code",
      "execution_count": 5,
      "id": "37d0e87d",
      "metadata": {
        "id": "37d0e87d",
        "colab": {
          "base_uri": "https://localhost:8080/"
        },
        "outputId": "5e952565-6e45-4b04-f439-c801c269d2d5"
      },
      "outputs": [
        {
          "output_type": "stream",
          "name": "stdout",
          "text": [
            "(58292, 18)\n",
            "(39705, 20)\n",
            "(57046, 18)\n",
            "(41892, 20)\n",
            "(43622, 20)\n",
            "(38288, 20)\n",
            "(34759, 20)\n",
            "(33439, 20)\n",
            "(32986, 20)\n",
            "(32105, 19)\n",
            "(38863, 19)\n",
            "(43561, 19)\n",
            "(395957, 19)\n",
            "(56182, 18)\n",
            "(256595, 19)\n",
            "(56586, 18)\n",
            "(280256, 19)\n",
            "(55155, 18)\n",
            "(54859, 18)\n",
            "(55156, 19)\n",
            "(54273, 20)\n",
            "(49843, 20)\n",
            "(40890, 20)\n"
          ]
        }
      ],
      "source": [
        "\n",
        "\n",
        "# df = pd.read_csv(zf.open('book1500k-1600k.csv'))\n",
        "import zipfile as ZipFile\n",
        "with zipfile.ZipFile('/content/gdrive/MyDrive/BookRec.zip', 'r') as zipObj:\n",
        "   # Get list of files names in zip\n",
        "   listOfbookfiles = zipObj.namelist()\n",
        "   finaldf = pd.DataFrame()\n",
        "   for elem in listOfbookfiles:           \n",
        "        if elem.startswith('book'):\n",
        "            df=pd.read_csv(zf.open(elem))\n",
        "            print(df.shape)\n",
        "# df.shape\n",
        "# df.summary()\n"
      ]
    },
    {
      "cell_type": "code",
      "execution_count": 6,
      "id": "e1906784",
      "metadata": {
        "id": "e1906784",
        "outputId": "dc2a380d-09ad-48d3-bd8f-f1f3f46da564",
        "colab": {
          "base_uri": "https://localhost:8080/"
        }
      },
      "outputs": [
        {
          "output_type": "execute_result",
          "data": {
            "text/plain": [
              "(1850310, 21)"
            ]
          },
          "metadata": {},
          "execution_count": 6
        }
      ],
      "source": [
        "import zipfile as ZipFile\n",
        "with zipfile.ZipFile('/content/gdrive/MyDrive/BookRec.zip', 'r') as zipObj:\n",
        "   # Get list of files names in zip\n",
        "   listOfiles = zipObj.namelist()\n",
        "   books_df = pd.DataFrame()\n",
        "   for elem in listOfiles:           \n",
        "        if elem.startswith('book'):\n",
        "            df=pd.read_csv(zf.open(elem))\n",
        "#             print(list(df.columns))\n",
        "            books_df= pd.concat([df, books_df],axis=0)\n",
        "# books_df.head(10)\n",
        "books_df.shape"
      ]
    },
    {
      "cell_type": "code",
      "source": [
        "books_df.head(5)"
      ],
      "metadata": {
        "colab": {
          "base_uri": "https://localhost:8080/",
          "height": 607
        },
        "id": "yXXZHn6Ukozs",
        "outputId": "1663375c-2f5a-4084-b120-cec23f79cdaa"
      },
      "id": "yXXZHn6Ukozs",
      "execution_count": 7,
      "outputs": [
        {
          "output_type": "execute_result",
          "data": {
            "text/plain": [
              "       Id                                               Name          Authors  \\\n",
              "0  900000                                Cabinet 03: Weather  Jeffrey Kastner   \n",
              "1  900001  Workouts in a Binder for Swimmers, Triathletes...      Nick Hansen   \n",
              "2  900002                         Las 120 jornadas de Sodoma  Marquis de Sade   \n",
              "3  900004  The Traveler: An American Odyssey in the Himal...      Eric Hansen   \n",
              "4  900006                                     Vertical Smile   Richard Condon   \n",
              "\n",
              "         ISBN  Rating  PublishYear  PublishMonth  PublishDay  \\\n",
              "0  1932698019    4.00         2004             2           1   \n",
              "1  1931382743    4.48         2005            18          11   \n",
              "2  8472233847    3.12         1992             1           3   \n",
              "3  0871563509    4.18         1995             6           6   \n",
              "4  0297994026    3.74         1972            20           4   \n",
              "\n",
              "                         Publisher RatingDist5  ... RatingDist3 RatingDist2  \\\n",
              "0                          Cabinet         5:0  ...         3:0         2:0   \n",
              "1                       Velo Press        5:24  ...         3:3         2:0   \n",
              "2                         TusQuets      5:1745  ...      3:2935      2:1753   \n",
              "3               Random House, Inc.         5:6  ...         3:3         2:0   \n",
              "4  Littlehampton Book Services Ltd         5:7  ...        3:13         2:2   \n",
              "\n",
              "  RatingDist1 RatingDistTotal CountsOfReview  Language pagesNumber  \\\n",
              "0         1:0         total:2              0       NaN       112.0   \n",
              "1         1:0        total:44              2       NaN       101.0   \n",
              "2      1:1408     total:10087              9       NaN       424.0   \n",
              "3         1:0        total:17              1       NaN       102.0   \n",
              "4         1:0        total:39              1       NaN       334.0   \n",
              "\n",
              "                                         Description Count of text reviews  \\\n",
              "0  Artwork by Joe Amrhein, Maria Blondeel, Spence...                   0.0   \n",
              "1  This waterproof book of 100 swimming workouts ...                   2.0   \n",
              "2  The 120 Days of Sodom by Marquis de Sade relat...                   9.0   \n",
              "3  This loving memorial to Swift is a moving phot...                   1.0   \n",
              "4                                                NaN                   1.0   \n",
              "\n",
              "   PagesNumber  \n",
              "0          NaN  \n",
              "1          NaN  \n",
              "2          NaN  \n",
              "3          NaN  \n",
              "4          NaN  \n",
              "\n",
              "[5 rows x 21 columns]"
            ],
            "text/html": [
              "\n",
              "  <div id=\"df-2e228964-ec66-4876-903f-eba02a253e19\">\n",
              "    <div class=\"colab-df-container\">\n",
              "      <div>\n",
              "<style scoped>\n",
              "    .dataframe tbody tr th:only-of-type {\n",
              "        vertical-align: middle;\n",
              "    }\n",
              "\n",
              "    .dataframe tbody tr th {\n",
              "        vertical-align: top;\n",
              "    }\n",
              "\n",
              "    .dataframe thead th {\n",
              "        text-align: right;\n",
              "    }\n",
              "</style>\n",
              "<table border=\"1\" class=\"dataframe\">\n",
              "  <thead>\n",
              "    <tr style=\"text-align: right;\">\n",
              "      <th></th>\n",
              "      <th>Id</th>\n",
              "      <th>Name</th>\n",
              "      <th>Authors</th>\n",
              "      <th>ISBN</th>\n",
              "      <th>Rating</th>\n",
              "      <th>PublishYear</th>\n",
              "      <th>PublishMonth</th>\n",
              "      <th>PublishDay</th>\n",
              "      <th>Publisher</th>\n",
              "      <th>RatingDist5</th>\n",
              "      <th>...</th>\n",
              "      <th>RatingDist3</th>\n",
              "      <th>RatingDist2</th>\n",
              "      <th>RatingDist1</th>\n",
              "      <th>RatingDistTotal</th>\n",
              "      <th>CountsOfReview</th>\n",
              "      <th>Language</th>\n",
              "      <th>pagesNumber</th>\n",
              "      <th>Description</th>\n",
              "      <th>Count of text reviews</th>\n",
              "      <th>PagesNumber</th>\n",
              "    </tr>\n",
              "  </thead>\n",
              "  <tbody>\n",
              "    <tr>\n",
              "      <th>0</th>\n",
              "      <td>900000</td>\n",
              "      <td>Cabinet 03: Weather</td>\n",
              "      <td>Jeffrey Kastner</td>\n",
              "      <td>1932698019</td>\n",
              "      <td>4.00</td>\n",
              "      <td>2004</td>\n",
              "      <td>2</td>\n",
              "      <td>1</td>\n",
              "      <td>Cabinet</td>\n",
              "      <td>5:0</td>\n",
              "      <td>...</td>\n",
              "      <td>3:0</td>\n",
              "      <td>2:0</td>\n",
              "      <td>1:0</td>\n",
              "      <td>total:2</td>\n",
              "      <td>0</td>\n",
              "      <td>NaN</td>\n",
              "      <td>112.0</td>\n",
              "      <td>Artwork by Joe Amrhein, Maria Blondeel, Spence...</td>\n",
              "      <td>0.0</td>\n",
              "      <td>NaN</td>\n",
              "    </tr>\n",
              "    <tr>\n",
              "      <th>1</th>\n",
              "      <td>900001</td>\n",
              "      <td>Workouts in a Binder for Swimmers, Triathletes...</td>\n",
              "      <td>Nick Hansen</td>\n",
              "      <td>1931382743</td>\n",
              "      <td>4.48</td>\n",
              "      <td>2005</td>\n",
              "      <td>18</td>\n",
              "      <td>11</td>\n",
              "      <td>Velo Press</td>\n",
              "      <td>5:24</td>\n",
              "      <td>...</td>\n",
              "      <td>3:3</td>\n",
              "      <td>2:0</td>\n",
              "      <td>1:0</td>\n",
              "      <td>total:44</td>\n",
              "      <td>2</td>\n",
              "      <td>NaN</td>\n",
              "      <td>101.0</td>\n",
              "      <td>This waterproof book of 100 swimming workouts ...</td>\n",
              "      <td>2.0</td>\n",
              "      <td>NaN</td>\n",
              "    </tr>\n",
              "    <tr>\n",
              "      <th>2</th>\n",
              "      <td>900002</td>\n",
              "      <td>Las 120 jornadas de Sodoma</td>\n",
              "      <td>Marquis de Sade</td>\n",
              "      <td>8472233847</td>\n",
              "      <td>3.12</td>\n",
              "      <td>1992</td>\n",
              "      <td>1</td>\n",
              "      <td>3</td>\n",
              "      <td>TusQuets</td>\n",
              "      <td>5:1745</td>\n",
              "      <td>...</td>\n",
              "      <td>3:2935</td>\n",
              "      <td>2:1753</td>\n",
              "      <td>1:1408</td>\n",
              "      <td>total:10087</td>\n",
              "      <td>9</td>\n",
              "      <td>NaN</td>\n",
              "      <td>424.0</td>\n",
              "      <td>The 120 Days of Sodom by Marquis de Sade relat...</td>\n",
              "      <td>9.0</td>\n",
              "      <td>NaN</td>\n",
              "    </tr>\n",
              "    <tr>\n",
              "      <th>3</th>\n",
              "      <td>900004</td>\n",
              "      <td>The Traveler: An American Odyssey in the Himal...</td>\n",
              "      <td>Eric Hansen</td>\n",
              "      <td>0871563509</td>\n",
              "      <td>4.18</td>\n",
              "      <td>1995</td>\n",
              "      <td>6</td>\n",
              "      <td>6</td>\n",
              "      <td>Random House, Inc.</td>\n",
              "      <td>5:6</td>\n",
              "      <td>...</td>\n",
              "      <td>3:3</td>\n",
              "      <td>2:0</td>\n",
              "      <td>1:0</td>\n",
              "      <td>total:17</td>\n",
              "      <td>1</td>\n",
              "      <td>NaN</td>\n",
              "      <td>102.0</td>\n",
              "      <td>This loving memorial to Swift is a moving phot...</td>\n",
              "      <td>1.0</td>\n",
              "      <td>NaN</td>\n",
              "    </tr>\n",
              "    <tr>\n",
              "      <th>4</th>\n",
              "      <td>900006</td>\n",
              "      <td>Vertical Smile</td>\n",
              "      <td>Richard Condon</td>\n",
              "      <td>0297994026</td>\n",
              "      <td>3.74</td>\n",
              "      <td>1972</td>\n",
              "      <td>20</td>\n",
              "      <td>4</td>\n",
              "      <td>Littlehampton Book Services Ltd</td>\n",
              "      <td>5:7</td>\n",
              "      <td>...</td>\n",
              "      <td>3:13</td>\n",
              "      <td>2:2</td>\n",
              "      <td>1:0</td>\n",
              "      <td>total:39</td>\n",
              "      <td>1</td>\n",
              "      <td>NaN</td>\n",
              "      <td>334.0</td>\n",
              "      <td>NaN</td>\n",
              "      <td>1.0</td>\n",
              "      <td>NaN</td>\n",
              "    </tr>\n",
              "  </tbody>\n",
              "</table>\n",
              "<p>5 rows × 21 columns</p>\n",
              "</div>\n",
              "      <button class=\"colab-df-convert\" onclick=\"convertToInteractive('df-2e228964-ec66-4876-903f-eba02a253e19')\"\n",
              "              title=\"Convert this dataframe to an interactive table.\"\n",
              "              style=\"display:none;\">\n",
              "        \n",
              "  <svg xmlns=\"http://www.w3.org/2000/svg\" height=\"24px\"viewBox=\"0 0 24 24\"\n",
              "       width=\"24px\">\n",
              "    <path d=\"M0 0h24v24H0V0z\" fill=\"none\"/>\n",
              "    <path d=\"M18.56 5.44l.94 2.06.94-2.06 2.06-.94-2.06-.94-.94-2.06-.94 2.06-2.06.94zm-11 1L8.5 8.5l.94-2.06 2.06-.94-2.06-.94L8.5 2.5l-.94 2.06-2.06.94zm10 10l.94 2.06.94-2.06 2.06-.94-2.06-.94-.94-2.06-.94 2.06-2.06.94z\"/><path d=\"M17.41 7.96l-1.37-1.37c-.4-.4-.92-.59-1.43-.59-.52 0-1.04.2-1.43.59L10.3 9.45l-7.72 7.72c-.78.78-.78 2.05 0 2.83L4 21.41c.39.39.9.59 1.41.59.51 0 1.02-.2 1.41-.59l7.78-7.78 2.81-2.81c.8-.78.8-2.07 0-2.86zM5.41 20L4 18.59l7.72-7.72 1.47 1.35L5.41 20z\"/>\n",
              "  </svg>\n",
              "      </button>\n",
              "      \n",
              "  <style>\n",
              "    .colab-df-container {\n",
              "      display:flex;\n",
              "      flex-wrap:wrap;\n",
              "      gap: 12px;\n",
              "    }\n",
              "\n",
              "    .colab-df-convert {\n",
              "      background-color: #E8F0FE;\n",
              "      border: none;\n",
              "      border-radius: 50%;\n",
              "      cursor: pointer;\n",
              "      display: none;\n",
              "      fill: #1967D2;\n",
              "      height: 32px;\n",
              "      padding: 0 0 0 0;\n",
              "      width: 32px;\n",
              "    }\n",
              "\n",
              "    .colab-df-convert:hover {\n",
              "      background-color: #E2EBFA;\n",
              "      box-shadow: 0px 1px 2px rgba(60, 64, 67, 0.3), 0px 1px 3px 1px rgba(60, 64, 67, 0.15);\n",
              "      fill: #174EA6;\n",
              "    }\n",
              "\n",
              "    [theme=dark] .colab-df-convert {\n",
              "      background-color: #3B4455;\n",
              "      fill: #D2E3FC;\n",
              "    }\n",
              "\n",
              "    [theme=dark] .colab-df-convert:hover {\n",
              "      background-color: #434B5C;\n",
              "      box-shadow: 0px 1px 3px 1px rgba(0, 0, 0, 0.15);\n",
              "      filter: drop-shadow(0px 1px 2px rgba(0, 0, 0, 0.3));\n",
              "      fill: #FFFFFF;\n",
              "    }\n",
              "  </style>\n",
              "\n",
              "      <script>\n",
              "        const buttonEl =\n",
              "          document.querySelector('#df-2e228964-ec66-4876-903f-eba02a253e19 button.colab-df-convert');\n",
              "        buttonEl.style.display =\n",
              "          google.colab.kernel.accessAllowed ? 'block' : 'none';\n",
              "\n",
              "        async function convertToInteractive(key) {\n",
              "          const element = document.querySelector('#df-2e228964-ec66-4876-903f-eba02a253e19');\n",
              "          const dataTable =\n",
              "            await google.colab.kernel.invokeFunction('convertToInteractive',\n",
              "                                                     [key], {});\n",
              "          if (!dataTable) return;\n",
              "\n",
              "          const docLinkHtml = 'Like what you see? Visit the ' +\n",
              "            '<a target=\"_blank\" href=https://colab.research.google.com/notebooks/data_table.ipynb>data table notebook</a>'\n",
              "            + ' to learn more about interactive tables.';\n",
              "          element.innerHTML = '';\n",
              "          dataTable['output_type'] = 'display_data';\n",
              "          await google.colab.output.renderOutput(dataTable, element);\n",
              "          const docLink = document.createElement('div');\n",
              "          docLink.innerHTML = docLinkHtml;\n",
              "          element.appendChild(docLink);\n",
              "        }\n",
              "      </script>\n",
              "    </div>\n",
              "  </div>\n",
              "  "
            ]
          },
          "metadata": {},
          "execution_count": 7
        }
      ]
    },
    {
      "cell_type": "code",
      "execution_count": 8,
      "id": "9a1f27c0",
      "metadata": {
        "id": "9a1f27c0",
        "outputId": "8ce939ba-51f8-42dd-ac46-a35f76fa3ab6",
        "colab": {
          "base_uri": "https://localhost:8080/"
        }
      },
      "outputs": [
        {
          "output_type": "execute_result",
          "data": {
            "text/plain": [
              "(1850310, 21)"
            ]
          },
          "metadata": {},
          "execution_count": 8
        }
      ],
      "source": [
        "books_df.shape"
      ]
    },
    {
      "cell_type": "code",
      "execution_count": 9,
      "id": "b16e3784",
      "metadata": {
        "id": "b16e3784"
      },
      "outputs": [],
      "source": [
        "books_df.drop(['PagesNumber'], axis=1, inplace=True)"
      ]
    },
    {
      "cell_type": "code",
      "execution_count": 10,
      "id": "12130808",
      "metadata": {
        "id": "12130808",
        "outputId": "2c1c6370-b33e-4ef7-8c40-8eb839d9b640",
        "colab": {
          "base_uri": "https://localhost:8080/"
        }
      },
      "outputs": [
        {
          "output_type": "execute_result",
          "data": {
            "text/plain": [
              "32.0       22348\n",
              "256.0      21473\n",
              "192.0      18992\n",
              "224.0      18386\n",
              "128.0      17051\n",
              "           ...  \n",
              "3026.0         1\n",
              "2019.0         1\n",
              "15189.0        1\n",
              "4272.0         1\n",
              "4242.0         1\n",
              "Name: pagesNumber, Length: 2436, dtype: int64"
            ]
          },
          "metadata": {},
          "execution_count": 10
        }
      ],
      "source": [
        "books_df['pagesNumber'].value_counts()"
      ]
    },
    {
      "cell_type": "code",
      "execution_count": 11,
      "id": "5642656f",
      "metadata": {
        "id": "5642656f",
        "outputId": "0ce292a8-ea5e-4ecd-a482-739556e8b3c3",
        "colab": {
          "base_uri": "https://localhost:8080/"
        }
      },
      "outputs": [
        {
          "output_type": "execute_result",
          "data": {
            "text/plain": [
              "1015232"
            ]
          },
          "metadata": {},
          "execution_count": 11
        }
      ],
      "source": [
        "books_df['pagesNumber'].isnull().sum()"
      ]
    },
    {
      "cell_type": "code",
      "execution_count": 12,
      "id": "4f573ccc",
      "metadata": {
        "id": "4f573ccc"
      },
      "outputs": [],
      "source": [
        "books_df['pagesNumber'] = books_df['pagesNumber'].fillna(256)"
      ]
    },
    {
      "cell_type": "code",
      "execution_count": 13,
      "id": "2a039fd4",
      "metadata": {
        "id": "2a039fd4"
      },
      "outputs": [],
      "source": [
        "# books_df['Count of text reviews'].value_counts()"
      ]
    },
    {
      "cell_type": "code",
      "execution_count": 14,
      "id": "f5cb0d25",
      "metadata": {
        "id": "f5cb0d25",
        "outputId": "f1978797-c200-4ab2-f16f-578069ff508f",
        "colab": {
          "base_uri": "https://localhost:8080/"
        }
      },
      "outputs": [
        {
          "output_type": "execute_result",
          "data": {
            "text/plain": [
              "eng      180338\n",
              "en-US     21489\n",
              "fre       16327\n",
              "ger       11470\n",
              "en-GB      7767\n",
              "          ...  \n",
              "chp           1\n",
              "ssw           1\n",
              "ada           1\n",
              "zap           1\n",
              "myn           1\n",
              "Name: Language, Length: 124, dtype: int64"
            ]
          },
          "metadata": {},
          "execution_count": 14
        }
      ],
      "source": [
        "books_df['Language'].value_counts()"
      ]
    },
    {
      "cell_type": "code",
      "execution_count": 15,
      "id": "1582862d",
      "metadata": {
        "id": "1582862d",
        "outputId": "c86b5c10-b71e-47f5-bbc6-3073d289c60d",
        "colab": {
          "base_uri": "https://localhost:8080/"
        }
      },
      "outputs": [
        {
          "output_type": "execute_result",
          "data": {
            "text/plain": [
              "1598488"
            ]
          },
          "metadata": {},
          "execution_count": 15
        }
      ],
      "source": [
        "books_df['Language'].isnull().sum()"
      ]
    },
    {
      "cell_type": "code",
      "execution_count": 16,
      "id": "acc28b68",
      "metadata": {
        "id": "acc28b68"
      },
      "outputs": [],
      "source": [
        "books_df['Language'] = books_df['Language'].fillna('eng')"
      ]
    },
    {
      "cell_type": "code",
      "execution_count": 17,
      "id": "8ab7b3dc",
      "metadata": {
        "id": "8ab7b3dc",
        "outputId": "a0c921de-1d71-4df9-9f43-2b966156ae47",
        "colab": {
          "base_uri": "https://localhost:8080/"
        }
      },
      "outputs": [
        {
          "output_type": "execute_result",
          "data": {
            "text/plain": [
              "0"
            ]
          },
          "metadata": {},
          "execution_count": 17
        }
      ],
      "source": [
        "books_df['Language'].isnull().sum()"
      ]
    },
    {
      "cell_type": "code",
      "execution_count": 18,
      "id": "2db56115",
      "metadata": {
        "id": "2db56115",
        "outputId": "dc245889-54b9-4deb-829c-dd0c114aa357",
        "colab": {
          "base_uri": "https://localhost:8080/"
        }
      },
      "outputs": [
        {
          "output_type": "execute_result",
          "data": {
            "text/plain": [
              "0"
            ]
          },
          "metadata": {},
          "execution_count": 18
        }
      ],
      "source": [
        "books_df['Authors'].isnull().sum()"
      ]
    },
    {
      "cell_type": "markdown",
      "source": [
        "To replace all versions of English with one standard one. "
      ],
      "metadata": {
        "id": "LDvcvrKVkEr0"
      },
      "id": "LDvcvrKVkEr0"
    },
    {
      "cell_type": "code",
      "execution_count": 19,
      "id": "dcdcd105",
      "metadata": {
        "id": "dcdcd105"
      },
      "outputs": [],
      "source": [
        "books_df['Language']=books_df['Language'].replace({'en-US':'eng', 'en-GB':'eng', 'en-CA':'eng'})"
      ]
    },
    {
      "cell_type": "code",
      "execution_count": 20,
      "id": "4f544d94",
      "metadata": {
        "id": "4f544d94",
        "outputId": "0af3f3ce-41cd-438a-98eb-a6cd81200f15",
        "colab": {
          "base_uri": "https://localhost:8080/"
        }
      },
      "outputs": [
        {
          "output_type": "execute_result",
          "data": {
            "text/plain": [
              "eng    1808160\n",
              "fre      16327\n",
              "ger      11470\n",
              "spa       7245\n",
              "jpn       2059\n",
              "        ...   \n",
              "myv          1\n",
              "zul          1\n",
              "nub          1\n",
              "ada          1\n",
              "myn          1\n",
              "Name: Language, Length: 121, dtype: int64"
            ]
          },
          "metadata": {},
          "execution_count": 20
        }
      ],
      "source": [
        "books_df['Language'].value_counts()"
      ]
    },
    {
      "cell_type": "code",
      "source": [
        "books_df.shape"
      ],
      "metadata": {
        "colab": {
          "base_uri": "https://localhost:8080/"
        },
        "id": "DadvwdhwlKUr",
        "outputId": "c539302c-3689-4298-a9e5-23ab2bde8452"
      },
      "id": "DadvwdhwlKUr",
      "execution_count": 21,
      "outputs": [
        {
          "output_type": "execute_result",
          "data": {
            "text/plain": [
              "(1850310, 20)"
            ]
          },
          "metadata": {},
          "execution_count": 21
        }
      ]
    },
    {
      "cell_type": "markdown",
      "source": [
        "We want to keep only English language books in our dataframe, so we'll remove those written in other languages eg. French,Japanese etc. "
      ],
      "metadata": {
        "id": "FVFfumBXkSUf"
      },
      "id": "FVFfumBXkSUf"
    },
    {
      "cell_type": "code",
      "source": [
        "books_df = books_df[books_df['Language'] == 'eng']\n",
        "books_df.shape"
      ],
      "metadata": {
        "colab": {
          "base_uri": "https://localhost:8080/"
        },
        "id": "zdAEG9bRkB9w",
        "outputId": "7c99f92d-926b-49b8-b84b-04525ea384f7"
      },
      "id": "zdAEG9bRkB9w",
      "execution_count": 22,
      "outputs": [
        {
          "output_type": "execute_result",
          "data": {
            "text/plain": [
              "(1808160, 20)"
            ]
          },
          "metadata": {},
          "execution_count": 22
        }
      ]
    },
    {
      "cell_type": "code",
      "source": [
        "books_df['Language'].value_counts()"
      ],
      "metadata": {
        "colab": {
          "base_uri": "https://localhost:8080/"
        },
        "id": "vViOgMBQkCLb",
        "outputId": "0087f4e0-2b37-4ebd-f27d-5c771fa5f0ae"
      },
      "id": "vViOgMBQkCLb",
      "execution_count": 23,
      "outputs": [
        {
          "output_type": "execute_result",
          "data": {
            "text/plain": [
              "eng    1808160\n",
              "Name: Language, dtype: int64"
            ]
          },
          "metadata": {},
          "execution_count": 23
        }
      ]
    },
    {
      "cell_type": "code",
      "execution_count": 24,
      "id": "87a3405c",
      "metadata": {
        "id": "87a3405c"
      },
      "outputs": [],
      "source": [
        "# books_df[books_df['Name']=='Siddhartha']"
      ]
    },
    {
      "cell_type": "code",
      "execution_count": 25,
      "id": "d1ebffa3",
      "metadata": {
        "id": "d1ebffa3",
        "outputId": "6944fd4a-5b13-4fae-e696-c2bc45ab5803",
        "colab": {
          "base_uri": "https://localhost:8080/"
        }
      },
      "outputs": [
        {
          "output_type": "stream",
          "name": "stdout",
          "text": [
            "book1-100k.csv\n",
            "book1000k-1100k.csv\n",
            "book100k-200k.csv\n",
            "book1100k-1200k.csv\n",
            "book1200k-1300k.csv\n",
            "book1300k-1400k.csv\n",
            "book1400k-1500k.csv\n",
            "book1500k-1600k.csv\n",
            "book1600k-1700k.csv\n",
            "book1700k-1800k.csv\n",
            "book1800k-1900k.csv\n",
            "book1900k-2000k.csv\n",
            "book2000k-3000k.csv\n",
            "book200k-300k.csv\n",
            "book3000k-4000k.csv\n",
            "book300k-400k.csv\n",
            "book4000k-5000k.csv\n",
            "book400k-500k.csv\n",
            "book500k-600k.csv\n",
            "book600k-700k.csv\n",
            "book700k-800k.csv\n",
            "book800k-900k.csv\n",
            "book900k-1000k.csv\n",
            "user_rating_0_to_1000.csv\n",
            "user_rating_1000_to_2000.csv\n",
            "user_rating_2000_to_3000.csv\n",
            "user_rating_3000_to_4000.csv\n",
            "user_rating_4000_to_5000.csv\n",
            "user_rating_5000_to_6000.csv\n",
            "user_rating_6000_to_11000.csv\n"
          ]
        }
      ],
      "source": [
        "import zipfile as ZipFile\n",
        "with zipfile.ZipFile('/content/gdrive/MyDrive/BookRec.zip', 'r') as zipObj:\n",
        "   # Get list of files names in zip\n",
        "   listOfiles = zipObj.namelist()\n",
        "   for elem in listOfiles:\n",
        "      print(elem)"
      ]
    },
    {
      "cell_type": "code",
      "execution_count": 26,
      "id": "fbbf8ea1",
      "metadata": {
        "id": "fbbf8ea1",
        "outputId": "74258f49-c6e5-4c92-aef2-b1e933a814f1",
        "colab": {
          "base_uri": "https://localhost:8080/"
        }
      },
      "outputs": [
        {
          "output_type": "stream",
          "name": "stdout",
          "text": [
            "(51945, 3)\n",
            "(42986, 3)\n",
            "(30633, 3)\n",
            "(46970, 3)\n",
            "(46903, 3)\n",
            "(15481, 3)\n",
            "(127678, 3)\n"
          ]
        }
      ],
      "source": [
        "import zipfile as ZipFile\n",
        "with zipfile.ZipFile('/content/gdrive/MyDrive/BookRec.zip', 'r') as zipObj:\n",
        "   # Get list of files names in zip\n",
        "   listOfiles = zipObj.namelist()\n",
        "   finaldf = pd.DataFrame()\n",
        "   for elem in listOfiles:           \n",
        "        if elem.startswith('user'):\n",
        "            df=pd.read_csv(zf.open(elem))\n",
        "            print(df.shape)\n",
        "            #finaldf= pd.concat([df, finaldf],axis=1).drop_duplicates()\n",
        "#finaldf.shape\n",
        "# finaldf.head(100)"
      ]
    },
    {
      "cell_type": "code",
      "execution_count": 27,
      "id": "534275a4",
      "metadata": {
        "id": "534275a4",
        "outputId": "53581466-f704-442f-cb95-4f1f35819511",
        "colab": {
          "base_uri": "https://localhost:8080/"
        }
      },
      "outputs": [
        {
          "output_type": "execute_result",
          "data": {
            "text/plain": [
              "(362596, 3)"
            ]
          },
          "metadata": {},
          "execution_count": 27
        }
      ],
      "source": [
        "import zipfile as ZipFile\n",
        "with zipfile.ZipFile('/content/gdrive/MyDrive/BookRec.zip', 'r') as zipObj:\n",
        "   # Get list of files names in zip\n",
        "   listOfiles = zipObj.namelist()\n",
        "   finaldf = pd.DataFrame()\n",
        "   for elem in listOfiles:           \n",
        "        if elem.startswith('user'):\n",
        "            df=pd.read_csv(zf.open(elem))\n",
        "#             print(list(df.columns))\n",
        "            finaldf= pd.concat([df, finaldf],axis=0)\n",
        "finaldf.shape\n",
        "# finaldf.head(100)"
      ]
    },
    {
      "cell_type": "code",
      "execution_count": 28,
      "id": "9a69b07d",
      "metadata": {
        "id": "9a69b07d",
        "outputId": "3e003917-db61-45d9-a103-4cb466808d97",
        "colab": {
          "base_uri": "https://localhost:8080/",
          "height": 195
        }
      },
      "outputs": [
        {
          "output_type": "execute_result",
          "data": {
            "text/plain": [
              "     ID                                     Name           Rating\n",
              "0  6675  Baxter, the Pig Who Wanted to Be Kosher   it was amazing\n",
              "1  6675                  Set This House in Order  really liked it\n",
              "2  6675                            Paradise Park  really liked it\n",
              "3  7027                            Paradise Park         liked it\n",
              "4  6675                     The Dead Fish Museum   it was amazing"
            ],
            "text/html": [
              "\n",
              "  <div id=\"df-8fef5df4-0803-4a91-adf3-c795978c70cd\">\n",
              "    <div class=\"colab-df-container\">\n",
              "      <div>\n",
              "<style scoped>\n",
              "    .dataframe tbody tr th:only-of-type {\n",
              "        vertical-align: middle;\n",
              "    }\n",
              "\n",
              "    .dataframe tbody tr th {\n",
              "        vertical-align: top;\n",
              "    }\n",
              "\n",
              "    .dataframe thead th {\n",
              "        text-align: right;\n",
              "    }\n",
              "</style>\n",
              "<table border=\"1\" class=\"dataframe\">\n",
              "  <thead>\n",
              "    <tr style=\"text-align: right;\">\n",
              "      <th></th>\n",
              "      <th>ID</th>\n",
              "      <th>Name</th>\n",
              "      <th>Rating</th>\n",
              "    </tr>\n",
              "  </thead>\n",
              "  <tbody>\n",
              "    <tr>\n",
              "      <th>0</th>\n",
              "      <td>6675</td>\n",
              "      <td>Baxter, the Pig Who Wanted to Be Kosher</td>\n",
              "      <td>it was amazing</td>\n",
              "    </tr>\n",
              "    <tr>\n",
              "      <th>1</th>\n",
              "      <td>6675</td>\n",
              "      <td>Set This House in Order</td>\n",
              "      <td>really liked it</td>\n",
              "    </tr>\n",
              "    <tr>\n",
              "      <th>2</th>\n",
              "      <td>6675</td>\n",
              "      <td>Paradise Park</td>\n",
              "      <td>really liked it</td>\n",
              "    </tr>\n",
              "    <tr>\n",
              "      <th>3</th>\n",
              "      <td>7027</td>\n",
              "      <td>Paradise Park</td>\n",
              "      <td>liked it</td>\n",
              "    </tr>\n",
              "    <tr>\n",
              "      <th>4</th>\n",
              "      <td>6675</td>\n",
              "      <td>The Dead Fish Museum</td>\n",
              "      <td>it was amazing</td>\n",
              "    </tr>\n",
              "  </tbody>\n",
              "</table>\n",
              "</div>\n",
              "      <button class=\"colab-df-convert\" onclick=\"convertToInteractive('df-8fef5df4-0803-4a91-adf3-c795978c70cd')\"\n",
              "              title=\"Convert this dataframe to an interactive table.\"\n",
              "              style=\"display:none;\">\n",
              "        \n",
              "  <svg xmlns=\"http://www.w3.org/2000/svg\" height=\"24px\"viewBox=\"0 0 24 24\"\n",
              "       width=\"24px\">\n",
              "    <path d=\"M0 0h24v24H0V0z\" fill=\"none\"/>\n",
              "    <path d=\"M18.56 5.44l.94 2.06.94-2.06 2.06-.94-2.06-.94-.94-2.06-.94 2.06-2.06.94zm-11 1L8.5 8.5l.94-2.06 2.06-.94-2.06-.94L8.5 2.5l-.94 2.06-2.06.94zm10 10l.94 2.06.94-2.06 2.06-.94-2.06-.94-.94-2.06-.94 2.06-2.06.94z\"/><path d=\"M17.41 7.96l-1.37-1.37c-.4-.4-.92-.59-1.43-.59-.52 0-1.04.2-1.43.59L10.3 9.45l-7.72 7.72c-.78.78-.78 2.05 0 2.83L4 21.41c.39.39.9.59 1.41.59.51 0 1.02-.2 1.41-.59l7.78-7.78 2.81-2.81c.8-.78.8-2.07 0-2.86zM5.41 20L4 18.59l7.72-7.72 1.47 1.35L5.41 20z\"/>\n",
              "  </svg>\n",
              "      </button>\n",
              "      \n",
              "  <style>\n",
              "    .colab-df-container {\n",
              "      display:flex;\n",
              "      flex-wrap:wrap;\n",
              "      gap: 12px;\n",
              "    }\n",
              "\n",
              "    .colab-df-convert {\n",
              "      background-color: #E8F0FE;\n",
              "      border: none;\n",
              "      border-radius: 50%;\n",
              "      cursor: pointer;\n",
              "      display: none;\n",
              "      fill: #1967D2;\n",
              "      height: 32px;\n",
              "      padding: 0 0 0 0;\n",
              "      width: 32px;\n",
              "    }\n",
              "\n",
              "    .colab-df-convert:hover {\n",
              "      background-color: #E2EBFA;\n",
              "      box-shadow: 0px 1px 2px rgba(60, 64, 67, 0.3), 0px 1px 3px 1px rgba(60, 64, 67, 0.15);\n",
              "      fill: #174EA6;\n",
              "    }\n",
              "\n",
              "    [theme=dark] .colab-df-convert {\n",
              "      background-color: #3B4455;\n",
              "      fill: #D2E3FC;\n",
              "    }\n",
              "\n",
              "    [theme=dark] .colab-df-convert:hover {\n",
              "      background-color: #434B5C;\n",
              "      box-shadow: 0px 1px 3px 1px rgba(0, 0, 0, 0.15);\n",
              "      filter: drop-shadow(0px 1px 2px rgba(0, 0, 0, 0.3));\n",
              "      fill: #FFFFFF;\n",
              "    }\n",
              "  </style>\n",
              "\n",
              "      <script>\n",
              "        const buttonEl =\n",
              "          document.querySelector('#df-8fef5df4-0803-4a91-adf3-c795978c70cd button.colab-df-convert');\n",
              "        buttonEl.style.display =\n",
              "          google.colab.kernel.accessAllowed ? 'block' : 'none';\n",
              "\n",
              "        async function convertToInteractive(key) {\n",
              "          const element = document.querySelector('#df-8fef5df4-0803-4a91-adf3-c795978c70cd');\n",
              "          const dataTable =\n",
              "            await google.colab.kernel.invokeFunction('convertToInteractive',\n",
              "                                                     [key], {});\n",
              "          if (!dataTable) return;\n",
              "\n",
              "          const docLinkHtml = 'Like what you see? Visit the ' +\n",
              "            '<a target=\"_blank\" href=https://colab.research.google.com/notebooks/data_table.ipynb>data table notebook</a>'\n",
              "            + ' to learn more about interactive tables.';\n",
              "          element.innerHTML = '';\n",
              "          dataTable['output_type'] = 'display_data';\n",
              "          await google.colab.output.renderOutput(dataTable, element);\n",
              "          const docLink = document.createElement('div');\n",
              "          docLink.innerHTML = docLinkHtml;\n",
              "          element.appendChild(docLink);\n",
              "        }\n",
              "      </script>\n",
              "    </div>\n",
              "  </div>\n",
              "  "
            ]
          },
          "metadata": {},
          "execution_count": 28
        }
      ],
      "source": [
        "finaldf.head(5)"
      ]
    },
    {
      "cell_type": "markdown",
      "source": [
        "Using value counts on the ID column we can see the number of unique users in our dataset. "
      ],
      "metadata": {
        "id": "tQkdWvUgjN3H"
      },
      "id": "tQkdWvUgjN3H"
    },
    {
      "cell_type": "code",
      "source": [
        "finaldf.ID.value_counts()"
      ],
      "metadata": {
        "colab": {
          "base_uri": "https://localhost:8080/"
        },
        "id": "wJTG42NTjFJC",
        "outputId": "87cb9e6f-e5cd-4ca2-bbe6-f42d6db64bdc"
      },
      "id": "wJTG42NTjFJC",
      "execution_count": 29,
      "outputs": [
        {
          "output_type": "execute_result",
          "data": {
            "text/plain": [
              "4196    3637\n",
              "4806    3236\n",
              "4693    2736\n",
              "1134    2089\n",
              "284     2052\n",
              "        ... \n",
              "7399       1\n",
              "5971       1\n",
              "7400       1\n",
              "7401       1\n",
              "4828       1\n",
              "Name: ID, Length: 8919, dtype: int64"
            ]
          },
          "metadata": {},
          "execution_count": 29
        }
      ]
    },
    {
      "cell_type": "markdown",
      "source": [
        ""
      ],
      "metadata": {
        "id": "vrMs3HWir8R_"
      },
      "id": "vrMs3HWir8R_"
    },
    {
      "cell_type": "code",
      "source": [
        "finaldf.Name.value_counts()"
      ],
      "metadata": {
        "colab": {
          "base_uri": "https://localhost:8080/"
        },
        "id": "0q6JXqMAr5cl",
        "outputId": "bc50aba9-707a-4f28-8239-b66d15a2ab36"
      },
      "id": "0q6JXqMAr5cl",
      "execution_count": 30,
      "outputs": [
        {
          "output_type": "execute_result",
          "data": {
            "text/plain": [
              "Rating                                    4765\n",
              "The Catcher in the Rye                     985\n",
              "The Great Gatsby                           885\n",
              "The Da Vinci Code (Robert Langdon, #2)     846\n",
              "To Kill a Mockingbird                      830\n",
              "                                          ... \n",
              "فریدریش نیچه (نسل قلم 84)                    1\n",
              "ژان پل سارتر (نسل قلم 61)                    1\n",
              "زیگموند فروید (نسل قلم 31)                   1\n",
              "دل دلدادگی، جلد اول                          1\n",
              "The Encantadas and Other Stories             1\n",
              "Name: Name, Length: 103533, dtype: int64"
            ]
          },
          "metadata": {},
          "execution_count": 30
        }
      ]
    },
    {
      "cell_type": "code",
      "execution_count": 31,
      "id": "c364dedd",
      "metadata": {
        "id": "c364dedd",
        "outputId": "37fafb49-5233-4a93-8b33-f50bebe6de9d",
        "colab": {
          "base_uri": "https://localhost:8080/"
        }
      },
      "outputs": [
        {
          "output_type": "execute_result",
          "data": {
            "text/plain": [
              "really liked it                      132808\n",
              "liked it                              96047\n",
              "it was amazing                        92354\n",
              "it was ok                             28811\n",
              "did not like it                        7811\n",
              "This user doesn't have any rating      4765\n",
              "Name: Rating, dtype: int64"
            ]
          },
          "metadata": {},
          "execution_count": 31
        }
      ],
      "source": [
        "finaldf.Rating.value_counts()"
      ]
    },
    {
      "cell_type": "code",
      "execution_count": 31,
      "id": "a52f34bf",
      "metadata": {
        "id": "a52f34bf"
      },
      "outputs": [],
      "source": [
        ""
      ]
    },
    {
      "cell_type": "code",
      "execution_count": 32,
      "id": "573e2617",
      "metadata": {
        "id": "573e2617"
      },
      "outputs": [],
      "source": [
        "index_names = finaldf[finaldf['Name'] == 'Rating'].index\n",
        "finaldf.drop(index_names, inplace = True) #drop rows with no ratings "
      ]
    },
    {
      "cell_type": "code",
      "execution_count": 33,
      "id": "3a25287b",
      "metadata": {
        "id": "3a25287b",
        "outputId": "378ca7bf-09cc-479a-c9eb-db0d8e63dbff",
        "colab": {
          "base_uri": "https://localhost:8080/"
        }
      },
      "outputs": [
        {
          "output_type": "execute_result",
          "data": {
            "text/plain": [
              "really liked it    127291\n",
              "liked it            92022\n",
              "it was amazing      88159\n",
              "it was ok           27616\n",
              "did not like it      7503\n",
              "Name: Rating, dtype: int64"
            ]
          },
          "metadata": {},
          "execution_count": 33
        }
      ],
      "source": [
        "finaldf.Rating.value_counts()"
      ]
    },
    {
      "cell_type": "code",
      "execution_count": 34,
      "id": "c98de0f3",
      "metadata": {
        "id": "c98de0f3",
        "outputId": "a0bbc98a-6013-4823-b1e4-44e30c94a865",
        "colab": {
          "base_uri": "https://localhost:8080/"
        }
      },
      "outputs": [
        {
          "output_type": "execute_result",
          "data": {
            "text/plain": [
              "(342591, 3)"
            ]
          },
          "metadata": {},
          "execution_count": 34
        }
      ],
      "source": [
        "finaldf.shape"
      ]
    },
    {
      "cell_type": "code",
      "source": [
        "finaldf.head(5)"
      ],
      "metadata": {
        "colab": {
          "base_uri": "https://localhost:8080/",
          "height": 195
        },
        "id": "CriqYQha7sjT",
        "outputId": "e5b5d4d2-838e-4bf0-b867-3fd465950670"
      },
      "id": "CriqYQha7sjT",
      "execution_count": 35,
      "outputs": [
        {
          "output_type": "execute_result",
          "data": {
            "text/plain": [
              "       ID        Name          Rating\n",
              "580  7064  Siddhartha  it was amazing\n",
              "581  7077  Siddhartha  it was amazing\n",
              "582  7112  Siddhartha  it was amazing\n",
              "583  7126  Siddhartha  it was amazing\n",
              "584  7175  Siddhartha        liked it"
            ],
            "text/html": [
              "\n",
              "  <div id=\"df-96874809-6e9e-411a-a1c0-1ba967720c15\">\n",
              "    <div class=\"colab-df-container\">\n",
              "      <div>\n",
              "<style scoped>\n",
              "    .dataframe tbody tr th:only-of-type {\n",
              "        vertical-align: middle;\n",
              "    }\n",
              "\n",
              "    .dataframe tbody tr th {\n",
              "        vertical-align: top;\n",
              "    }\n",
              "\n",
              "    .dataframe thead th {\n",
              "        text-align: right;\n",
              "    }\n",
              "</style>\n",
              "<table border=\"1\" class=\"dataframe\">\n",
              "  <thead>\n",
              "    <tr style=\"text-align: right;\">\n",
              "      <th></th>\n",
              "      <th>ID</th>\n",
              "      <th>Name</th>\n",
              "      <th>Rating</th>\n",
              "    </tr>\n",
              "  </thead>\n",
              "  <tbody>\n",
              "    <tr>\n",
              "      <th>580</th>\n",
              "      <td>7064</td>\n",
              "      <td>Siddhartha</td>\n",
              "      <td>it was amazing</td>\n",
              "    </tr>\n",
              "    <tr>\n",
              "      <th>581</th>\n",
              "      <td>7077</td>\n",
              "      <td>Siddhartha</td>\n",
              "      <td>it was amazing</td>\n",
              "    </tr>\n",
              "    <tr>\n",
              "      <th>582</th>\n",
              "      <td>7112</td>\n",
              "      <td>Siddhartha</td>\n",
              "      <td>it was amazing</td>\n",
              "    </tr>\n",
              "    <tr>\n",
              "      <th>583</th>\n",
              "      <td>7126</td>\n",
              "      <td>Siddhartha</td>\n",
              "      <td>it was amazing</td>\n",
              "    </tr>\n",
              "    <tr>\n",
              "      <th>584</th>\n",
              "      <td>7175</td>\n",
              "      <td>Siddhartha</td>\n",
              "      <td>liked it</td>\n",
              "    </tr>\n",
              "  </tbody>\n",
              "</table>\n",
              "</div>\n",
              "      <button class=\"colab-df-convert\" onclick=\"convertToInteractive('df-96874809-6e9e-411a-a1c0-1ba967720c15')\"\n",
              "              title=\"Convert this dataframe to an interactive table.\"\n",
              "              style=\"display:none;\">\n",
              "        \n",
              "  <svg xmlns=\"http://www.w3.org/2000/svg\" height=\"24px\"viewBox=\"0 0 24 24\"\n",
              "       width=\"24px\">\n",
              "    <path d=\"M0 0h24v24H0V0z\" fill=\"none\"/>\n",
              "    <path d=\"M18.56 5.44l.94 2.06.94-2.06 2.06-.94-2.06-.94-.94-2.06-.94 2.06-2.06.94zm-11 1L8.5 8.5l.94-2.06 2.06-.94-2.06-.94L8.5 2.5l-.94 2.06-2.06.94zm10 10l.94 2.06.94-2.06 2.06-.94-2.06-.94-.94-2.06-.94 2.06-2.06.94z\"/><path d=\"M17.41 7.96l-1.37-1.37c-.4-.4-.92-.59-1.43-.59-.52 0-1.04.2-1.43.59L10.3 9.45l-7.72 7.72c-.78.78-.78 2.05 0 2.83L4 21.41c.39.39.9.59 1.41.59.51 0 1.02-.2 1.41-.59l7.78-7.78 2.81-2.81c.8-.78.8-2.07 0-2.86zM5.41 20L4 18.59l7.72-7.72 1.47 1.35L5.41 20z\"/>\n",
              "  </svg>\n",
              "      </button>\n",
              "      \n",
              "  <style>\n",
              "    .colab-df-container {\n",
              "      display:flex;\n",
              "      flex-wrap:wrap;\n",
              "      gap: 12px;\n",
              "    }\n",
              "\n",
              "    .colab-df-convert {\n",
              "      background-color: #E8F0FE;\n",
              "      border: none;\n",
              "      border-radius: 50%;\n",
              "      cursor: pointer;\n",
              "      display: none;\n",
              "      fill: #1967D2;\n",
              "      height: 32px;\n",
              "      padding: 0 0 0 0;\n",
              "      width: 32px;\n",
              "    }\n",
              "\n",
              "    .colab-df-convert:hover {\n",
              "      background-color: #E2EBFA;\n",
              "      box-shadow: 0px 1px 2px rgba(60, 64, 67, 0.3), 0px 1px 3px 1px rgba(60, 64, 67, 0.15);\n",
              "      fill: #174EA6;\n",
              "    }\n",
              "\n",
              "    [theme=dark] .colab-df-convert {\n",
              "      background-color: #3B4455;\n",
              "      fill: #D2E3FC;\n",
              "    }\n",
              "\n",
              "    [theme=dark] .colab-df-convert:hover {\n",
              "      background-color: #434B5C;\n",
              "      box-shadow: 0px 1px 3px 1px rgba(0, 0, 0, 0.15);\n",
              "      filter: drop-shadow(0px 1px 2px rgba(0, 0, 0, 0.3));\n",
              "      fill: #FFFFFF;\n",
              "    }\n",
              "  </style>\n",
              "\n",
              "      <script>\n",
              "        const buttonEl =\n",
              "          document.querySelector('#df-96874809-6e9e-411a-a1c0-1ba967720c15 button.colab-df-convert');\n",
              "        buttonEl.style.display =\n",
              "          google.colab.kernel.accessAllowed ? 'block' : 'none';\n",
              "\n",
              "        async function convertToInteractive(key) {\n",
              "          const element = document.querySelector('#df-96874809-6e9e-411a-a1c0-1ba967720c15');\n",
              "          const dataTable =\n",
              "            await google.colab.kernel.invokeFunction('convertToInteractive',\n",
              "                                                     [key], {});\n",
              "          if (!dataTable) return;\n",
              "\n",
              "          const docLinkHtml = 'Like what you see? Visit the ' +\n",
              "            '<a target=\"_blank\" href=https://colab.research.google.com/notebooks/data_table.ipynb>data table notebook</a>'\n",
              "            + ' to learn more about interactive tables.';\n",
              "          element.innerHTML = '';\n",
              "          dataTable['output_type'] = 'display_data';\n",
              "          await google.colab.output.renderOutput(dataTable, element);\n",
              "          const docLink = document.createElement('div');\n",
              "          docLink.innerHTML = docLinkHtml;\n",
              "          element.appendChild(docLink);\n",
              "        }\n",
              "      </script>\n",
              "    </div>\n",
              "  </div>\n",
              "  "
            ]
          },
          "metadata": {},
          "execution_count": 35
        }
      ]
    },
    {
      "cell_type": "markdown",
      "source": [
        "To remove the Users/User IDs that have rated less than 20 books, we can see that only 2163 such users remain and these are the only ones whose ratings we want to keep. "
      ],
      "metadata": {
        "id": "MmOpc_w6Z0C2"
      },
      "id": "MmOpc_w6Z0C2"
    },
    {
      "cell_type": "code",
      "execution_count": 36,
      "id": "2429fbba",
      "metadata": {
        "id": "2429fbba",
        "outputId": "0587cf03-f1e1-49be-be3b-edc9413f887e",
        "colab": {
          "base_uri": "https://localhost:8080/"
        }
      },
      "outputs": [
        {
          "output_type": "stream",
          "name": "stdout",
          "text": [
            "(4118, 2)\n"
          ]
        },
        {
          "output_type": "execute_result",
          "data": {
            "text/plain": [
              "pandas.core.indexes.numeric.Int64Index"
            ]
          },
          "metadata": {},
          "execution_count": 36
        }
      ],
      "source": [
        "ID_grp= finaldf.groupby(['ID']).size().reset_index(name='counts')\n",
        "print(ID_grp.shape)\n",
        "ID_grp\n",
        "x = finaldf.groupby('ID').count()['Rating'] >= 20\n",
        "regular_users = x[x].index\n",
        "type(regular_users)\n"
      ]
    },
    {
      "cell_type": "code",
      "source": [
        "filtered_rating = finaldf[finaldf['ID'].isin(regular_users)]\n",
        "filtered_rating.head(5)"
      ],
      "metadata": {
        "colab": {
          "base_uri": "https://localhost:8080/",
          "height": 195
        },
        "id": "h4CphpYnJGve",
        "outputId": "b9e42415-6fc5-4bf3-d4f6-a8c7bdb31ec1"
      },
      "id": "h4CphpYnJGve",
      "execution_count": 37,
      "outputs": [
        {
          "output_type": "execute_result",
          "data": {
            "text/plain": [
              "       ID        Name          Rating\n",
              "580  7064  Siddhartha  it was amazing\n",
              "581  7077  Siddhartha  it was amazing\n",
              "582  7112  Siddhartha  it was amazing\n",
              "583  7126  Siddhartha  it was amazing\n",
              "584  7175  Siddhartha        liked it"
            ],
            "text/html": [
              "\n",
              "  <div id=\"df-9081560e-6e33-4d42-8924-e024bcde80bb\">\n",
              "    <div class=\"colab-df-container\">\n",
              "      <div>\n",
              "<style scoped>\n",
              "    .dataframe tbody tr th:only-of-type {\n",
              "        vertical-align: middle;\n",
              "    }\n",
              "\n",
              "    .dataframe tbody tr th {\n",
              "        vertical-align: top;\n",
              "    }\n",
              "\n",
              "    .dataframe thead th {\n",
              "        text-align: right;\n",
              "    }\n",
              "</style>\n",
              "<table border=\"1\" class=\"dataframe\">\n",
              "  <thead>\n",
              "    <tr style=\"text-align: right;\">\n",
              "      <th></th>\n",
              "      <th>ID</th>\n",
              "      <th>Name</th>\n",
              "      <th>Rating</th>\n",
              "    </tr>\n",
              "  </thead>\n",
              "  <tbody>\n",
              "    <tr>\n",
              "      <th>580</th>\n",
              "      <td>7064</td>\n",
              "      <td>Siddhartha</td>\n",
              "      <td>it was amazing</td>\n",
              "    </tr>\n",
              "    <tr>\n",
              "      <th>581</th>\n",
              "      <td>7077</td>\n",
              "      <td>Siddhartha</td>\n",
              "      <td>it was amazing</td>\n",
              "    </tr>\n",
              "    <tr>\n",
              "      <th>582</th>\n",
              "      <td>7112</td>\n",
              "      <td>Siddhartha</td>\n",
              "      <td>it was amazing</td>\n",
              "    </tr>\n",
              "    <tr>\n",
              "      <th>583</th>\n",
              "      <td>7126</td>\n",
              "      <td>Siddhartha</td>\n",
              "      <td>it was amazing</td>\n",
              "    </tr>\n",
              "    <tr>\n",
              "      <th>584</th>\n",
              "      <td>7175</td>\n",
              "      <td>Siddhartha</td>\n",
              "      <td>liked it</td>\n",
              "    </tr>\n",
              "  </tbody>\n",
              "</table>\n",
              "</div>\n",
              "      <button class=\"colab-df-convert\" onclick=\"convertToInteractive('df-9081560e-6e33-4d42-8924-e024bcde80bb')\"\n",
              "              title=\"Convert this dataframe to an interactive table.\"\n",
              "              style=\"display:none;\">\n",
              "        \n",
              "  <svg xmlns=\"http://www.w3.org/2000/svg\" height=\"24px\"viewBox=\"0 0 24 24\"\n",
              "       width=\"24px\">\n",
              "    <path d=\"M0 0h24v24H0V0z\" fill=\"none\"/>\n",
              "    <path d=\"M18.56 5.44l.94 2.06.94-2.06 2.06-.94-2.06-.94-.94-2.06-.94 2.06-2.06.94zm-11 1L8.5 8.5l.94-2.06 2.06-.94-2.06-.94L8.5 2.5l-.94 2.06-2.06.94zm10 10l.94 2.06.94-2.06 2.06-.94-2.06-.94-.94-2.06-.94 2.06-2.06.94z\"/><path d=\"M17.41 7.96l-1.37-1.37c-.4-.4-.92-.59-1.43-.59-.52 0-1.04.2-1.43.59L10.3 9.45l-7.72 7.72c-.78.78-.78 2.05 0 2.83L4 21.41c.39.39.9.59 1.41.59.51 0 1.02-.2 1.41-.59l7.78-7.78 2.81-2.81c.8-.78.8-2.07 0-2.86zM5.41 20L4 18.59l7.72-7.72 1.47 1.35L5.41 20z\"/>\n",
              "  </svg>\n",
              "      </button>\n",
              "      \n",
              "  <style>\n",
              "    .colab-df-container {\n",
              "      display:flex;\n",
              "      flex-wrap:wrap;\n",
              "      gap: 12px;\n",
              "    }\n",
              "\n",
              "    .colab-df-convert {\n",
              "      background-color: #E8F0FE;\n",
              "      border: none;\n",
              "      border-radius: 50%;\n",
              "      cursor: pointer;\n",
              "      display: none;\n",
              "      fill: #1967D2;\n",
              "      height: 32px;\n",
              "      padding: 0 0 0 0;\n",
              "      width: 32px;\n",
              "    }\n",
              "\n",
              "    .colab-df-convert:hover {\n",
              "      background-color: #E2EBFA;\n",
              "      box-shadow: 0px 1px 2px rgba(60, 64, 67, 0.3), 0px 1px 3px 1px rgba(60, 64, 67, 0.15);\n",
              "      fill: #174EA6;\n",
              "    }\n",
              "\n",
              "    [theme=dark] .colab-df-convert {\n",
              "      background-color: #3B4455;\n",
              "      fill: #D2E3FC;\n",
              "    }\n",
              "\n",
              "    [theme=dark] .colab-df-convert:hover {\n",
              "      background-color: #434B5C;\n",
              "      box-shadow: 0px 1px 3px 1px rgba(0, 0, 0, 0.15);\n",
              "      filter: drop-shadow(0px 1px 2px rgba(0, 0, 0, 0.3));\n",
              "      fill: #FFFFFF;\n",
              "    }\n",
              "  </style>\n",
              "\n",
              "      <script>\n",
              "        const buttonEl =\n",
              "          document.querySelector('#df-9081560e-6e33-4d42-8924-e024bcde80bb button.colab-df-convert');\n",
              "        buttonEl.style.display =\n",
              "          google.colab.kernel.accessAllowed ? 'block' : 'none';\n",
              "\n",
              "        async function convertToInteractive(key) {\n",
              "          const element = document.querySelector('#df-9081560e-6e33-4d42-8924-e024bcde80bb');\n",
              "          const dataTable =\n",
              "            await google.colab.kernel.invokeFunction('convertToInteractive',\n",
              "                                                     [key], {});\n",
              "          if (!dataTable) return;\n",
              "\n",
              "          const docLinkHtml = 'Like what you see? Visit the ' +\n",
              "            '<a target=\"_blank\" href=https://colab.research.google.com/notebooks/data_table.ipynb>data table notebook</a>'\n",
              "            + ' to learn more about interactive tables.';\n",
              "          element.innerHTML = '';\n",
              "          dataTable['output_type'] = 'display_data';\n",
              "          await google.colab.output.renderOutput(dataTable, element);\n",
              "          const docLink = document.createElement('div');\n",
              "          docLink.innerHTML = docLinkHtml;\n",
              "          element.appendChild(docLink);\n",
              "        }\n",
              "      </script>\n",
              "    </div>\n",
              "  </div>\n",
              "  "
            ]
          },
          "metadata": {},
          "execution_count": 37
        }
      ]
    },
    {
      "cell_type": "code",
      "source": [
        "filtered_rating.shape"
      ],
      "metadata": {
        "colab": {
          "base_uri": "https://localhost:8080/"
        },
        "id": "F5cNb7e_9RfG",
        "outputId": "e5937c9f-d445-403e-ca99-e4d7fd336e49"
      },
      "id": "F5cNb7e_9RfG",
      "execution_count": 38,
      "outputs": [
        {
          "output_type": "execute_result",
          "data": {
            "text/plain": [
              "(330459, 3)"
            ]
          },
          "metadata": {},
          "execution_count": 38
        }
      ]
    },
    {
      "cell_type": "code",
      "source": [
        "filtered_rating.ID.value_counts()"
      ],
      "metadata": {
        "colab": {
          "base_uri": "https://localhost:8080/"
        },
        "id": "Wtza2EHb9MFM",
        "outputId": "ce7d2f2b-49de-4926-f384-d770bfd34559"
      },
      "id": "Wtza2EHb9MFM",
      "execution_count": 39,
      "outputs": [
        {
          "output_type": "execute_result",
          "data": {
            "text/plain": [
              "4196    3582\n",
              "4806    3149\n",
              "4693    2685\n",
              "1134    2086\n",
              "284     2052\n",
              "        ... \n",
              "7249      20\n",
              "9437      20\n",
              "4501      20\n",
              "4784      20\n",
              "9814      20\n",
              "Name: ID, Length: 2163, dtype: int64"
            ]
          },
          "metadata": {},
          "execution_count": 39
        }
      ]
    },
    {
      "cell_type": "code",
      "execution_count": 40,
      "id": "0d808321",
      "metadata": {
        "id": "0d808321"
      },
      "outputs": [],
      "source": [
        "pd.set_option('display.max_rows', 1000)"
      ]
    },
    {
      "cell_type": "code",
      "source": [
        "y = filtered_rating.groupby('Name').count()['Rating']>=20\n",
        "frequent_books = y[y].index"
      ],
      "metadata": {
        "id": "0bOTMiO-N4Mq"
      },
      "id": "0bOTMiO-N4Mq",
      "execution_count": 41,
      "outputs": []
    },
    {
      "cell_type": "code",
      "source": [
        "final_ratings = filtered_rating[filtered_rating['Name'].isin(frequent_books)]\n"
      ],
      "metadata": {
        "id": "xpgLPhMH92N-"
      },
      "id": "xpgLPhMH92N-",
      "execution_count": 42,
      "outputs": []
    },
    {
      "cell_type": "code",
      "source": [
        "final_ratings.Name.value_counts()"
      ],
      "metadata": {
        "colab": {
          "base_uri": "https://localhost:8080/"
        },
        "id": "o_MU3zk3989n",
        "outputId": "797eb1dc-76ea-4118-ffa5-d72822200dcf"
      },
      "id": "o_MU3zk3989n",
      "execution_count": 43,
      "outputs": [
        {
          "output_type": "execute_result",
          "data": {
            "text/plain": [
              "The Catcher in the Rye                                         822\n",
              "The Great Gatsby                                               762\n",
              "To Kill a Mockingbird                                          724\n",
              "1984                                                           626\n",
              "Animal Farm                                                    611\n",
              "                                                              ... \n",
              "Dear John                                                       20\n",
              "مجموعه کامل اشعار                                               20\n",
              "Origin (Robert Langdon, #5)                                     20\n",
              "The Physick Book of Deliverance Dane (The Physick Book, #1)     20\n",
              "My Sweet Orange Tree                                            20\n",
              "Name: Name, Length: 2270, dtype: int64"
            ]
          },
          "metadata": {},
          "execution_count": 43
        }
      ]
    },
    {
      "cell_type": "code",
      "source": [
        "final_ratings.shape"
      ],
      "metadata": {
        "colab": {
          "base_uri": "https://localhost:8080/"
        },
        "id": "ehtuO-On-Ogu",
        "outputId": "47614c72-fd92-420e-9e3b-027bfa1c78c2"
      },
      "id": "ehtuO-On-Ogu",
      "execution_count": 44,
      "outputs": [
        {
          "output_type": "execute_result",
          "data": {
            "text/plain": [
              "(132305, 3)"
            ]
          },
          "metadata": {},
          "execution_count": 44
        }
      ]
    },
    {
      "cell_type": "code",
      "execution_count": 45,
      "id": "db4f84dc",
      "metadata": {
        "id": "db4f84dc",
        "outputId": "a605113a-ba26-42da-a4ef-abd220e32cc3",
        "colab": {
          "base_uri": "https://localhost:8080/",
          "height": 585
        }
      },
      "outputs": [
        {
          "output_type": "stream",
          "name": "stderr",
          "text": [
            "/usr/local/lib/python3.7/dist-packages/ipykernel_launcher.py:4: SettingWithCopyWarning: \n",
            "A value is trying to be set on a copy of a slice from a DataFrame.\n",
            "Try using .loc[row_indexer,col_indexer] = value instead\n",
            "\n",
            "See the caveats in the documentation: https://pandas.pydata.org/pandas-docs/stable/user_guide/indexing.html#returning-a-view-versus-a-copy\n",
            "  after removing the cwd from sys.path.\n",
            "/usr/local/lib/python3.7/dist-packages/ipykernel_launcher.py:5: SettingWithCopyWarning: \n",
            "A value is trying to be set on a copy of a slice from a DataFrame.\n",
            "Try using .loc[row_indexer,col_indexer] = value instead\n",
            "\n",
            "See the caveats in the documentation: https://pandas.pydata.org/pandas-docs/stable/user_guide/indexing.html#returning-a-view-versus-a-copy\n",
            "  \"\"\"\n",
            "/usr/local/lib/python3.7/dist-packages/pandas/core/frame.py:4913: SettingWithCopyWarning: \n",
            "A value is trying to be set on a copy of a slice from a DataFrame\n",
            "\n",
            "See the caveats in the documentation: https://pandas.pydata.org/pandas-docs/stable/user_guide/indexing.html#returning-a-view-versus-a-copy\n",
            "  errors=errors,\n",
            "/usr/local/lib/python3.7/dist-packages/pandas/core/frame.py:5047: SettingWithCopyWarning: \n",
            "A value is trying to be set on a copy of a slice from a DataFrame\n",
            "\n",
            "See the caveats in the documentation: https://pandas.pydata.org/pandas-docs/stable/user_guide/indexing.html#returning-a-view-versus-a-copy\n",
            "  errors=errors,\n"
          ]
        },
        {
          "output_type": "execute_result",
          "data": {
            "text/plain": [
              "     User_ID        Name  Rating_Cat\n",
              "580     7064  Siddhartha           5\n",
              "581     7077  Siddhartha           5\n",
              "582     7112  Siddhartha           5\n",
              "583     7126  Siddhartha           5\n",
              "584     7175  Siddhartha           3"
            ],
            "text/html": [
              "\n",
              "  <div id=\"df-1e803800-b8a1-4c38-928c-d163479589c1\">\n",
              "    <div class=\"colab-df-container\">\n",
              "      <div>\n",
              "<style scoped>\n",
              "    .dataframe tbody tr th:only-of-type {\n",
              "        vertical-align: middle;\n",
              "    }\n",
              "\n",
              "    .dataframe tbody tr th {\n",
              "        vertical-align: top;\n",
              "    }\n",
              "\n",
              "    .dataframe thead th {\n",
              "        text-align: right;\n",
              "    }\n",
              "</style>\n",
              "<table border=\"1\" class=\"dataframe\">\n",
              "  <thead>\n",
              "    <tr style=\"text-align: right;\">\n",
              "      <th></th>\n",
              "      <th>User_ID</th>\n",
              "      <th>Name</th>\n",
              "      <th>Rating_Cat</th>\n",
              "    </tr>\n",
              "  </thead>\n",
              "  <tbody>\n",
              "    <tr>\n",
              "      <th>580</th>\n",
              "      <td>7064</td>\n",
              "      <td>Siddhartha</td>\n",
              "      <td>5</td>\n",
              "    </tr>\n",
              "    <tr>\n",
              "      <th>581</th>\n",
              "      <td>7077</td>\n",
              "      <td>Siddhartha</td>\n",
              "      <td>5</td>\n",
              "    </tr>\n",
              "    <tr>\n",
              "      <th>582</th>\n",
              "      <td>7112</td>\n",
              "      <td>Siddhartha</td>\n",
              "      <td>5</td>\n",
              "    </tr>\n",
              "    <tr>\n",
              "      <th>583</th>\n",
              "      <td>7126</td>\n",
              "      <td>Siddhartha</td>\n",
              "      <td>5</td>\n",
              "    </tr>\n",
              "    <tr>\n",
              "      <th>584</th>\n",
              "      <td>7175</td>\n",
              "      <td>Siddhartha</td>\n",
              "      <td>3</td>\n",
              "    </tr>\n",
              "  </tbody>\n",
              "</table>\n",
              "</div>\n",
              "      <button class=\"colab-df-convert\" onclick=\"convertToInteractive('df-1e803800-b8a1-4c38-928c-d163479589c1')\"\n",
              "              title=\"Convert this dataframe to an interactive table.\"\n",
              "              style=\"display:none;\">\n",
              "        \n",
              "  <svg xmlns=\"http://www.w3.org/2000/svg\" height=\"24px\"viewBox=\"0 0 24 24\"\n",
              "       width=\"24px\">\n",
              "    <path d=\"M0 0h24v24H0V0z\" fill=\"none\"/>\n",
              "    <path d=\"M18.56 5.44l.94 2.06.94-2.06 2.06-.94-2.06-.94-.94-2.06-.94 2.06-2.06.94zm-11 1L8.5 8.5l.94-2.06 2.06-.94-2.06-.94L8.5 2.5l-.94 2.06-2.06.94zm10 10l.94 2.06.94-2.06 2.06-.94-2.06-.94-.94-2.06-.94 2.06-2.06.94z\"/><path d=\"M17.41 7.96l-1.37-1.37c-.4-.4-.92-.59-1.43-.59-.52 0-1.04.2-1.43.59L10.3 9.45l-7.72 7.72c-.78.78-.78 2.05 0 2.83L4 21.41c.39.39.9.59 1.41.59.51 0 1.02-.2 1.41-.59l7.78-7.78 2.81-2.81c.8-.78.8-2.07 0-2.86zM5.41 20L4 18.59l7.72-7.72 1.47 1.35L5.41 20z\"/>\n",
              "  </svg>\n",
              "      </button>\n",
              "      \n",
              "  <style>\n",
              "    .colab-df-container {\n",
              "      display:flex;\n",
              "      flex-wrap:wrap;\n",
              "      gap: 12px;\n",
              "    }\n",
              "\n",
              "    .colab-df-convert {\n",
              "      background-color: #E8F0FE;\n",
              "      border: none;\n",
              "      border-radius: 50%;\n",
              "      cursor: pointer;\n",
              "      display: none;\n",
              "      fill: #1967D2;\n",
              "      height: 32px;\n",
              "      padding: 0 0 0 0;\n",
              "      width: 32px;\n",
              "    }\n",
              "\n",
              "    .colab-df-convert:hover {\n",
              "      background-color: #E2EBFA;\n",
              "      box-shadow: 0px 1px 2px rgba(60, 64, 67, 0.3), 0px 1px 3px 1px rgba(60, 64, 67, 0.15);\n",
              "      fill: #174EA6;\n",
              "    }\n",
              "\n",
              "    [theme=dark] .colab-df-convert {\n",
              "      background-color: #3B4455;\n",
              "      fill: #D2E3FC;\n",
              "    }\n",
              "\n",
              "    [theme=dark] .colab-df-convert:hover {\n",
              "      background-color: #434B5C;\n",
              "      box-shadow: 0px 1px 3px 1px rgba(0, 0, 0, 0.15);\n",
              "      filter: drop-shadow(0px 1px 2px rgba(0, 0, 0, 0.3));\n",
              "      fill: #FFFFFF;\n",
              "    }\n",
              "  </style>\n",
              "\n",
              "      <script>\n",
              "        const buttonEl =\n",
              "          document.querySelector('#df-1e803800-b8a1-4c38-928c-d163479589c1 button.colab-df-convert');\n",
              "        buttonEl.style.display =\n",
              "          google.colab.kernel.accessAllowed ? 'block' : 'none';\n",
              "\n",
              "        async function convertToInteractive(key) {\n",
              "          const element = document.querySelector('#df-1e803800-b8a1-4c38-928c-d163479589c1');\n",
              "          const dataTable =\n",
              "            await google.colab.kernel.invokeFunction('convertToInteractive',\n",
              "                                                     [key], {});\n",
              "          if (!dataTable) return;\n",
              "\n",
              "          const docLinkHtml = 'Like what you see? Visit the ' +\n",
              "            '<a target=\"_blank\" href=https://colab.research.google.com/notebooks/data_table.ipynb>data table notebook</a>'\n",
              "            + ' to learn more about interactive tables.';\n",
              "          element.innerHTML = '';\n",
              "          dataTable['output_type'] = 'display_data';\n",
              "          await google.colab.output.renderOutput(dataTable, element);\n",
              "          const docLink = document.createElement('div');\n",
              "          docLink.innerHTML = docLinkHtml;\n",
              "          element.appendChild(docLink);\n",
              "        }\n",
              "      </script>\n",
              "    </div>\n",
              "  </div>\n",
              "  "
            ]
          },
          "metadata": {},
          "execution_count": 45
        }
      ],
      "source": [
        "from sklearn.preprocessing import LabelEncoder\n",
        "# le = LabelEncoder()\n",
        "# Assigning numerical values and storing in another column\n",
        "final_ratings['Rating_Cat'] = final_ratings['Rating']\n",
        "final_ratings['Rating_Cat']= final_ratings['Rating_Cat'].replace({'did not like it': 1, 'it was ok': 2, 'liked it': 3, 'really liked it': 4, 'it was amazing': 5})\n",
        "final_ratings.drop(['Rating'],axis=1,inplace=True)\n",
        "final_ratings.rename({'ID': 'User_ID'}, axis=1, inplace=True)\n",
        "final_ratings.head()"
      ]
    },
    {
      "cell_type": "code",
      "execution_count": 46,
      "id": "b8372ee0",
      "metadata": {
        "id": "b8372ee0"
      },
      "outputs": [],
      "source": [
        "books_list=final_ratings['Name'].unique().tolist()\n",
        "# print (len(books_list))\n",
        "books_dict = dict.fromkeys(books_list, 0)\n",
        "i=100\n",
        "for k, v in books_dict.items():\n",
        "    books_dict[k]=i\n",
        "    i+=1\n",
        "#     print(books_dict[k])  \n",
        "# books_dict is the dictionary with names of books and their unique ids stored as key-value pairs \n"
      ]
    },
    {
      "cell_type": "code",
      "execution_count": 47,
      "id": "6baa9bb2",
      "metadata": {
        "id": "6baa9bb2",
        "outputId": "6c40f0a5-cafa-461c-e576-900d7f98eaa7",
        "colab": {
          "base_uri": "https://localhost:8080/"
        }
      },
      "outputs": [
        {
          "output_type": "execute_result",
          "data": {
            "text/plain": [
              "{'A Clash of Kings (A Song of Ice and Fire, #2)': 152,\n",
              " 'A Dance with Dragons (A Song of Ice and Fire, #5)': 148,\n",
              " 'A Discovery of Witches (All Souls Trilogy, #1)': 155,\n",
              " 'A Feast for Crows (A Song of Ice and Fire, #4)': 149,\n",
              " 'A Game of Thrones (A Song of Ice and Fire, #1)': 153,\n",
              " 'A Storm of Swords (A Song of Ice and Fire, #3)': 151,\n",
              " 'A Visit from the Goon Squad': 163,\n",
              " 'All the Light We Cannot See': 108,\n",
              " 'American Gods (American Gods, #1)': 127,\n",
              " 'Americanah': 126,\n",
              " 'Angels & Demons (Robert Langdon, #1)': 101,\n",
              " 'Arcadia': 139,\n",
              " 'Attachments': 113,\n",
              " 'Beautiful Ruins': 145,\n",
              " 'Bloodsucking Fiends (A Love Story, #1)': 131,\n",
              " 'Bossypants': 162,\n",
              " 'Breaking Dawn (Twilight, #4)': 180,\n",
              " 'Catching Fire (The Hunger Games, #2)': 170,\n",
              " 'Dept. of Speculation': 106,\n",
              " 'Dress Your Family in Corduroy and Denim': 191,\n",
              " 'Eclipse (Twilight, #3)': 184,\n",
              " 'Fates and Furies': 102,\n",
              " 'Fear of Flying': 146,\n",
              " 'Fingersmith': 156,\n",
              " 'Freedom': 168,\n",
              " 'Gone Girl': 143,\n",
              " 'Good Omens: The Nice and Accurate Prophecies of Agnes Nutter, Witch': 133,\n",
              " 'Her Fearful Symmetry': 173,\n",
              " 'House Rules': 172,\n",
              " 'How to Be a Woman': 140,\n",
              " 'I Capture the Castle': 189,\n",
              " 'Is Everyone Hanging Out Without Me?': 134,\n",
              " 'Just Kids': 166,\n",
              " 'Killing Yourself to Live: 85% of a True Story': 197,\n",
              " 'Landline': 114,\n",
              " 'Life After Life (Todd Family, #1)': 128,\n",
              " 'Life of Pi': 195,\n",
              " 'Look at Me': 161,\n",
              " 'Luckiest Girl Alive': 103,\n",
              " 'Me Talk Pretty One Day': 194,\n",
              " \"Miss Peregrine's Home for Peculiar Children (Miss Peregrine's Peculiar Children, #1)\": 117,\n",
              " 'Mockingjay (The Hunger Games, #3)': 169,\n",
              " \"Mr. Penumbra's 24-Hour Bookstore (Mr. Penumbra's 24-Hour Bookstore, #1)\": 137,\n",
              " \"My Sister's Keeper\": 179,\n",
              " 'Naked': 192,\n",
              " 'Never Let Me Go': 147,\n",
              " 'New Moon (Twilight, #2)': 183,\n",
              " 'Next': 177,\n",
              " 'Nineteen Minutes': 181,\n",
              " 'Orange Is the New Black': 124,\n",
              " 'Outlander (Outlander, #1)': 111,\n",
              " 'Pretties (Uglies, #2)': 182,\n",
              " 'Ready Player One (Ready Player One, #1)': 142,\n",
              " 'Room': 171,\n",
              " 'Saga, Vol. 1': 120,\n",
              " 'Sex, Drugs, and Cocoa Puffs: A Low Culture Manifesto': 196,\n",
              " 'Siddhartha': 100,\n",
              " 'Snow Crash': 193,\n",
              " 'State of Wonder': 154,\n",
              " 'Still Life with Woodpecker': 118,\n",
              " 'Swamplandia!': 165,\n",
              " 'Tenth of December': 129,\n",
              " 'The Absolutely True Diary of a Part-Time Indian': 188,\n",
              " 'The Age of Miracles': 144,\n",
              " 'The Chaperone': 141,\n",
              " \"The Cuckoo's Calling (Cormoran Strike, #1)\": 123,\n",
              " 'The Curious Incident of the Dog in the Night-Time': 199,\n",
              " 'The Dog Stars': 135,\n",
              " 'The Five People You Meet in Heaven': 198,\n",
              " \"The Girl Who Kicked the Hornet's Nest (Millennium, #3)\": 174,\n",
              " 'The Girl Who Played with Fire (Millennium, #2)': 175,\n",
              " 'The Girl on the Train': 105,\n",
              " 'The Girl with the Dragon Tattoo (Millennium, #1)': 176,\n",
              " 'The Goldfinch': 115,\n",
              " 'The Historian': 158,\n",
              " 'The Host (The Host, #1)': 187,\n",
              " 'The Hunger Games (The Hunger Games, #1)': 178,\n",
              " \"The Husband's Secret\": 104,\n",
              " 'The Kite Runner': 190,\n",
              " 'The Leftovers': 122,\n",
              " 'The Magician King (The Magicians, #2)': 159,\n",
              " \"The Magician's Land (The Magicians, #3)\": 112,\n",
              " 'The Magicians (The Magicians, #1)': 157,\n",
              " 'The Marriage Plot': 150,\n",
              " 'The Martian': 110,\n",
              " 'The Maze Runner (The Maze Runner, #1)': 164,\n",
              " 'The Monsters of Templeton': 138,\n",
              " 'The Name of the Wind (The Kingkiller Chronicle, #1)': 109,\n",
              " 'The Ocean at the End of the Lane': 125,\n",
              " 'The Sense of an Ending': 136,\n",
              " 'The Silkworm (Cormoran Strike, #2)': 116,\n",
              " 'The Sparrow (The Sparrow, #1)': 121,\n",
              " 'The Sweetness at the Bottom of the Pie (Flavia de Luce, #1)': 160,\n",
              " 'The Windup Girl': 167,\n",
              " \"The Wise Man's Fear (The Kingkiller Chronicle, #2)\": 107,\n",
              " 'Twilight (Twilight, #1)': 185,\n",
              " 'Uglies (Uglies, #1)': 186,\n",
              " \"Where'd You Go, Bernadette\": 132,\n",
              " 'Wool Omnibus (Silo, #1)': 119,\n",
              " 'You Suck (A Love Story, #2)': 130}"
            ]
          },
          "metadata": {},
          "execution_count": 47
        }
      ],
      "source": [
        "# to look at five key-value pairs from the dict since the entire thing can't be viewed\n",
        "key_values_5 = {k: books_dict[k] for k in list(books_dict)[:100]}\n",
        "key_values_5"
      ]
    },
    {
      "cell_type": "code",
      "source": [
        "def get_book_name(val):\n",
        "    for key, value in books_dict.items():\n",
        "        #  print(val)\n",
        "         if value == val:\n",
        "             \n",
        "             return key\n",
        "\n",
        "    return (\"book for corresponding ID doesn't exist\")\n",
        "\n",
        "name=get_book_name(1486)\n",
        "name"
      ],
      "metadata": {
        "colab": {
          "base_uri": "https://localhost:8080/",
          "height": 35
        },
        "id": "4TM0NGDXnIEn",
        "outputId": "0b111560-f555-4ac8-d54e-fc5da08fdaa7"
      },
      "id": "4TM0NGDXnIEn",
      "execution_count": 48,
      "outputs": [
        {
          "output_type": "execute_result",
          "data": {
            "text/plain": [
              "'The Reptile Room (A Series of Unfortunate Events, #2)'"
            ],
            "application/vnd.google.colaboratory.intrinsic+json": {
              "type": "string"
            }
          },
          "metadata": {},
          "execution_count": 48
        }
      ]
    },
    {
      "cell_type": "code",
      "execution_count": 49,
      "id": "28229fa6",
      "metadata": {
        "id": "28229fa6",
        "outputId": "9c6aca85-5347-4778-a26a-af95d3e41182",
        "colab": {
          "base_uri": "https://localhost:8080/",
          "height": 548
        }
      },
      "outputs": [
        {
          "output_type": "stream",
          "name": "stderr",
          "text": [
            "/usr/local/lib/python3.7/dist-packages/ipykernel_launcher.py:1: SettingWithCopyWarning: \n",
            "A value is trying to be set on a copy of a slice from a DataFrame.\n",
            "Try using .loc[row_indexer,col_indexer] = value instead\n",
            "\n",
            "See the caveats in the documentation: https://pandas.pydata.org/pandas-docs/stable/user_guide/indexing.html#returning-a-view-versus-a-copy\n",
            "  \"\"\"Entry point for launching an IPython kernel.\n",
            "/usr/local/lib/python3.7/dist-packages/pandas/core/frame.py:4913: SettingWithCopyWarning: \n",
            "A value is trying to be set on a copy of a slice from a DataFrame\n",
            "\n",
            "See the caveats in the documentation: https://pandas.pydata.org/pandas-docs/stable/user_guide/indexing.html#returning-a-view-versus-a-copy\n",
            "  errors=errors,\n"
          ]
        },
        {
          "output_type": "execute_result",
          "data": {
            "text/plain": [
              "     User_ID  Rating_Cat  Book_ID\n",
              "580     7064           5      100\n",
              "581     7077           5      100\n",
              "582     7112           5      100\n",
              "583     7126           5      100\n",
              "584     7175           3      100\n",
              "585     7206           3      100\n",
              "586     7210           4      100\n",
              "587     7227           2      100\n",
              "588     7256           3      100\n",
              "589     7267           4      100"
            ],
            "text/html": [
              "\n",
              "  <div id=\"df-be753fc9-16e9-4f63-9d61-e13d600d0c0b\">\n",
              "    <div class=\"colab-df-container\">\n",
              "      <div>\n",
              "<style scoped>\n",
              "    .dataframe tbody tr th:only-of-type {\n",
              "        vertical-align: middle;\n",
              "    }\n",
              "\n",
              "    .dataframe tbody tr th {\n",
              "        vertical-align: top;\n",
              "    }\n",
              "\n",
              "    .dataframe thead th {\n",
              "        text-align: right;\n",
              "    }\n",
              "</style>\n",
              "<table border=\"1\" class=\"dataframe\">\n",
              "  <thead>\n",
              "    <tr style=\"text-align: right;\">\n",
              "      <th></th>\n",
              "      <th>User_ID</th>\n",
              "      <th>Rating_Cat</th>\n",
              "      <th>Book_ID</th>\n",
              "    </tr>\n",
              "  </thead>\n",
              "  <tbody>\n",
              "    <tr>\n",
              "      <th>580</th>\n",
              "      <td>7064</td>\n",
              "      <td>5</td>\n",
              "      <td>100</td>\n",
              "    </tr>\n",
              "    <tr>\n",
              "      <th>581</th>\n",
              "      <td>7077</td>\n",
              "      <td>5</td>\n",
              "      <td>100</td>\n",
              "    </tr>\n",
              "    <tr>\n",
              "      <th>582</th>\n",
              "      <td>7112</td>\n",
              "      <td>5</td>\n",
              "      <td>100</td>\n",
              "    </tr>\n",
              "    <tr>\n",
              "      <th>583</th>\n",
              "      <td>7126</td>\n",
              "      <td>5</td>\n",
              "      <td>100</td>\n",
              "    </tr>\n",
              "    <tr>\n",
              "      <th>584</th>\n",
              "      <td>7175</td>\n",
              "      <td>3</td>\n",
              "      <td>100</td>\n",
              "    </tr>\n",
              "    <tr>\n",
              "      <th>585</th>\n",
              "      <td>7206</td>\n",
              "      <td>3</td>\n",
              "      <td>100</td>\n",
              "    </tr>\n",
              "    <tr>\n",
              "      <th>586</th>\n",
              "      <td>7210</td>\n",
              "      <td>4</td>\n",
              "      <td>100</td>\n",
              "    </tr>\n",
              "    <tr>\n",
              "      <th>587</th>\n",
              "      <td>7227</td>\n",
              "      <td>2</td>\n",
              "      <td>100</td>\n",
              "    </tr>\n",
              "    <tr>\n",
              "      <th>588</th>\n",
              "      <td>7256</td>\n",
              "      <td>3</td>\n",
              "      <td>100</td>\n",
              "    </tr>\n",
              "    <tr>\n",
              "      <th>589</th>\n",
              "      <td>7267</td>\n",
              "      <td>4</td>\n",
              "      <td>100</td>\n",
              "    </tr>\n",
              "  </tbody>\n",
              "</table>\n",
              "</div>\n",
              "      <button class=\"colab-df-convert\" onclick=\"convertToInteractive('df-be753fc9-16e9-4f63-9d61-e13d600d0c0b')\"\n",
              "              title=\"Convert this dataframe to an interactive table.\"\n",
              "              style=\"display:none;\">\n",
              "        \n",
              "  <svg xmlns=\"http://www.w3.org/2000/svg\" height=\"24px\"viewBox=\"0 0 24 24\"\n",
              "       width=\"24px\">\n",
              "    <path d=\"M0 0h24v24H0V0z\" fill=\"none\"/>\n",
              "    <path d=\"M18.56 5.44l.94 2.06.94-2.06 2.06-.94-2.06-.94-.94-2.06-.94 2.06-2.06.94zm-11 1L8.5 8.5l.94-2.06 2.06-.94-2.06-.94L8.5 2.5l-.94 2.06-2.06.94zm10 10l.94 2.06.94-2.06 2.06-.94-2.06-.94-.94-2.06-.94 2.06-2.06.94z\"/><path d=\"M17.41 7.96l-1.37-1.37c-.4-.4-.92-.59-1.43-.59-.52 0-1.04.2-1.43.59L10.3 9.45l-7.72 7.72c-.78.78-.78 2.05 0 2.83L4 21.41c.39.39.9.59 1.41.59.51 0 1.02-.2 1.41-.59l7.78-7.78 2.81-2.81c.8-.78.8-2.07 0-2.86zM5.41 20L4 18.59l7.72-7.72 1.47 1.35L5.41 20z\"/>\n",
              "  </svg>\n",
              "      </button>\n",
              "      \n",
              "  <style>\n",
              "    .colab-df-container {\n",
              "      display:flex;\n",
              "      flex-wrap:wrap;\n",
              "      gap: 12px;\n",
              "    }\n",
              "\n",
              "    .colab-df-convert {\n",
              "      background-color: #E8F0FE;\n",
              "      border: none;\n",
              "      border-radius: 50%;\n",
              "      cursor: pointer;\n",
              "      display: none;\n",
              "      fill: #1967D2;\n",
              "      height: 32px;\n",
              "      padding: 0 0 0 0;\n",
              "      width: 32px;\n",
              "    }\n",
              "\n",
              "    .colab-df-convert:hover {\n",
              "      background-color: #E2EBFA;\n",
              "      box-shadow: 0px 1px 2px rgba(60, 64, 67, 0.3), 0px 1px 3px 1px rgba(60, 64, 67, 0.15);\n",
              "      fill: #174EA6;\n",
              "    }\n",
              "\n",
              "    [theme=dark] .colab-df-convert {\n",
              "      background-color: #3B4455;\n",
              "      fill: #D2E3FC;\n",
              "    }\n",
              "\n",
              "    [theme=dark] .colab-df-convert:hover {\n",
              "      background-color: #434B5C;\n",
              "      box-shadow: 0px 1px 3px 1px rgba(0, 0, 0, 0.15);\n",
              "      filter: drop-shadow(0px 1px 2px rgba(0, 0, 0, 0.3));\n",
              "      fill: #FFFFFF;\n",
              "    }\n",
              "  </style>\n",
              "\n",
              "      <script>\n",
              "        const buttonEl =\n",
              "          document.querySelector('#df-be753fc9-16e9-4f63-9d61-e13d600d0c0b button.colab-df-convert');\n",
              "        buttonEl.style.display =\n",
              "          google.colab.kernel.accessAllowed ? 'block' : 'none';\n",
              "\n",
              "        async function convertToInteractive(key) {\n",
              "          const element = document.querySelector('#df-be753fc9-16e9-4f63-9d61-e13d600d0c0b');\n",
              "          const dataTable =\n",
              "            await google.colab.kernel.invokeFunction('convertToInteractive',\n",
              "                                                     [key], {});\n",
              "          if (!dataTable) return;\n",
              "\n",
              "          const docLinkHtml = 'Like what you see? Visit the ' +\n",
              "            '<a target=\"_blank\" href=https://colab.research.google.com/notebooks/data_table.ipynb>data table notebook</a>'\n",
              "            + ' to learn more about interactive tables.';\n",
              "          element.innerHTML = '';\n",
              "          dataTable['output_type'] = 'display_data';\n",
              "          await google.colab.output.renderOutput(dataTable, element);\n",
              "          const docLink = document.createElement('div');\n",
              "          docLink.innerHTML = docLinkHtml;\n",
              "          element.appendChild(docLink);\n",
              "        }\n",
              "      </script>\n",
              "    </div>\n",
              "  </div>\n",
              "  "
            ]
          },
          "metadata": {},
          "execution_count": 49
        }
      ],
      "source": [
        "final_ratings[\"Book_ID\"] = final_ratings[\"Name\"].apply(lambda x: books_dict.get(x))\n",
        "final_ratings.drop(['Name'], axis=1,inplace=True)\n",
        "final_ratings.head(10)\n"
      ]
    },
    {
      "cell_type": "code",
      "source": [
        ""
      ],
      "metadata": {
        "id": "I-q4RpLOnF3N"
      },
      "id": "I-q4RpLOnF3N",
      "execution_count": 49,
      "outputs": []
    },
    {
      "cell_type": "code",
      "execution_count": 50,
      "id": "05650fa7",
      "metadata": {
        "id": "05650fa7",
        "outputId": "25261f5e-a4e4-4428-c987-83330a23f58c",
        "colab": {
          "base_uri": "https://localhost:8080/",
          "height": 195
        }
      },
      "outputs": [
        {
          "output_type": "execute_result",
          "data": {
            "text/plain": [
              "     User_ID  Book_ID  Rating_Cat\n",
              "580     7064      100           5\n",
              "581     7077      100           5\n",
              "582     7112      100           5\n",
              "583     7126      100           5\n",
              "584     7175      100           3"
            ],
            "text/html": [
              "\n",
              "  <div id=\"df-8de34dde-e30f-4368-a06f-a9ae4702c79e\">\n",
              "    <div class=\"colab-df-container\">\n",
              "      <div>\n",
              "<style scoped>\n",
              "    .dataframe tbody tr th:only-of-type {\n",
              "        vertical-align: middle;\n",
              "    }\n",
              "\n",
              "    .dataframe tbody tr th {\n",
              "        vertical-align: top;\n",
              "    }\n",
              "\n",
              "    .dataframe thead th {\n",
              "        text-align: right;\n",
              "    }\n",
              "</style>\n",
              "<table border=\"1\" class=\"dataframe\">\n",
              "  <thead>\n",
              "    <tr style=\"text-align: right;\">\n",
              "      <th></th>\n",
              "      <th>User_ID</th>\n",
              "      <th>Book_ID</th>\n",
              "      <th>Rating_Cat</th>\n",
              "    </tr>\n",
              "  </thead>\n",
              "  <tbody>\n",
              "    <tr>\n",
              "      <th>580</th>\n",
              "      <td>7064</td>\n",
              "      <td>100</td>\n",
              "      <td>5</td>\n",
              "    </tr>\n",
              "    <tr>\n",
              "      <th>581</th>\n",
              "      <td>7077</td>\n",
              "      <td>100</td>\n",
              "      <td>5</td>\n",
              "    </tr>\n",
              "    <tr>\n",
              "      <th>582</th>\n",
              "      <td>7112</td>\n",
              "      <td>100</td>\n",
              "      <td>5</td>\n",
              "    </tr>\n",
              "    <tr>\n",
              "      <th>583</th>\n",
              "      <td>7126</td>\n",
              "      <td>100</td>\n",
              "      <td>5</td>\n",
              "    </tr>\n",
              "    <tr>\n",
              "      <th>584</th>\n",
              "      <td>7175</td>\n",
              "      <td>100</td>\n",
              "      <td>3</td>\n",
              "    </tr>\n",
              "  </tbody>\n",
              "</table>\n",
              "</div>\n",
              "      <button class=\"colab-df-convert\" onclick=\"convertToInteractive('df-8de34dde-e30f-4368-a06f-a9ae4702c79e')\"\n",
              "              title=\"Convert this dataframe to an interactive table.\"\n",
              "              style=\"display:none;\">\n",
              "        \n",
              "  <svg xmlns=\"http://www.w3.org/2000/svg\" height=\"24px\"viewBox=\"0 0 24 24\"\n",
              "       width=\"24px\">\n",
              "    <path d=\"M0 0h24v24H0V0z\" fill=\"none\"/>\n",
              "    <path d=\"M18.56 5.44l.94 2.06.94-2.06 2.06-.94-2.06-.94-.94-2.06-.94 2.06-2.06.94zm-11 1L8.5 8.5l.94-2.06 2.06-.94-2.06-.94L8.5 2.5l-.94 2.06-2.06.94zm10 10l.94 2.06.94-2.06 2.06-.94-2.06-.94-.94-2.06-.94 2.06-2.06.94z\"/><path d=\"M17.41 7.96l-1.37-1.37c-.4-.4-.92-.59-1.43-.59-.52 0-1.04.2-1.43.59L10.3 9.45l-7.72 7.72c-.78.78-.78 2.05 0 2.83L4 21.41c.39.39.9.59 1.41.59.51 0 1.02-.2 1.41-.59l7.78-7.78 2.81-2.81c.8-.78.8-2.07 0-2.86zM5.41 20L4 18.59l7.72-7.72 1.47 1.35L5.41 20z\"/>\n",
              "  </svg>\n",
              "      </button>\n",
              "      \n",
              "  <style>\n",
              "    .colab-df-container {\n",
              "      display:flex;\n",
              "      flex-wrap:wrap;\n",
              "      gap: 12px;\n",
              "    }\n",
              "\n",
              "    .colab-df-convert {\n",
              "      background-color: #E8F0FE;\n",
              "      border: none;\n",
              "      border-radius: 50%;\n",
              "      cursor: pointer;\n",
              "      display: none;\n",
              "      fill: #1967D2;\n",
              "      height: 32px;\n",
              "      padding: 0 0 0 0;\n",
              "      width: 32px;\n",
              "    }\n",
              "\n",
              "    .colab-df-convert:hover {\n",
              "      background-color: #E2EBFA;\n",
              "      box-shadow: 0px 1px 2px rgba(60, 64, 67, 0.3), 0px 1px 3px 1px rgba(60, 64, 67, 0.15);\n",
              "      fill: #174EA6;\n",
              "    }\n",
              "\n",
              "    [theme=dark] .colab-df-convert {\n",
              "      background-color: #3B4455;\n",
              "      fill: #D2E3FC;\n",
              "    }\n",
              "\n",
              "    [theme=dark] .colab-df-convert:hover {\n",
              "      background-color: #434B5C;\n",
              "      box-shadow: 0px 1px 3px 1px rgba(0, 0, 0, 0.15);\n",
              "      filter: drop-shadow(0px 1px 2px rgba(0, 0, 0, 0.3));\n",
              "      fill: #FFFFFF;\n",
              "    }\n",
              "  </style>\n",
              "\n",
              "      <script>\n",
              "        const buttonEl =\n",
              "          document.querySelector('#df-8de34dde-e30f-4368-a06f-a9ae4702c79e button.colab-df-convert');\n",
              "        buttonEl.style.display =\n",
              "          google.colab.kernel.accessAllowed ? 'block' : 'none';\n",
              "\n",
              "        async function convertToInteractive(key) {\n",
              "          const element = document.querySelector('#df-8de34dde-e30f-4368-a06f-a9ae4702c79e');\n",
              "          const dataTable =\n",
              "            await google.colab.kernel.invokeFunction('convertToInteractive',\n",
              "                                                     [key], {});\n",
              "          if (!dataTable) return;\n",
              "\n",
              "          const docLinkHtml = 'Like what you see? Visit the ' +\n",
              "            '<a target=\"_blank\" href=https://colab.research.google.com/notebooks/data_table.ipynb>data table notebook</a>'\n",
              "            + ' to learn more about interactive tables.';\n",
              "          element.innerHTML = '';\n",
              "          dataTable['output_type'] = 'display_data';\n",
              "          await google.colab.output.renderOutput(dataTable, element);\n",
              "          const docLink = document.createElement('div');\n",
              "          docLink.innerHTML = docLinkHtml;\n",
              "          element.appendChild(docLink);\n",
              "        }\n",
              "      </script>\n",
              "    </div>\n",
              "  </div>\n",
              "  "
            ]
          },
          "metadata": {},
          "execution_count": 50
        }
      ],
      "source": [
        "final_ratings = final_ratings.reindex(['User_ID','Book_ID','Rating_Cat'], axis=1)\n",
        "final_ratings.head()"
      ]
    },
    {
      "cell_type": "code",
      "source": [
        "final_ratings.shape"
      ],
      "metadata": {
        "colab": {
          "base_uri": "https://localhost:8080/"
        },
        "id": "icLJfLMVAluw",
        "outputId": "18a7ed33-977b-4109-bfa1-3b4d1c1e3093"
      },
      "id": "icLJfLMVAluw",
      "execution_count": 51,
      "outputs": [
        {
          "output_type": "execute_result",
          "data": {
            "text/plain": [
              "(132305, 3)"
            ]
          },
          "metadata": {},
          "execution_count": 51
        }
      ]
    },
    {
      "cell_type": "code",
      "source": [
        "final_ratings.Book_ID.value_counts()"
      ],
      "metadata": {
        "colab": {
          "base_uri": "https://localhost:8080/"
        },
        "id": "4W_tF6pvBw74",
        "outputId": "8d6b6644-430a-4a6d-8d57-54bba5a70f87"
      },
      "id": "4W_tF6pvBw74",
      "execution_count": 52,
      "outputs": [
        {
          "output_type": "execute_result",
          "data": {
            "text/plain": [
              "380     822\n",
              "524     762\n",
              "339     724\n",
              "370     626\n",
              "529     611\n",
              "       ... \n",
              "1291     20\n",
              "2134     20\n",
              "1258     20\n",
              "1221     20\n",
              "678      20\n",
              "Name: Book_ID, Length: 2270, dtype: int64"
            ]
          },
          "metadata": {},
          "execution_count": 52
        }
      ]
    },
    {
      "cell_type": "code",
      "execution_count": 53,
      "id": "c22a2c40",
      "metadata": {
        "id": "c22a2c40"
      },
      "outputs": [],
      "source": [
        "#dividing testing and training data \n",
        "#Use lightFM to split data into train and test set \n",
        "# from sklearn.model_selection import train_test_split\n",
        "# train_df, test_df = train_test_split(comb_df, test_size=0.8)"
      ]
    },
    {
      "cell_type": "code",
      "execution_count": 54,
      "id": "574357de",
      "metadata": {
        "id": "574357de"
      },
      "outputs": [],
      "source": [
        "# train_df.shape"
      ]
    },
    {
      "cell_type": "code",
      "execution_count": 55,
      "id": "9740dca4",
      "metadata": {
        "id": "9740dca4",
        "outputId": "d6082129-c08f-418c-a2e2-72a8a49500ec",
        "colab": {
          "base_uri": "https://localhost:8080/"
        }
      },
      "outputs": [
        {
          "output_type": "execute_result",
          "data": {
            "text/plain": [
              "(2270, 2151)"
            ]
          },
          "metadata": {},
          "execution_count": 55
        }
      ],
      "source": [
        "pivot_df = final_ratings.pivot_table(index='Book_ID',columns='User_ID',values='Rating_Cat',fill_value=0)\n",
        "# pivot_df = final_ratings.pivot_table(values = 'Rating_Cat', index = 'Book_ID', columns = 'User_ID')  \n",
        "# pivot_df.head(50)\n",
        "pivot_df.shape"
      ]
    },
    {
      "cell_type": "code",
      "execution_count": 56,
      "id": "e94c0b64",
      "metadata": {
        "id": "e94c0b64"
      },
      "outputs": [],
      "source": [
        "pivot_df.fillna(0, inplace = True)\n"
      ]
    },
    {
      "cell_type": "code",
      "execution_count": 57,
      "id": "5b9d4d8f",
      "metadata": {
        "id": "5b9d4d8f"
      },
      "outputs": [],
      "source": [
        "# from sklearn.decomposition import TruncatedSVD\n",
        "\n",
        "# # X = train_pivot_df.T\n",
        "# SVD = TruncatedSVD(n_components=50, random_state=20)\n",
        "# SVD_matrix = SVD.fit_transform(train_pivot_df)\n"
      ]
    },
    {
      "cell_type": "code",
      "source": [
        "from sklearn.decomposition import TruncatedSVD\n",
        "\n",
        "# # X = train_pivot_df.T\n",
        "# SVD = TruncatedSVD(n_components=50, random_state=20)\n",
        "# SVD_matrix = SVD.fit_transform(pt)\n",
        "svd = TruncatedSVD(n_components=1000, random_state=20)\n",
        "svd.fit(pivot_df)\n",
        "result = svd.transform(pivot_df)\n",
        "# print(result)"
      ],
      "metadata": {
        "id": "96ncU0gk3neQ"
      },
      "id": "96ncU0gk3neQ",
      "execution_count": 58,
      "outputs": []
    },
    {
      "cell_type": "code",
      "source": [
        "result.shape"
      ],
      "metadata": {
        "colab": {
          "base_uri": "https://localhost:8080/"
        },
        "id": "vOHZ2yw24Ayi",
        "outputId": "e8271387-418d-457f-9d7c-f3688331c5d9"
      },
      "id": "vOHZ2yw24Ayi",
      "execution_count": 59,
      "outputs": [
        {
          "output_type": "execute_result",
          "data": {
            "text/plain": [
              "(2270, 1000)"
            ]
          },
          "metadata": {},
          "execution_count": 59
        }
      ]
    },
    {
      "cell_type": "code",
      "execution_count": 60,
      "id": "bfc3b036",
      "metadata": {
        "id": "bfc3b036",
        "colab": {
          "base_uri": "https://localhost:8080/"
        },
        "outputId": "c34da07a-871b-4f3b-b34f-c79cc1132664"
      },
      "outputs": [
        {
          "output_type": "execute_result",
          "data": {
            "text/plain": [
              "0.9634070587092624"
            ]
          },
          "metadata": {},
          "execution_count": 60
        }
      ],
      "source": [
        "svd.explained_variance_ratio_.sum()"
      ]
    },
    {
      "cell_type": "code",
      "source": [
        "from sklearn.metrics.pairwise import cosine_similarity\n",
        "similarity_scores = cosine_similarity(result)"
      ],
      "metadata": {
        "id": "jtTeNY2sGdXp"
      },
      "id": "jtTeNY2sGdXp",
      "execution_count": 61,
      "outputs": []
    },
    {
      "cell_type": "code",
      "source": [
        "type(similarity_scores)"
      ],
      "metadata": {
        "colab": {
          "base_uri": "https://localhost:8080/"
        },
        "id": "TOv_LELX5os7",
        "outputId": "ad755fa7-b35c-4d1a-8e94-5feaf44453df"
      },
      "id": "TOv_LELX5os7",
      "execution_count": 62,
      "outputs": [
        {
          "output_type": "execute_result",
          "data": {
            "text/plain": [
              "numpy.ndarray"
            ]
          },
          "metadata": {},
          "execution_count": 62
        }
      ]
    },
    {
      "cell_type": "code",
      "source": [
        "similarity_scores[5]"
      ],
      "metadata": {
        "colab": {
          "base_uri": "https://localhost:8080/"
        },
        "id": "5OqVnEfNCvLM",
        "outputId": "69d772f6-fa59-4a99-da70-50f3e03873da"
      },
      "id": "5OqVnEfNCvLM",
      "execution_count": 63,
      "outputs": [
        {
          "output_type": "execute_result",
          "data": {
            "text/plain": [
              "array([0.09290509, 0.21751544, 0.30194623, ..., 0.08450835, 0.01545512,\n",
              "       0.03497742])"
            ]
          },
          "metadata": {},
          "execution_count": 63
        }
      ]
    },
    {
      "cell_type": "code",
      "source": [
        "book_sim_df = pd.DataFrame(data=similarity_scores, index= pivot_df.index, columns= pivot_df.index)\n",
        "# book_sim_df\n"
      ],
      "metadata": {
        "id": "8e-_90BOFHxz"
      },
      "id": "8e-_90BOFHxz",
      "execution_count": 64,
      "outputs": []
    },
    {
      "cell_type": "code",
      "source": [
        "book_sim_df.values[[np.arange(book_sim_df.shape[0])]*2] = 0\n",
        "book_sim_df"
      ],
      "metadata": {
        "colab": {
          "base_uri": "https://localhost:8080/",
          "height": 529
        },
        "id": "hoXW0i_1jQ9N",
        "outputId": "b881e84f-6293-4782-c8d6-ee3f73428377"
      },
      "id": "hoXW0i_1jQ9N",
      "execution_count": 65,
      "outputs": [
        {
          "output_type": "stream",
          "name": "stderr",
          "text": [
            "/usr/local/lib/python3.7/dist-packages/ipykernel_launcher.py:1: FutureWarning: Using a non-tuple sequence for multidimensional indexing is deprecated; use `arr[tuple(seq)]` instead of `arr[seq]`. In the future this will be interpreted as an array index, `arr[np.array(seq)]`, which will result either in an error or a different result.\n",
            "  \"\"\"Entry point for launching an IPython kernel.\n"
          ]
        },
        {
          "output_type": "execute_result",
          "data": {
            "text/plain": [
              "Book_ID      100       101       102       103       104       105       106   \\\n",
              "Book_ID                                                                         \n",
              "100      0.000000  0.126587  0.060658  0.011265  0.043016  0.092905  0.064397   \n",
              "101      0.126587  0.000000  0.091728  0.118922  0.139198  0.217515  0.034795   \n",
              "102      0.060658  0.091728  0.000000  0.202212  0.303745  0.301946  0.232300   \n",
              "103      0.011265  0.118922  0.202212  0.000000  0.461009  0.355952  0.046730   \n",
              "104      0.043016  0.139198  0.303745  0.461009  0.000000  0.413387  0.122256   \n",
              "...           ...       ...       ...       ...       ...       ...       ...   \n",
              "2365     0.111888  0.077510  0.095425  0.040672  0.030091  0.136918  0.064745   \n",
              "2366     0.041116  0.028251  0.000194  0.010384  0.007024  0.061906  0.033791   \n",
              "2367     0.048242  0.029784  0.168340  0.024274  0.039057  0.084508  0.168675   \n",
              "2368     0.064304  0.029150  0.028666 -0.004391 -0.003443  0.015455  0.199207   \n",
              "2369     0.122979  0.023469  0.118229  0.039911  0.058323  0.034977  0.313429   \n",
              "\n",
              "Book_ID      107       108       109   ...      2360      2361      2362  \\\n",
              "Book_ID                                ...                                 \n",
              "100      0.070271  0.102704  0.094952  ...  0.084318  0.017219  0.042005   \n",
              "101      0.075147  0.163848  0.111820  ...  0.012181  0.123150  0.020797   \n",
              "102      0.065701  0.374648  0.067763  ...  0.001153  0.066356  0.000350   \n",
              "103      0.040709  0.219905  0.060919  ...  0.001470  0.067987 -0.001101   \n",
              "104      0.032483  0.338222  0.061211  ...  0.001184  0.144724 -0.000020   \n",
              "...           ...       ...       ...  ...       ...       ...       ...   \n",
              "2365     0.042938  0.084768  0.052888  ...  0.000539  0.011613 -0.001225   \n",
              "2366     0.022815  0.030345  0.027124  ... -0.001896  0.022449 -0.000924   \n",
              "2367     0.019382  0.107437  0.016510  ...  0.001303  0.020545 -0.002617   \n",
              "2368     0.001557  0.034519 -0.000856  ... -0.000303  0.000007  0.002637   \n",
              "2369     0.002132  0.055278  0.006638  ...  0.002346  0.001950 -0.000462   \n",
              "\n",
              "Book_ID      2363      2364      2365      2366      2367      2368      2369  \n",
              "Book_ID                                                                        \n",
              "100      0.087281  0.147371  0.111888  0.041116  0.048242  0.064304  0.122979  \n",
              "101      0.097432  0.186379  0.077510  0.028251  0.029784  0.029150  0.023469  \n",
              "102      0.178601  0.205091  0.095425  0.000194  0.168340  0.028666  0.118229  \n",
              "103      0.087714  0.114847  0.040672  0.010384  0.024274 -0.004391  0.039911  \n",
              "104      0.153259  0.183844  0.030091  0.007024  0.039057 -0.003443  0.058323  \n",
              "...           ...       ...       ...       ...       ...       ...       ...  \n",
              "2365     0.090369  0.303025  0.000000  0.131584  0.104953  0.034354  0.047939  \n",
              "2366     0.047927  0.129243  0.131584  0.000000  0.154861  0.052511  0.024633  \n",
              "2367     0.159493  0.187759  0.104953  0.154861  0.000000  0.197702  0.219060  \n",
              "2368     0.344036  0.126784  0.034354  0.052511  0.197702  0.000000  0.251805  \n",
              "2369     0.212157  0.161135  0.047939  0.024633  0.219060  0.251805  0.000000  \n",
              "\n",
              "[2270 rows x 2270 columns]"
            ],
            "text/html": [
              "\n",
              "  <div id=\"df-2bea4ae9-f826-4aec-ac54-4fd69e1feefe\">\n",
              "    <div class=\"colab-df-container\">\n",
              "      <div>\n",
              "<style scoped>\n",
              "    .dataframe tbody tr th:only-of-type {\n",
              "        vertical-align: middle;\n",
              "    }\n",
              "\n",
              "    .dataframe tbody tr th {\n",
              "        vertical-align: top;\n",
              "    }\n",
              "\n",
              "    .dataframe thead th {\n",
              "        text-align: right;\n",
              "    }\n",
              "</style>\n",
              "<table border=\"1\" class=\"dataframe\">\n",
              "  <thead>\n",
              "    <tr style=\"text-align: right;\">\n",
              "      <th>Book_ID</th>\n",
              "      <th>100</th>\n",
              "      <th>101</th>\n",
              "      <th>102</th>\n",
              "      <th>103</th>\n",
              "      <th>104</th>\n",
              "      <th>105</th>\n",
              "      <th>106</th>\n",
              "      <th>107</th>\n",
              "      <th>108</th>\n",
              "      <th>109</th>\n",
              "      <th>...</th>\n",
              "      <th>2360</th>\n",
              "      <th>2361</th>\n",
              "      <th>2362</th>\n",
              "      <th>2363</th>\n",
              "      <th>2364</th>\n",
              "      <th>2365</th>\n",
              "      <th>2366</th>\n",
              "      <th>2367</th>\n",
              "      <th>2368</th>\n",
              "      <th>2369</th>\n",
              "    </tr>\n",
              "    <tr>\n",
              "      <th>Book_ID</th>\n",
              "      <th></th>\n",
              "      <th></th>\n",
              "      <th></th>\n",
              "      <th></th>\n",
              "      <th></th>\n",
              "      <th></th>\n",
              "      <th></th>\n",
              "      <th></th>\n",
              "      <th></th>\n",
              "      <th></th>\n",
              "      <th></th>\n",
              "      <th></th>\n",
              "      <th></th>\n",
              "      <th></th>\n",
              "      <th></th>\n",
              "      <th></th>\n",
              "      <th></th>\n",
              "      <th></th>\n",
              "      <th></th>\n",
              "      <th></th>\n",
              "      <th></th>\n",
              "    </tr>\n",
              "  </thead>\n",
              "  <tbody>\n",
              "    <tr>\n",
              "      <th>100</th>\n",
              "      <td>0.000000</td>\n",
              "      <td>0.126587</td>\n",
              "      <td>0.060658</td>\n",
              "      <td>0.011265</td>\n",
              "      <td>0.043016</td>\n",
              "      <td>0.092905</td>\n",
              "      <td>0.064397</td>\n",
              "      <td>0.070271</td>\n",
              "      <td>0.102704</td>\n",
              "      <td>0.094952</td>\n",
              "      <td>...</td>\n",
              "      <td>0.084318</td>\n",
              "      <td>0.017219</td>\n",
              "      <td>0.042005</td>\n",
              "      <td>0.087281</td>\n",
              "      <td>0.147371</td>\n",
              "      <td>0.111888</td>\n",
              "      <td>0.041116</td>\n",
              "      <td>0.048242</td>\n",
              "      <td>0.064304</td>\n",
              "      <td>0.122979</td>\n",
              "    </tr>\n",
              "    <tr>\n",
              "      <th>101</th>\n",
              "      <td>0.126587</td>\n",
              "      <td>0.000000</td>\n",
              "      <td>0.091728</td>\n",
              "      <td>0.118922</td>\n",
              "      <td>0.139198</td>\n",
              "      <td>0.217515</td>\n",
              "      <td>0.034795</td>\n",
              "      <td>0.075147</td>\n",
              "      <td>0.163848</td>\n",
              "      <td>0.111820</td>\n",
              "      <td>...</td>\n",
              "      <td>0.012181</td>\n",
              "      <td>0.123150</td>\n",
              "      <td>0.020797</td>\n",
              "      <td>0.097432</td>\n",
              "      <td>0.186379</td>\n",
              "      <td>0.077510</td>\n",
              "      <td>0.028251</td>\n",
              "      <td>0.029784</td>\n",
              "      <td>0.029150</td>\n",
              "      <td>0.023469</td>\n",
              "    </tr>\n",
              "    <tr>\n",
              "      <th>102</th>\n",
              "      <td>0.060658</td>\n",
              "      <td>0.091728</td>\n",
              "      <td>0.000000</td>\n",
              "      <td>0.202212</td>\n",
              "      <td>0.303745</td>\n",
              "      <td>0.301946</td>\n",
              "      <td>0.232300</td>\n",
              "      <td>0.065701</td>\n",
              "      <td>0.374648</td>\n",
              "      <td>0.067763</td>\n",
              "      <td>...</td>\n",
              "      <td>0.001153</td>\n",
              "      <td>0.066356</td>\n",
              "      <td>0.000350</td>\n",
              "      <td>0.178601</td>\n",
              "      <td>0.205091</td>\n",
              "      <td>0.095425</td>\n",
              "      <td>0.000194</td>\n",
              "      <td>0.168340</td>\n",
              "      <td>0.028666</td>\n",
              "      <td>0.118229</td>\n",
              "    </tr>\n",
              "    <tr>\n",
              "      <th>103</th>\n",
              "      <td>0.011265</td>\n",
              "      <td>0.118922</td>\n",
              "      <td>0.202212</td>\n",
              "      <td>0.000000</td>\n",
              "      <td>0.461009</td>\n",
              "      <td>0.355952</td>\n",
              "      <td>0.046730</td>\n",
              "      <td>0.040709</td>\n",
              "      <td>0.219905</td>\n",
              "      <td>0.060919</td>\n",
              "      <td>...</td>\n",
              "      <td>0.001470</td>\n",
              "      <td>0.067987</td>\n",
              "      <td>-0.001101</td>\n",
              "      <td>0.087714</td>\n",
              "      <td>0.114847</td>\n",
              "      <td>0.040672</td>\n",
              "      <td>0.010384</td>\n",
              "      <td>0.024274</td>\n",
              "      <td>-0.004391</td>\n",
              "      <td>0.039911</td>\n",
              "    </tr>\n",
              "    <tr>\n",
              "      <th>104</th>\n",
              "      <td>0.043016</td>\n",
              "      <td>0.139198</td>\n",
              "      <td>0.303745</td>\n",
              "      <td>0.461009</td>\n",
              "      <td>0.000000</td>\n",
              "      <td>0.413387</td>\n",
              "      <td>0.122256</td>\n",
              "      <td>0.032483</td>\n",
              "      <td>0.338222</td>\n",
              "      <td>0.061211</td>\n",
              "      <td>...</td>\n",
              "      <td>0.001184</td>\n",
              "      <td>0.144724</td>\n",
              "      <td>-0.000020</td>\n",
              "      <td>0.153259</td>\n",
              "      <td>0.183844</td>\n",
              "      <td>0.030091</td>\n",
              "      <td>0.007024</td>\n",
              "      <td>0.039057</td>\n",
              "      <td>-0.003443</td>\n",
              "      <td>0.058323</td>\n",
              "    </tr>\n",
              "    <tr>\n",
              "      <th>...</th>\n",
              "      <td>...</td>\n",
              "      <td>...</td>\n",
              "      <td>...</td>\n",
              "      <td>...</td>\n",
              "      <td>...</td>\n",
              "      <td>...</td>\n",
              "      <td>...</td>\n",
              "      <td>...</td>\n",
              "      <td>...</td>\n",
              "      <td>...</td>\n",
              "      <td>...</td>\n",
              "      <td>...</td>\n",
              "      <td>...</td>\n",
              "      <td>...</td>\n",
              "      <td>...</td>\n",
              "      <td>...</td>\n",
              "      <td>...</td>\n",
              "      <td>...</td>\n",
              "      <td>...</td>\n",
              "      <td>...</td>\n",
              "      <td>...</td>\n",
              "    </tr>\n",
              "    <tr>\n",
              "      <th>2365</th>\n",
              "      <td>0.111888</td>\n",
              "      <td>0.077510</td>\n",
              "      <td>0.095425</td>\n",
              "      <td>0.040672</td>\n",
              "      <td>0.030091</td>\n",
              "      <td>0.136918</td>\n",
              "      <td>0.064745</td>\n",
              "      <td>0.042938</td>\n",
              "      <td>0.084768</td>\n",
              "      <td>0.052888</td>\n",
              "      <td>...</td>\n",
              "      <td>0.000539</td>\n",
              "      <td>0.011613</td>\n",
              "      <td>-0.001225</td>\n",
              "      <td>0.090369</td>\n",
              "      <td>0.303025</td>\n",
              "      <td>0.000000</td>\n",
              "      <td>0.131584</td>\n",
              "      <td>0.104953</td>\n",
              "      <td>0.034354</td>\n",
              "      <td>0.047939</td>\n",
              "    </tr>\n",
              "    <tr>\n",
              "      <th>2366</th>\n",
              "      <td>0.041116</td>\n",
              "      <td>0.028251</td>\n",
              "      <td>0.000194</td>\n",
              "      <td>0.010384</td>\n",
              "      <td>0.007024</td>\n",
              "      <td>0.061906</td>\n",
              "      <td>0.033791</td>\n",
              "      <td>0.022815</td>\n",
              "      <td>0.030345</td>\n",
              "      <td>0.027124</td>\n",
              "      <td>...</td>\n",
              "      <td>-0.001896</td>\n",
              "      <td>0.022449</td>\n",
              "      <td>-0.000924</td>\n",
              "      <td>0.047927</td>\n",
              "      <td>0.129243</td>\n",
              "      <td>0.131584</td>\n",
              "      <td>0.000000</td>\n",
              "      <td>0.154861</td>\n",
              "      <td>0.052511</td>\n",
              "      <td>0.024633</td>\n",
              "    </tr>\n",
              "    <tr>\n",
              "      <th>2367</th>\n",
              "      <td>0.048242</td>\n",
              "      <td>0.029784</td>\n",
              "      <td>0.168340</td>\n",
              "      <td>0.024274</td>\n",
              "      <td>0.039057</td>\n",
              "      <td>0.084508</td>\n",
              "      <td>0.168675</td>\n",
              "      <td>0.019382</td>\n",
              "      <td>0.107437</td>\n",
              "      <td>0.016510</td>\n",
              "      <td>...</td>\n",
              "      <td>0.001303</td>\n",
              "      <td>0.020545</td>\n",
              "      <td>-0.002617</td>\n",
              "      <td>0.159493</td>\n",
              "      <td>0.187759</td>\n",
              "      <td>0.104953</td>\n",
              "      <td>0.154861</td>\n",
              "      <td>0.000000</td>\n",
              "      <td>0.197702</td>\n",
              "      <td>0.219060</td>\n",
              "    </tr>\n",
              "    <tr>\n",
              "      <th>2368</th>\n",
              "      <td>0.064304</td>\n",
              "      <td>0.029150</td>\n",
              "      <td>0.028666</td>\n",
              "      <td>-0.004391</td>\n",
              "      <td>-0.003443</td>\n",
              "      <td>0.015455</td>\n",
              "      <td>0.199207</td>\n",
              "      <td>0.001557</td>\n",
              "      <td>0.034519</td>\n",
              "      <td>-0.000856</td>\n",
              "      <td>...</td>\n",
              "      <td>-0.000303</td>\n",
              "      <td>0.000007</td>\n",
              "      <td>0.002637</td>\n",
              "      <td>0.344036</td>\n",
              "      <td>0.126784</td>\n",
              "      <td>0.034354</td>\n",
              "      <td>0.052511</td>\n",
              "      <td>0.197702</td>\n",
              "      <td>0.000000</td>\n",
              "      <td>0.251805</td>\n",
              "    </tr>\n",
              "    <tr>\n",
              "      <th>2369</th>\n",
              "      <td>0.122979</td>\n",
              "      <td>0.023469</td>\n",
              "      <td>0.118229</td>\n",
              "      <td>0.039911</td>\n",
              "      <td>0.058323</td>\n",
              "      <td>0.034977</td>\n",
              "      <td>0.313429</td>\n",
              "      <td>0.002132</td>\n",
              "      <td>0.055278</td>\n",
              "      <td>0.006638</td>\n",
              "      <td>...</td>\n",
              "      <td>0.002346</td>\n",
              "      <td>0.001950</td>\n",
              "      <td>-0.000462</td>\n",
              "      <td>0.212157</td>\n",
              "      <td>0.161135</td>\n",
              "      <td>0.047939</td>\n",
              "      <td>0.024633</td>\n",
              "      <td>0.219060</td>\n",
              "      <td>0.251805</td>\n",
              "      <td>0.000000</td>\n",
              "    </tr>\n",
              "  </tbody>\n",
              "</table>\n",
              "<p>2270 rows × 2270 columns</p>\n",
              "</div>\n",
              "      <button class=\"colab-df-convert\" onclick=\"convertToInteractive('df-2bea4ae9-f826-4aec-ac54-4fd69e1feefe')\"\n",
              "              title=\"Convert this dataframe to an interactive table.\"\n",
              "              style=\"display:none;\">\n",
              "        \n",
              "  <svg xmlns=\"http://www.w3.org/2000/svg\" height=\"24px\"viewBox=\"0 0 24 24\"\n",
              "       width=\"24px\">\n",
              "    <path d=\"M0 0h24v24H0V0z\" fill=\"none\"/>\n",
              "    <path d=\"M18.56 5.44l.94 2.06.94-2.06 2.06-.94-2.06-.94-.94-2.06-.94 2.06-2.06.94zm-11 1L8.5 8.5l.94-2.06 2.06-.94-2.06-.94L8.5 2.5l-.94 2.06-2.06.94zm10 10l.94 2.06.94-2.06 2.06-.94-2.06-.94-.94-2.06-.94 2.06-2.06.94z\"/><path d=\"M17.41 7.96l-1.37-1.37c-.4-.4-.92-.59-1.43-.59-.52 0-1.04.2-1.43.59L10.3 9.45l-7.72 7.72c-.78.78-.78 2.05 0 2.83L4 21.41c.39.39.9.59 1.41.59.51 0 1.02-.2 1.41-.59l7.78-7.78 2.81-2.81c.8-.78.8-2.07 0-2.86zM5.41 20L4 18.59l7.72-7.72 1.47 1.35L5.41 20z\"/>\n",
              "  </svg>\n",
              "      </button>\n",
              "      \n",
              "  <style>\n",
              "    .colab-df-container {\n",
              "      display:flex;\n",
              "      flex-wrap:wrap;\n",
              "      gap: 12px;\n",
              "    }\n",
              "\n",
              "    .colab-df-convert {\n",
              "      background-color: #E8F0FE;\n",
              "      border: none;\n",
              "      border-radius: 50%;\n",
              "      cursor: pointer;\n",
              "      display: none;\n",
              "      fill: #1967D2;\n",
              "      height: 32px;\n",
              "      padding: 0 0 0 0;\n",
              "      width: 32px;\n",
              "    }\n",
              "\n",
              "    .colab-df-convert:hover {\n",
              "      background-color: #E2EBFA;\n",
              "      box-shadow: 0px 1px 2px rgba(60, 64, 67, 0.3), 0px 1px 3px 1px rgba(60, 64, 67, 0.15);\n",
              "      fill: #174EA6;\n",
              "    }\n",
              "\n",
              "    [theme=dark] .colab-df-convert {\n",
              "      background-color: #3B4455;\n",
              "      fill: #D2E3FC;\n",
              "    }\n",
              "\n",
              "    [theme=dark] .colab-df-convert:hover {\n",
              "      background-color: #434B5C;\n",
              "      box-shadow: 0px 1px 3px 1px rgba(0, 0, 0, 0.15);\n",
              "      filter: drop-shadow(0px 1px 2px rgba(0, 0, 0, 0.3));\n",
              "      fill: #FFFFFF;\n",
              "    }\n",
              "  </style>\n",
              "\n",
              "      <script>\n",
              "        const buttonEl =\n",
              "          document.querySelector('#df-2bea4ae9-f826-4aec-ac54-4fd69e1feefe button.colab-df-convert');\n",
              "        buttonEl.style.display =\n",
              "          google.colab.kernel.accessAllowed ? 'block' : 'none';\n",
              "\n",
              "        async function convertToInteractive(key) {\n",
              "          const element = document.querySelector('#df-2bea4ae9-f826-4aec-ac54-4fd69e1feefe');\n",
              "          const dataTable =\n",
              "            await google.colab.kernel.invokeFunction('convertToInteractive',\n",
              "                                                     [key], {});\n",
              "          if (!dataTable) return;\n",
              "\n",
              "          const docLinkHtml = 'Like what you see? Visit the ' +\n",
              "            '<a target=\"_blank\" href=https://colab.research.google.com/notebooks/data_table.ipynb>data table notebook</a>'\n",
              "            + ' to learn more about interactive tables.';\n",
              "          element.innerHTML = '';\n",
              "          dataTable['output_type'] = 'display_data';\n",
              "          await google.colab.output.renderOutput(dataTable, element);\n",
              "          const docLink = document.createElement('div');\n",
              "          docLink.innerHTML = docLinkHtml;\n",
              "          element.appendChild(docLink);\n",
              "        }\n",
              "      </script>\n",
              "    </div>\n",
              "  </div>\n",
              "  "
            ]
          },
          "metadata": {},
          "execution_count": 65
        }
      ]
    },
    {
      "cell_type": "code",
      "execution_count": 66,
      "id": "afcf0daa",
      "metadata": {
        "id": "afcf0daa",
        "outputId": "1a6da54c-0f4c-4dc2-b5de-9e103e456cf9",
        "colab": {
          "base_uri": "https://localhost:8080/"
        }
      },
      "outputs": [
        {
          "output_type": "execute_result",
          "data": {
            "text/plain": [
              "Int64Index([190, 199], dtype='int64', name='Book_ID')"
            ]
          },
          "metadata": {},
          "execution_count": 66
        }
      ],
      "source": [
        "recommend=book_sim_df[book_sim_df[195]>0.35].index\n",
        "recommend\n",
        "\n",
        "# Recommend = list(X.index[correlation_product_ID > 0.90])\n",
        "# Recommend[0:9]"
      ]
    },
    {
      "cell_type": "code",
      "source": [
        "book=get_book_name(110)\n",
        "book\n"
      ],
      "metadata": {
        "colab": {
          "base_uri": "https://localhost:8080/",
          "height": 35
        },
        "id": "UiXrtBYlrcU9",
        "outputId": "b611385c-8c09-4a0f-f977-5452cf4928d5"
      },
      "id": "UiXrtBYlrcU9",
      "execution_count": 67,
      "outputs": [
        {
          "output_type": "execute_result",
          "data": {
            "text/plain": [
              "'The Martian'"
            ],
            "application/vnd.google.colaboratory.intrinsic+json": {
              "type": "string"
            }
          },
          "metadata": {},
          "execution_count": 67
        }
      ]
    },
    {
      "cell_type": "code",
      "source": [
        "def list_of_recs(ID, df=book_sim_df):\n",
        "  # print (df.nlargest(5, ID))\n",
        "   a = df.sort_values(ID, ascending=False).head(6)\n",
        "   rec_list=[]\n",
        "   i=0\n",
        "   for i in range(0,5):\n",
        "    rec_list.append(get_book_name(a.index.values[i]))\n",
        "    i+=1\n",
        "\n",
        "   return(rec_list)\n",
        "  #  print first five row indexes of this dataframe, for each of the indexes call the \n",
        "  #  get_book_name function and append the book names to a list which will be returned by this function. \n",
        "\n",
        "\n",
        "rec=list_of_recs(110)\n",
        "rec"
      ],
      "metadata": {
        "colab": {
          "base_uri": "https://localhost:8080/"
        },
        "id": "dM0eB4mMrcjE",
        "outputId": "80ae24dc-7b23-4811-f84f-e652a2d22d32"
      },
      "id": "dM0eB4mMrcjE",
      "execution_count": 68,
      "outputs": [
        {
          "output_type": "execute_result",
          "data": {
            "text/plain": [
              "['Ready Player One (Ready Player One, #1)',\n",
              " 'Artemis',\n",
              " 'Seveneves',\n",
              " 'Red Rising (Red Rising Saga, #1)',\n",
              " 'Station Eleven']"
            ]
          },
          "metadata": {},
          "execution_count": 68
        }
      ]
    },
    {
      "cell_type": "code",
      "execution_count": 68,
      "id": "b6295697",
      "metadata": {
        "id": "b6295697"
      },
      "outputs": [],
      "source": [
        ""
      ]
    }
  ],
  "metadata": {
    "kernelspec": {
      "display_name": "Python 3",
      "name": "python3"
    },
    "language_info": {
      "name": "python"
    },
    "colab": {
      "name": "BooksRec_FInal.ipynb",
      "provenance": [],
      "machine_shape": "hm"
    }
  },
  "nbformat": 4,
  "nbformat_minor": 5
}