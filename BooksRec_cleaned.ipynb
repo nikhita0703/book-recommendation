{
  "cells": [
    {
      "cell_type": "markdown",
      "source": [
        "In this notebook we'll look at a collaborative filtering \n",
        "based method of recommending relevant books to the user. "
      ],
      "metadata": {
        "id": "zfukRCTmsUW-"
      },
      "id": "zfukRCTmsUW-"
    },
    {
      "cell_type": "code",
      "execution_count": null,
      "id": "b85f38de",
      "metadata": {
        "id": "b85f38de",
        "outputId": "b4db949e-307b-4b73-b429-dd3541941a59",
        "colab": {
          "base_uri": "https://localhost:8080/",
          "height": 36
        }
      },
      "outputs": [
        {
          "output_type": "execute_result",
          "data": {
            "text/plain": [
              "'/content'"
            ],
            "application/vnd.google.colaboratory.intrinsic+json": {
              "type": "string"
            }
          },
          "metadata": {},
          "execution_count": 2
        }
      ],
      "source": [
        "import os \n",
        "import numpy as np\n",
        "import pandas as pd\n",
        "import zipfile\n",
        "import tensorflow as tf\n",
        "from tensorflow import keras\n",
        "from sklearn.pipeline import Pipeline\n",
        "from sklearn.linear_model import LogisticRegression\n",
        "from sklearn.tree import DecisionTreeClassifier\n",
        "from sklearn.ensemble import RandomForestClassifier\n",
        "os.getcwd()"
      ]
    },
    {
      "cell_type": "code",
      "source": [
        "from google.colab import drive \n",
        "drive.mount('/content/gdrive')"
      ],
      "metadata": {
        "id": "RIYH4-uptEe_",
        "colab": {
          "base_uri": "https://localhost:8080/"
        },
        "outputId": "ae03c680-2c47-4b64-9a4a-6b5e82de8151"
      },
      "id": "RIYH4-uptEe_",
      "execution_count": null,
      "outputs": [
        {
          "output_type": "stream",
          "name": "stdout",
          "text": [
            "Mounted at /content/gdrive\n"
          ]
        }
      ]
    },
    {
      "cell_type": "markdown",
      "source": [
        "To have a look at the files within the zipfile."
      ],
      "metadata": {
        "id": "vuOiIG6tE1QW"
      },
      "id": "vuOiIG6tE1QW"
    },
    {
      "cell_type": "code",
      "source": [
        "import zipfile as ZipFile\n",
        "with zipfile.ZipFile('/content/gdrive/MyDrive/BookRec.zip', 'r') as zipObj:\n",
        "   # Get list of files in zipfile\n",
        "   listOfiles = zipObj.namelist()\n",
        "   for elem in listOfiles:\n",
        "      print(elem)"
      ],
      "metadata": {
        "colab": {
          "base_uri": "https://localhost:8080/"
        },
        "id": "poHoT9SXE0Bl",
        "outputId": "175e2595-849c-40a8-8173-a7428398b9e1"
      },
      "id": "poHoT9SXE0Bl",
      "execution_count": null,
      "outputs": [
        {
          "output_type": "stream",
          "name": "stdout",
          "text": [
            "book1-100k.csv\n",
            "book1000k-1100k.csv\n",
            "book100k-200k.csv\n",
            "book1100k-1200k.csv\n",
            "book1200k-1300k.csv\n",
            "book1300k-1400k.csv\n",
            "book1400k-1500k.csv\n",
            "book1500k-1600k.csv\n",
            "book1600k-1700k.csv\n",
            "book1700k-1800k.csv\n",
            "book1800k-1900k.csv\n",
            "book1900k-2000k.csv\n",
            "book2000k-3000k.csv\n",
            "book200k-300k.csv\n",
            "book3000k-4000k.csv\n",
            "book300k-400k.csv\n",
            "book4000k-5000k.csv\n",
            "book400k-500k.csv\n",
            "book500k-600k.csv\n",
            "book600k-700k.csv\n",
            "book700k-800k.csv\n",
            "book800k-900k.csv\n",
            "book900k-1000k.csv\n",
            "user_rating_0_to_1000.csv\n",
            "user_rating_1000_to_2000.csv\n",
            "user_rating_2000_to_3000.csv\n",
            "user_rating_3000_to_4000.csv\n",
            "user_rating_4000_to_5000.csv\n",
            "user_rating_5000_to_6000.csv\n",
            "user_rating_6000_to_11000.csv\n"
          ]
        }
      ]
    },
    {
      "cell_type": "markdown",
      "source": [
        "Reading the contents of one of the files into a pandas dataframe. "
      ],
      "metadata": {
        "id": "nxh1IGj48cDK"
      },
      "id": "nxh1IGj48cDK"
    },
    {
      "cell_type": "code",
      "execution_count": null,
      "id": "c0083082",
      "metadata": {
        "id": "c0083082",
        "outputId": "1da57e06-a711-4307-a911-032faf29eb0e",
        "colab": {
          "base_uri": "https://localhost:8080/",
          "height": 617
        }
      },
      "outputs": [
        {
          "output_type": "execute_result",
          "data": {
            "text/plain": [
              "        Id                                               Name  \\\n",
              "0  1300002                                        Still River   \n",
              "1  1300003                The Naturalist on the River Amazons   \n",
              "2  1300017  Molecular Biology of Membrane Transport Disorders   \n",
              "3  1300027  The Question Of Discrimination: Racial Inequal...   \n",
              "4  1300028                             Unlevel Playing Fields   \n",
              "\n",
              "              Authors        ISBN  Rating  PublishYear  PublishMonth  \\\n",
              "0     Harry Hunsicker  0312940904    3.69         2006            27   \n",
              "1  Henry Walter Bates  1589761979    3.91         2002            15   \n",
              "2  Stanley G. Schultz  0306451646    0.00         1996            30   \n",
              "3      Steven Shulman  0819552143    0.00         1989             1   \n",
              "4       Randy Albelda  0070009686    3.58         1997             1   \n",
              "\n",
              "   PublishDay              Publisher RatingDist5 RatingDist4 RatingDist3  \\\n",
              "0           6         Minotaur Books        5:35        4:50        3:52   \n",
              "1           8        Narrative Press        5:23        4:25        3:13   \n",
              "2           6               Springer         5:0         4:0         3:0   \n",
              "3           9               Wesleyan         5:0         4:0         3:0   \n",
              "4           1  McGraw-Hill Companies         5:8         4:7         3:3   \n",
              "\n",
              "  RatingDist2 RatingDist1 RatingDistTotal  CountsOfReview Language  \\\n",
              "0        2:12         1:2       total:151              20      NaN   \n",
              "1         2:5         1:2        total:68              11      eng   \n",
              "2         2:0         1:0         total:0               0      NaN   \n",
              "3         2:0         1:0         total:0               0      NaN   \n",
              "4         2:3         1:3        total:24               0      NaN   \n",
              "\n",
              "   pagesNumber                                        Description  \\\n",
              "0          304  <i>In a stark and haunting debut novel, Harry ...   \n",
              "1          432  Charles Darwin encouraged Bates to write this ...   \n",
              "2          657  When the six of us gathered to start planning ...   \n",
              "3          394                                                NaN   \n",
              "4          256  Brief, topical, and issues-oriented, this inno...   \n",
              "\n",
              "   Count of text reviews  \n",
              "0                     20  \n",
              "1                     11  \n",
              "2                      0  \n",
              "3                      0  \n",
              "4                      0  "
            ],
            "text/html": [
              "\n",
              "  <div id=\"df-4a764ee3-c3e7-45f8-9e2a-be184422c226\">\n",
              "    <div class=\"colab-df-container\">\n",
              "      <div>\n",
              "<style scoped>\n",
              "    .dataframe tbody tr th:only-of-type {\n",
              "        vertical-align: middle;\n",
              "    }\n",
              "\n",
              "    .dataframe tbody tr th {\n",
              "        vertical-align: top;\n",
              "    }\n",
              "\n",
              "    .dataframe thead th {\n",
              "        text-align: right;\n",
              "    }\n",
              "</style>\n",
              "<table border=\"1\" class=\"dataframe\">\n",
              "  <thead>\n",
              "    <tr style=\"text-align: right;\">\n",
              "      <th></th>\n",
              "      <th>Id</th>\n",
              "      <th>Name</th>\n",
              "      <th>Authors</th>\n",
              "      <th>ISBN</th>\n",
              "      <th>Rating</th>\n",
              "      <th>PublishYear</th>\n",
              "      <th>PublishMonth</th>\n",
              "      <th>PublishDay</th>\n",
              "      <th>Publisher</th>\n",
              "      <th>RatingDist5</th>\n",
              "      <th>RatingDist4</th>\n",
              "      <th>RatingDist3</th>\n",
              "      <th>RatingDist2</th>\n",
              "      <th>RatingDist1</th>\n",
              "      <th>RatingDistTotal</th>\n",
              "      <th>CountsOfReview</th>\n",
              "      <th>Language</th>\n",
              "      <th>pagesNumber</th>\n",
              "      <th>Description</th>\n",
              "      <th>Count of text reviews</th>\n",
              "    </tr>\n",
              "  </thead>\n",
              "  <tbody>\n",
              "    <tr>\n",
              "      <th>0</th>\n",
              "      <td>1300002</td>\n",
              "      <td>Still River</td>\n",
              "      <td>Harry Hunsicker</td>\n",
              "      <td>0312940904</td>\n",
              "      <td>3.69</td>\n",
              "      <td>2006</td>\n",
              "      <td>27</td>\n",
              "      <td>6</td>\n",
              "      <td>Minotaur Books</td>\n",
              "      <td>5:35</td>\n",
              "      <td>4:50</td>\n",
              "      <td>3:52</td>\n",
              "      <td>2:12</td>\n",
              "      <td>1:2</td>\n",
              "      <td>total:151</td>\n",
              "      <td>20</td>\n",
              "      <td>NaN</td>\n",
              "      <td>304</td>\n",
              "      <td>&lt;i&gt;In a stark and haunting debut novel, Harry ...</td>\n",
              "      <td>20</td>\n",
              "    </tr>\n",
              "    <tr>\n",
              "      <th>1</th>\n",
              "      <td>1300003</td>\n",
              "      <td>The Naturalist on the River Amazons</td>\n",
              "      <td>Henry Walter Bates</td>\n",
              "      <td>1589761979</td>\n",
              "      <td>3.91</td>\n",
              "      <td>2002</td>\n",
              "      <td>15</td>\n",
              "      <td>8</td>\n",
              "      <td>Narrative Press</td>\n",
              "      <td>5:23</td>\n",
              "      <td>4:25</td>\n",
              "      <td>3:13</td>\n",
              "      <td>2:5</td>\n",
              "      <td>1:2</td>\n",
              "      <td>total:68</td>\n",
              "      <td>11</td>\n",
              "      <td>eng</td>\n",
              "      <td>432</td>\n",
              "      <td>Charles Darwin encouraged Bates to write this ...</td>\n",
              "      <td>11</td>\n",
              "    </tr>\n",
              "    <tr>\n",
              "      <th>2</th>\n",
              "      <td>1300017</td>\n",
              "      <td>Molecular Biology of Membrane Transport Disorders</td>\n",
              "      <td>Stanley G. Schultz</td>\n",
              "      <td>0306451646</td>\n",
              "      <td>0.00</td>\n",
              "      <td>1996</td>\n",
              "      <td>30</td>\n",
              "      <td>6</td>\n",
              "      <td>Springer</td>\n",
              "      <td>5:0</td>\n",
              "      <td>4:0</td>\n",
              "      <td>3:0</td>\n",
              "      <td>2:0</td>\n",
              "      <td>1:0</td>\n",
              "      <td>total:0</td>\n",
              "      <td>0</td>\n",
              "      <td>NaN</td>\n",
              "      <td>657</td>\n",
              "      <td>When the six of us gathered to start planning ...</td>\n",
              "      <td>0</td>\n",
              "    </tr>\n",
              "    <tr>\n",
              "      <th>3</th>\n",
              "      <td>1300027</td>\n",
              "      <td>The Question Of Discrimination: Racial Inequal...</td>\n",
              "      <td>Steven Shulman</td>\n",
              "      <td>0819552143</td>\n",
              "      <td>0.00</td>\n",
              "      <td>1989</td>\n",
              "      <td>1</td>\n",
              "      <td>9</td>\n",
              "      <td>Wesleyan</td>\n",
              "      <td>5:0</td>\n",
              "      <td>4:0</td>\n",
              "      <td>3:0</td>\n",
              "      <td>2:0</td>\n",
              "      <td>1:0</td>\n",
              "      <td>total:0</td>\n",
              "      <td>0</td>\n",
              "      <td>NaN</td>\n",
              "      <td>394</td>\n",
              "      <td>NaN</td>\n",
              "      <td>0</td>\n",
              "    </tr>\n",
              "    <tr>\n",
              "      <th>4</th>\n",
              "      <td>1300028</td>\n",
              "      <td>Unlevel Playing Fields</td>\n",
              "      <td>Randy Albelda</td>\n",
              "      <td>0070009686</td>\n",
              "      <td>3.58</td>\n",
              "      <td>1997</td>\n",
              "      <td>1</td>\n",
              "      <td>1</td>\n",
              "      <td>McGraw-Hill Companies</td>\n",
              "      <td>5:8</td>\n",
              "      <td>4:7</td>\n",
              "      <td>3:3</td>\n",
              "      <td>2:3</td>\n",
              "      <td>1:3</td>\n",
              "      <td>total:24</td>\n",
              "      <td>0</td>\n",
              "      <td>NaN</td>\n",
              "      <td>256</td>\n",
              "      <td>Brief, topical, and issues-oriented, this inno...</td>\n",
              "      <td>0</td>\n",
              "    </tr>\n",
              "  </tbody>\n",
              "</table>\n",
              "</div>\n",
              "      <button class=\"colab-df-convert\" onclick=\"convertToInteractive('df-4a764ee3-c3e7-45f8-9e2a-be184422c226')\"\n",
              "              title=\"Convert this dataframe to an interactive table.\"\n",
              "              style=\"display:none;\">\n",
              "        \n",
              "  <svg xmlns=\"http://www.w3.org/2000/svg\" height=\"24px\"viewBox=\"0 0 24 24\"\n",
              "       width=\"24px\">\n",
              "    <path d=\"M0 0h24v24H0V0z\" fill=\"none\"/>\n",
              "    <path d=\"M18.56 5.44l.94 2.06.94-2.06 2.06-.94-2.06-.94-.94-2.06-.94 2.06-2.06.94zm-11 1L8.5 8.5l.94-2.06 2.06-.94-2.06-.94L8.5 2.5l-.94 2.06-2.06.94zm10 10l.94 2.06.94-2.06 2.06-.94-2.06-.94-.94-2.06-.94 2.06-2.06.94z\"/><path d=\"M17.41 7.96l-1.37-1.37c-.4-.4-.92-.59-1.43-.59-.52 0-1.04.2-1.43.59L10.3 9.45l-7.72 7.72c-.78.78-.78 2.05 0 2.83L4 21.41c.39.39.9.59 1.41.59.51 0 1.02-.2 1.41-.59l7.78-7.78 2.81-2.81c.8-.78.8-2.07 0-2.86zM5.41 20L4 18.59l7.72-7.72 1.47 1.35L5.41 20z\"/>\n",
              "  </svg>\n",
              "      </button>\n",
              "      \n",
              "  <style>\n",
              "    .colab-df-container {\n",
              "      display:flex;\n",
              "      flex-wrap:wrap;\n",
              "      gap: 12px;\n",
              "    }\n",
              "\n",
              "    .colab-df-convert {\n",
              "      background-color: #E8F0FE;\n",
              "      border: none;\n",
              "      border-radius: 50%;\n",
              "      cursor: pointer;\n",
              "      display: none;\n",
              "      fill: #1967D2;\n",
              "      height: 32px;\n",
              "      padding: 0 0 0 0;\n",
              "      width: 32px;\n",
              "    }\n",
              "\n",
              "    .colab-df-convert:hover {\n",
              "      background-color: #E2EBFA;\n",
              "      box-shadow: 0px 1px 2px rgba(60, 64, 67, 0.3), 0px 1px 3px 1px rgba(60, 64, 67, 0.15);\n",
              "      fill: #174EA6;\n",
              "    }\n",
              "\n",
              "    [theme=dark] .colab-df-convert {\n",
              "      background-color: #3B4455;\n",
              "      fill: #D2E3FC;\n",
              "    }\n",
              "\n",
              "    [theme=dark] .colab-df-convert:hover {\n",
              "      background-color: #434B5C;\n",
              "      box-shadow: 0px 1px 3px 1px rgba(0, 0, 0, 0.15);\n",
              "      filter: drop-shadow(0px 1px 2px rgba(0, 0, 0, 0.3));\n",
              "      fill: #FFFFFF;\n",
              "    }\n",
              "  </style>\n",
              "\n",
              "      <script>\n",
              "        const buttonEl =\n",
              "          document.querySelector('#df-4a764ee3-c3e7-45f8-9e2a-be184422c226 button.colab-df-convert');\n",
              "        buttonEl.style.display =\n",
              "          google.colab.kernel.accessAllowed ? 'block' : 'none';\n",
              "\n",
              "        async function convertToInteractive(key) {\n",
              "          const element = document.querySelector('#df-4a764ee3-c3e7-45f8-9e2a-be184422c226');\n",
              "          const dataTable =\n",
              "            await google.colab.kernel.invokeFunction('convertToInteractive',\n",
              "                                                     [key], {});\n",
              "          if (!dataTable) return;\n",
              "\n",
              "          const docLinkHtml = 'Like what you see? Visit the ' +\n",
              "            '<a target=\"_blank\" href=https://colab.research.google.com/notebooks/data_table.ipynb>data table notebook</a>'\n",
              "            + ' to learn more about interactive tables.';\n",
              "          element.innerHTML = '';\n",
              "          dataTable['output_type'] = 'display_data';\n",
              "          await google.colab.output.renderOutput(dataTable, element);\n",
              "          const docLink = document.createElement('div');\n",
              "          docLink.innerHTML = docLinkHtml;\n",
              "          element.appendChild(docLink);\n",
              "        }\n",
              "      </script>\n",
              "    </div>\n",
              "  </div>\n",
              "  "
            ]
          },
          "metadata": {},
          "execution_count": 5
        }
      ],
      "source": [
        "zf = zipfile.ZipFile('/content/gdrive/MyDrive/BookRec.zip') \n",
        "df = pd.read_csv(zf.open('book1300k-1400k.csv'))\n",
        "df.head()"
      ]
    },
    {
      "cell_type": "markdown",
      "source": [
        "To have a look at all the files in the zipfile, we read them into a temporary dataframe. "
      ],
      "metadata": {
        "id": "iA-7RdtH_9JO"
      },
      "id": "iA-7RdtH_9JO"
    },
    {
      "cell_type": "code",
      "execution_count": null,
      "id": "37d0e87d",
      "metadata": {
        "id": "37d0e87d",
        "colab": {
          "base_uri": "https://localhost:8080/"
        },
        "outputId": "77b418c3-b0db-4f5e-8642-feedc2ad9748"
      },
      "outputs": [
        {
          "output_type": "stream",
          "name": "stdout",
          "text": [
            "(58292, 18)\n",
            "(39705, 20)\n",
            "(57046, 18)\n",
            "(41892, 20)\n",
            "(43622, 20)\n",
            "(38288, 20)\n",
            "(34759, 20)\n",
            "(33439, 20)\n",
            "(32986, 20)\n",
            "(32105, 19)\n",
            "(38863, 19)\n",
            "(43561, 19)\n",
            "(395957, 19)\n",
            "(56182, 18)\n",
            "(256595, 19)\n",
            "(56586, 18)\n",
            "(280256, 19)\n",
            "(55155, 18)\n",
            "(54859, 18)\n",
            "(55156, 19)\n",
            "(54273, 20)\n",
            "(49843, 20)\n",
            "(40890, 20)\n"
          ]
        }
      ],
      "source": [
        "\n",
        "with zipfile.ZipFile('/content/gdrive/MyDrive/BookRec.zip', 'r') as zipObj:\n",
        "   # Get list of files names in zipfile\n",
        "   listOfbookfiles = zipObj.namelist()\n",
        "   finaldf = pd.DataFrame()\n",
        "   for elem in listOfbookfiles:           \n",
        "        if elem.startswith('book'):\n",
        "            df=pd.read_csv(zf.open(elem))\n",
        "            print(df.shape)"
      ]
    },
    {
      "cell_type": "markdown",
      "source": [
        "Combine all the files that contain details abt the books into one master dataframe (books_df)."
      ],
      "metadata": {
        "id": "-WLowunoAinv"
      },
      "id": "-WLowunoAinv"
    },
    {
      "cell_type": "code",
      "execution_count": null,
      "id": "e1906784",
      "metadata": {
        "id": "e1906784",
        "outputId": "3331d4f5-1d41-4183-a686-e6759dfd5f51",
        "colab": {
          "base_uri": "https://localhost:8080/"
        }
      },
      "outputs": [
        {
          "output_type": "execute_result",
          "data": {
            "text/plain": [
              "(1850310, 21)"
            ]
          },
          "metadata": {},
          "execution_count": 7
        }
      ],
      "source": [
        "with zipfile.ZipFile('/content/gdrive/MyDrive/BookRec.zip', 'r') as zipObj:\n",
        "   # Get list of files names in zip\n",
        "   listOfiles = zipObj.namelist()\n",
        "   books_df = pd.DataFrame()\n",
        "   for elem in listOfiles:           \n",
        "        if elem.startswith('book'):\n",
        "            df=pd.read_csv(zf.open(elem))\n",
        "            books_df= pd.concat([df, books_df],axis=0)\n",
        "books_df.shape"
      ]
    },
    {
      "cell_type": "markdown",
      "source": [
        "To look at the first few rows of the master dataframe. "
      ],
      "metadata": {
        "id": "GXcBhK9RA9Hc"
      },
      "id": "GXcBhK9RA9Hc"
    },
    {
      "cell_type": "code",
      "source": [
        "books_df.head(5)"
      ],
      "metadata": {
        "colab": {
          "base_uri": "https://localhost:8080/",
          "height": 629
        },
        "id": "yXXZHn6Ukozs",
        "outputId": "74fde19b-5cab-4bbf-f5b3-0fce45e1ab0d"
      },
      "id": "yXXZHn6Ukozs",
      "execution_count": null,
      "outputs": [
        {
          "output_type": "execute_result",
          "data": {
            "text/plain": [
              "       Id                                               Name          Authors  \\\n",
              "0  900000                                Cabinet 03: Weather  Jeffrey Kastner   \n",
              "1  900001  Workouts in a Binder for Swimmers, Triathletes...      Nick Hansen   \n",
              "2  900002                         Las 120 jornadas de Sodoma  Marquis de Sade   \n",
              "3  900004  The Traveler: An American Odyssey in the Himal...      Eric Hansen   \n",
              "4  900006                                     Vertical Smile   Richard Condon   \n",
              "\n",
              "         ISBN  Rating  PublishYear  PublishMonth  PublishDay  \\\n",
              "0  1932698019    4.00         2004             2           1   \n",
              "1  1931382743    4.48         2005            18          11   \n",
              "2  8472233847    3.12         1992             1           3   \n",
              "3  0871563509    4.18         1995             6           6   \n",
              "4  0297994026    3.74         1972            20           4   \n",
              "\n",
              "                         Publisher RatingDist5  ... RatingDist3 RatingDist2  \\\n",
              "0                          Cabinet         5:0  ...         3:0         2:0   \n",
              "1                       Velo Press        5:24  ...         3:3         2:0   \n",
              "2                         TusQuets      5:1745  ...      3:2935      2:1753   \n",
              "3               Random House, Inc.         5:6  ...         3:3         2:0   \n",
              "4  Littlehampton Book Services Ltd         5:7  ...        3:13         2:2   \n",
              "\n",
              "  RatingDist1 RatingDistTotal CountsOfReview  Language pagesNumber  \\\n",
              "0         1:0         total:2              0       NaN       112.0   \n",
              "1         1:0        total:44              2       NaN       101.0   \n",
              "2      1:1408     total:10087              9       NaN       424.0   \n",
              "3         1:0        total:17              1       NaN       102.0   \n",
              "4         1:0        total:39              1       NaN       334.0   \n",
              "\n",
              "                                         Description Count of text reviews  \\\n",
              "0  Artwork by Joe Amrhein, Maria Blondeel, Spence...                   0.0   \n",
              "1  This waterproof book of 100 swimming workouts ...                   2.0   \n",
              "2  The 120 Days of Sodom by Marquis de Sade relat...                   9.0   \n",
              "3  This loving memorial to Swift is a moving phot...                   1.0   \n",
              "4                                                NaN                   1.0   \n",
              "\n",
              "   PagesNumber  \n",
              "0          NaN  \n",
              "1          NaN  \n",
              "2          NaN  \n",
              "3          NaN  \n",
              "4          NaN  \n",
              "\n",
              "[5 rows x 21 columns]"
            ],
            "text/html": [
              "\n",
              "  <div id=\"df-ec5ba372-7aef-47a6-9b5d-04971fcc8525\">\n",
              "    <div class=\"colab-df-container\">\n",
              "      <div>\n",
              "<style scoped>\n",
              "    .dataframe tbody tr th:only-of-type {\n",
              "        vertical-align: middle;\n",
              "    }\n",
              "\n",
              "    .dataframe tbody tr th {\n",
              "        vertical-align: top;\n",
              "    }\n",
              "\n",
              "    .dataframe thead th {\n",
              "        text-align: right;\n",
              "    }\n",
              "</style>\n",
              "<table border=\"1\" class=\"dataframe\">\n",
              "  <thead>\n",
              "    <tr style=\"text-align: right;\">\n",
              "      <th></th>\n",
              "      <th>Id</th>\n",
              "      <th>Name</th>\n",
              "      <th>Authors</th>\n",
              "      <th>ISBN</th>\n",
              "      <th>Rating</th>\n",
              "      <th>PublishYear</th>\n",
              "      <th>PublishMonth</th>\n",
              "      <th>PublishDay</th>\n",
              "      <th>Publisher</th>\n",
              "      <th>RatingDist5</th>\n",
              "      <th>...</th>\n",
              "      <th>RatingDist3</th>\n",
              "      <th>RatingDist2</th>\n",
              "      <th>RatingDist1</th>\n",
              "      <th>RatingDistTotal</th>\n",
              "      <th>CountsOfReview</th>\n",
              "      <th>Language</th>\n",
              "      <th>pagesNumber</th>\n",
              "      <th>Description</th>\n",
              "      <th>Count of text reviews</th>\n",
              "      <th>PagesNumber</th>\n",
              "    </tr>\n",
              "  </thead>\n",
              "  <tbody>\n",
              "    <tr>\n",
              "      <th>0</th>\n",
              "      <td>900000</td>\n",
              "      <td>Cabinet 03: Weather</td>\n",
              "      <td>Jeffrey Kastner</td>\n",
              "      <td>1932698019</td>\n",
              "      <td>4.00</td>\n",
              "      <td>2004</td>\n",
              "      <td>2</td>\n",
              "      <td>1</td>\n",
              "      <td>Cabinet</td>\n",
              "      <td>5:0</td>\n",
              "      <td>...</td>\n",
              "      <td>3:0</td>\n",
              "      <td>2:0</td>\n",
              "      <td>1:0</td>\n",
              "      <td>total:2</td>\n",
              "      <td>0</td>\n",
              "      <td>NaN</td>\n",
              "      <td>112.0</td>\n",
              "      <td>Artwork by Joe Amrhein, Maria Blondeel, Spence...</td>\n",
              "      <td>0.0</td>\n",
              "      <td>NaN</td>\n",
              "    </tr>\n",
              "    <tr>\n",
              "      <th>1</th>\n",
              "      <td>900001</td>\n",
              "      <td>Workouts in a Binder for Swimmers, Triathletes...</td>\n",
              "      <td>Nick Hansen</td>\n",
              "      <td>1931382743</td>\n",
              "      <td>4.48</td>\n",
              "      <td>2005</td>\n",
              "      <td>18</td>\n",
              "      <td>11</td>\n",
              "      <td>Velo Press</td>\n",
              "      <td>5:24</td>\n",
              "      <td>...</td>\n",
              "      <td>3:3</td>\n",
              "      <td>2:0</td>\n",
              "      <td>1:0</td>\n",
              "      <td>total:44</td>\n",
              "      <td>2</td>\n",
              "      <td>NaN</td>\n",
              "      <td>101.0</td>\n",
              "      <td>This waterproof book of 100 swimming workouts ...</td>\n",
              "      <td>2.0</td>\n",
              "      <td>NaN</td>\n",
              "    </tr>\n",
              "    <tr>\n",
              "      <th>2</th>\n",
              "      <td>900002</td>\n",
              "      <td>Las 120 jornadas de Sodoma</td>\n",
              "      <td>Marquis de Sade</td>\n",
              "      <td>8472233847</td>\n",
              "      <td>3.12</td>\n",
              "      <td>1992</td>\n",
              "      <td>1</td>\n",
              "      <td>3</td>\n",
              "      <td>TusQuets</td>\n",
              "      <td>5:1745</td>\n",
              "      <td>...</td>\n",
              "      <td>3:2935</td>\n",
              "      <td>2:1753</td>\n",
              "      <td>1:1408</td>\n",
              "      <td>total:10087</td>\n",
              "      <td>9</td>\n",
              "      <td>NaN</td>\n",
              "      <td>424.0</td>\n",
              "      <td>The 120 Days of Sodom by Marquis de Sade relat...</td>\n",
              "      <td>9.0</td>\n",
              "      <td>NaN</td>\n",
              "    </tr>\n",
              "    <tr>\n",
              "      <th>3</th>\n",
              "      <td>900004</td>\n",
              "      <td>The Traveler: An American Odyssey in the Himal...</td>\n",
              "      <td>Eric Hansen</td>\n",
              "      <td>0871563509</td>\n",
              "      <td>4.18</td>\n",
              "      <td>1995</td>\n",
              "      <td>6</td>\n",
              "      <td>6</td>\n",
              "      <td>Random House, Inc.</td>\n",
              "      <td>5:6</td>\n",
              "      <td>...</td>\n",
              "      <td>3:3</td>\n",
              "      <td>2:0</td>\n",
              "      <td>1:0</td>\n",
              "      <td>total:17</td>\n",
              "      <td>1</td>\n",
              "      <td>NaN</td>\n",
              "      <td>102.0</td>\n",
              "      <td>This loving memorial to Swift is a moving phot...</td>\n",
              "      <td>1.0</td>\n",
              "      <td>NaN</td>\n",
              "    </tr>\n",
              "    <tr>\n",
              "      <th>4</th>\n",
              "      <td>900006</td>\n",
              "      <td>Vertical Smile</td>\n",
              "      <td>Richard Condon</td>\n",
              "      <td>0297994026</td>\n",
              "      <td>3.74</td>\n",
              "      <td>1972</td>\n",
              "      <td>20</td>\n",
              "      <td>4</td>\n",
              "      <td>Littlehampton Book Services Ltd</td>\n",
              "      <td>5:7</td>\n",
              "      <td>...</td>\n",
              "      <td>3:13</td>\n",
              "      <td>2:2</td>\n",
              "      <td>1:0</td>\n",
              "      <td>total:39</td>\n",
              "      <td>1</td>\n",
              "      <td>NaN</td>\n",
              "      <td>334.0</td>\n",
              "      <td>NaN</td>\n",
              "      <td>1.0</td>\n",
              "      <td>NaN</td>\n",
              "    </tr>\n",
              "  </tbody>\n",
              "</table>\n",
              "<p>5 rows × 21 columns</p>\n",
              "</div>\n",
              "      <button class=\"colab-df-convert\" onclick=\"convertToInteractive('df-ec5ba372-7aef-47a6-9b5d-04971fcc8525')\"\n",
              "              title=\"Convert this dataframe to an interactive table.\"\n",
              "              style=\"display:none;\">\n",
              "        \n",
              "  <svg xmlns=\"http://www.w3.org/2000/svg\" height=\"24px\"viewBox=\"0 0 24 24\"\n",
              "       width=\"24px\">\n",
              "    <path d=\"M0 0h24v24H0V0z\" fill=\"none\"/>\n",
              "    <path d=\"M18.56 5.44l.94 2.06.94-2.06 2.06-.94-2.06-.94-.94-2.06-.94 2.06-2.06.94zm-11 1L8.5 8.5l.94-2.06 2.06-.94-2.06-.94L8.5 2.5l-.94 2.06-2.06.94zm10 10l.94 2.06.94-2.06 2.06-.94-2.06-.94-.94-2.06-.94 2.06-2.06.94z\"/><path d=\"M17.41 7.96l-1.37-1.37c-.4-.4-.92-.59-1.43-.59-.52 0-1.04.2-1.43.59L10.3 9.45l-7.72 7.72c-.78.78-.78 2.05 0 2.83L4 21.41c.39.39.9.59 1.41.59.51 0 1.02-.2 1.41-.59l7.78-7.78 2.81-2.81c.8-.78.8-2.07 0-2.86zM5.41 20L4 18.59l7.72-7.72 1.47 1.35L5.41 20z\"/>\n",
              "  </svg>\n",
              "      </button>\n",
              "      \n",
              "  <style>\n",
              "    .colab-df-container {\n",
              "      display:flex;\n",
              "      flex-wrap:wrap;\n",
              "      gap: 12px;\n",
              "    }\n",
              "\n",
              "    .colab-df-convert {\n",
              "      background-color: #E8F0FE;\n",
              "      border: none;\n",
              "      border-radius: 50%;\n",
              "      cursor: pointer;\n",
              "      display: none;\n",
              "      fill: #1967D2;\n",
              "      height: 32px;\n",
              "      padding: 0 0 0 0;\n",
              "      width: 32px;\n",
              "    }\n",
              "\n",
              "    .colab-df-convert:hover {\n",
              "      background-color: #E2EBFA;\n",
              "      box-shadow: 0px 1px 2px rgba(60, 64, 67, 0.3), 0px 1px 3px 1px rgba(60, 64, 67, 0.15);\n",
              "      fill: #174EA6;\n",
              "    }\n",
              "\n",
              "    [theme=dark] .colab-df-convert {\n",
              "      background-color: #3B4455;\n",
              "      fill: #D2E3FC;\n",
              "    }\n",
              "\n",
              "    [theme=dark] .colab-df-convert:hover {\n",
              "      background-color: #434B5C;\n",
              "      box-shadow: 0px 1px 3px 1px rgba(0, 0, 0, 0.15);\n",
              "      filter: drop-shadow(0px 1px 2px rgba(0, 0, 0, 0.3));\n",
              "      fill: #FFFFFF;\n",
              "    }\n",
              "  </style>\n",
              "\n",
              "      <script>\n",
              "        const buttonEl =\n",
              "          document.querySelector('#df-ec5ba372-7aef-47a6-9b5d-04971fcc8525 button.colab-df-convert');\n",
              "        buttonEl.style.display =\n",
              "          google.colab.kernel.accessAllowed ? 'block' : 'none';\n",
              "\n",
              "        async function convertToInteractive(key) {\n",
              "          const element = document.querySelector('#df-ec5ba372-7aef-47a6-9b5d-04971fcc8525');\n",
              "          const dataTable =\n",
              "            await google.colab.kernel.invokeFunction('convertToInteractive',\n",
              "                                                     [key], {});\n",
              "          if (!dataTable) return;\n",
              "\n",
              "          const docLinkHtml = 'Like what you see? Visit the ' +\n",
              "            '<a target=\"_blank\" href=https://colab.research.google.com/notebooks/data_table.ipynb>data table notebook</a>'\n",
              "            + ' to learn more about interactive tables.';\n",
              "          element.innerHTML = '';\n",
              "          dataTable['output_type'] = 'display_data';\n",
              "          await google.colab.output.renderOutput(dataTable, element);\n",
              "          const docLink = document.createElement('div');\n",
              "          docLink.innerHTML = docLinkHtml;\n",
              "          element.appendChild(docLink);\n",
              "        }\n",
              "      </script>\n",
              "    </div>\n",
              "  </div>\n",
              "  "
            ]
          },
          "metadata": {},
          "execution_count": 8
        }
      ]
    },
    {
      "cell_type": "markdown",
      "source": [
        "Cleaning up the data,addressing Nan values."
      ],
      "metadata": {
        "id": "1bAfEZc8AjpB"
      },
      "id": "1bAfEZc8AjpB"
    },
    {
      "cell_type": "code",
      "execution_count": null,
      "id": "b16e3784",
      "metadata": {
        "id": "b16e3784"
      },
      "outputs": [],
      "source": [
        "books_df.drop(['PagesNumber'], axis=1, inplace=True)\n",
        "books_df['pagesNumber'] = books_df['pagesNumber'].fillna(256)\n",
        "books_df['Language'] = books_df['Language'].fillna('eng')"
      ]
    },
    {
      "cell_type": "markdown",
      "source": [
        "To replace all versions of English with one standard one. "
      ],
      "metadata": {
        "id": "LDvcvrKVkEr0"
      },
      "id": "LDvcvrKVkEr0"
    },
    {
      "cell_type": "code",
      "execution_count": null,
      "id": "dcdcd105",
      "metadata": {
        "id": "dcdcd105"
      },
      "outputs": [],
      "source": [
        "books_df['Language']=books_df['Language'].replace({'en-US':'eng', 'en-GB':'eng', 'en-CA':'eng'})"
      ]
    },
    {
      "cell_type": "code",
      "execution_count": null,
      "id": "4f544d94",
      "metadata": {
        "id": "4f544d94",
        "outputId": "10139ee8-5e31-4649-de20-18cd3bf66c7c",
        "colab": {
          "base_uri": "https://localhost:8080/"
        }
      },
      "outputs": [
        {
          "output_type": "execute_result",
          "data": {
            "text/plain": [
              "eng    1808160\n",
              "fre      16327\n",
              "ger      11470\n",
              "spa       7245\n",
              "jpn       2059\n",
              "        ...   \n",
              "myv          1\n",
              "zul          1\n",
              "nub          1\n",
              "ada          1\n",
              "myn          1\n",
              "Name: Language, Length: 121, dtype: int64"
            ]
          },
          "metadata": {},
          "execution_count": 11
        }
      ],
      "source": [
        "books_df['Language'].value_counts()"
      ]
    },
    {
      "cell_type": "markdown",
      "source": [
        "We want to keep only English language books in our dataframe, so we'll remove those written in other languages eg. French,Japanese etc. "
      ],
      "metadata": {
        "id": "FVFfumBXkSUf"
      },
      "id": "FVFfumBXkSUf"
    },
    {
      "cell_type": "code",
      "source": [
        "books_df = books_df[books_df['Language'] == 'eng']\n",
        "books_df.shape"
      ],
      "metadata": {
        "colab": {
          "base_uri": "https://localhost:8080/"
        },
        "id": "zdAEG9bRkB9w",
        "outputId": "bf4ea6d7-b9e0-44ad-eb6b-d9c657a8812e"
      },
      "id": "zdAEG9bRkB9w",
      "execution_count": null,
      "outputs": [
        {
          "output_type": "execute_result",
          "data": {
            "text/plain": [
              "(1808160, 20)"
            ]
          },
          "metadata": {},
          "execution_count": 12
        }
      ]
    },
    {
      "cell_type": "markdown",
      "source": [
        "To check that books in languages other than English have been removed. "
      ],
      "metadata": {
        "id": "zxPcalw0COT8"
      },
      "id": "zxPcalw0COT8"
    },
    {
      "cell_type": "code",
      "source": [
        "books_df['Language'].value_counts()"
      ],
      "metadata": {
        "colab": {
          "base_uri": "https://localhost:8080/"
        },
        "id": "vViOgMBQkCLb",
        "outputId": "e54db472-e932-4862-bab2-07e8d679073a"
      },
      "id": "vViOgMBQkCLb",
      "execution_count": null,
      "outputs": [
        {
          "output_type": "execute_result",
          "data": {
            "text/plain": [
              "eng    1808160\n",
              "Name: Language, dtype: int64"
            ]
          },
          "metadata": {},
          "execution_count": 13
        }
      ]
    },
    {
      "cell_type": "markdown",
      "source": [
        "To look at the user files in the zipfile"
      ],
      "metadata": {
        "id": "IQi1oroyFU5q"
      },
      "id": "IQi1oroyFU5q"
    },
    {
      "cell_type": "code",
      "execution_count": null,
      "id": "fbbf8ea1",
      "metadata": {
        "id": "fbbf8ea1",
        "outputId": "3b89b5ac-3a28-4d4d-da70-8a6e96a37be8",
        "colab": {
          "base_uri": "https://localhost:8080/"
        }
      },
      "outputs": [
        {
          "output_type": "stream",
          "name": "stdout",
          "text": [
            "(51945, 3)\n",
            "(42986, 3)\n",
            "(30633, 3)\n",
            "(46970, 3)\n",
            "(46903, 3)\n",
            "(15481, 3)\n",
            "(127678, 3)\n"
          ]
        }
      ],
      "source": [
        "import zipfile as ZipFile\n",
        "with zipfile.ZipFile('/content/gdrive/MyDrive/BookRec.zip', 'r') as zipObj:\n",
        "   # Get list of files names in zip\n",
        "   listOfiles = zipObj.namelist()\n",
        "   finaldf = pd.DataFrame()\n",
        "   for elem in listOfiles:           \n",
        "        if elem.startswith('user'):\n",
        "            df=pd.read_csv(zf.open(elem))\n",
        "            print(df.shape)\n",
        "            "
      ]
    },
    {
      "cell_type": "markdown",
      "source": [
        "Combine all the files that contain details abt the users into a master dataframe (finaldf)."
      ],
      "metadata": {
        "id": "5hL_jgWwFcHH"
      },
      "id": "5hL_jgWwFcHH"
    },
    {
      "cell_type": "code",
      "execution_count": null,
      "id": "534275a4",
      "metadata": {
        "id": "534275a4",
        "outputId": "1336bb4d-dba3-4481-b268-08d3ae5084ed",
        "colab": {
          "base_uri": "https://localhost:8080/"
        }
      },
      "outputs": [
        {
          "output_type": "execute_result",
          "data": {
            "text/plain": [
              "(362596, 3)"
            ]
          },
          "metadata": {},
          "execution_count": 15
        }
      ],
      "source": [
        "import zipfile as ZipFile\n",
        "with zipfile.ZipFile('/content/gdrive/MyDrive/BookRec.zip', 'r') as zipObj:\n",
        "   # Get list of files names in zip\n",
        "   listOfiles = zipObj.namelist()\n",
        "   finaldf = pd.DataFrame()\n",
        "   for elem in listOfiles:           \n",
        "        if elem.startswith('user'):\n",
        "            df=pd.read_csv(zf.open(elem))\n",
        "            finaldf= pd.concat([df, finaldf],axis=0)\n",
        "finaldf.shape"
      ]
    },
    {
      "cell_type": "code",
      "execution_count": null,
      "id": "9a69b07d",
      "metadata": {
        "id": "9a69b07d",
        "outputId": "ec7aa953-4f6d-4a93-e0f1-2a4367394869",
        "colab": {
          "base_uri": "https://localhost:8080/",
          "height": 206
        }
      },
      "outputs": [
        {
          "output_type": "execute_result",
          "data": {
            "text/plain": [
              "     ID                                     Name           Rating\n",
              "0  6675  Baxter, the Pig Who Wanted to Be Kosher   it was amazing\n",
              "1  6675                  Set This House in Order  really liked it\n",
              "2  6675                            Paradise Park  really liked it\n",
              "3  7027                            Paradise Park         liked it\n",
              "4  6675                     The Dead Fish Museum   it was amazing"
            ],
            "text/html": [
              "\n",
              "  <div id=\"df-5934c7d5-e1bb-4733-b97e-f4b6551636ac\">\n",
              "    <div class=\"colab-df-container\">\n",
              "      <div>\n",
              "<style scoped>\n",
              "    .dataframe tbody tr th:only-of-type {\n",
              "        vertical-align: middle;\n",
              "    }\n",
              "\n",
              "    .dataframe tbody tr th {\n",
              "        vertical-align: top;\n",
              "    }\n",
              "\n",
              "    .dataframe thead th {\n",
              "        text-align: right;\n",
              "    }\n",
              "</style>\n",
              "<table border=\"1\" class=\"dataframe\">\n",
              "  <thead>\n",
              "    <tr style=\"text-align: right;\">\n",
              "      <th></th>\n",
              "      <th>ID</th>\n",
              "      <th>Name</th>\n",
              "      <th>Rating</th>\n",
              "    </tr>\n",
              "  </thead>\n",
              "  <tbody>\n",
              "    <tr>\n",
              "      <th>0</th>\n",
              "      <td>6675</td>\n",
              "      <td>Baxter, the Pig Who Wanted to Be Kosher</td>\n",
              "      <td>it was amazing</td>\n",
              "    </tr>\n",
              "    <tr>\n",
              "      <th>1</th>\n",
              "      <td>6675</td>\n",
              "      <td>Set This House in Order</td>\n",
              "      <td>really liked it</td>\n",
              "    </tr>\n",
              "    <tr>\n",
              "      <th>2</th>\n",
              "      <td>6675</td>\n",
              "      <td>Paradise Park</td>\n",
              "      <td>really liked it</td>\n",
              "    </tr>\n",
              "    <tr>\n",
              "      <th>3</th>\n",
              "      <td>7027</td>\n",
              "      <td>Paradise Park</td>\n",
              "      <td>liked it</td>\n",
              "    </tr>\n",
              "    <tr>\n",
              "      <th>4</th>\n",
              "      <td>6675</td>\n",
              "      <td>The Dead Fish Museum</td>\n",
              "      <td>it was amazing</td>\n",
              "    </tr>\n",
              "  </tbody>\n",
              "</table>\n",
              "</div>\n",
              "      <button class=\"colab-df-convert\" onclick=\"convertToInteractive('df-5934c7d5-e1bb-4733-b97e-f4b6551636ac')\"\n",
              "              title=\"Convert this dataframe to an interactive table.\"\n",
              "              style=\"display:none;\">\n",
              "        \n",
              "  <svg xmlns=\"http://www.w3.org/2000/svg\" height=\"24px\"viewBox=\"0 0 24 24\"\n",
              "       width=\"24px\">\n",
              "    <path d=\"M0 0h24v24H0V0z\" fill=\"none\"/>\n",
              "    <path d=\"M18.56 5.44l.94 2.06.94-2.06 2.06-.94-2.06-.94-.94-2.06-.94 2.06-2.06.94zm-11 1L8.5 8.5l.94-2.06 2.06-.94-2.06-.94L8.5 2.5l-.94 2.06-2.06.94zm10 10l.94 2.06.94-2.06 2.06-.94-2.06-.94-.94-2.06-.94 2.06-2.06.94z\"/><path d=\"M17.41 7.96l-1.37-1.37c-.4-.4-.92-.59-1.43-.59-.52 0-1.04.2-1.43.59L10.3 9.45l-7.72 7.72c-.78.78-.78 2.05 0 2.83L4 21.41c.39.39.9.59 1.41.59.51 0 1.02-.2 1.41-.59l7.78-7.78 2.81-2.81c.8-.78.8-2.07 0-2.86zM5.41 20L4 18.59l7.72-7.72 1.47 1.35L5.41 20z\"/>\n",
              "  </svg>\n",
              "      </button>\n",
              "      \n",
              "  <style>\n",
              "    .colab-df-container {\n",
              "      display:flex;\n",
              "      flex-wrap:wrap;\n",
              "      gap: 12px;\n",
              "    }\n",
              "\n",
              "    .colab-df-convert {\n",
              "      background-color: #E8F0FE;\n",
              "      border: none;\n",
              "      border-radius: 50%;\n",
              "      cursor: pointer;\n",
              "      display: none;\n",
              "      fill: #1967D2;\n",
              "      height: 32px;\n",
              "      padding: 0 0 0 0;\n",
              "      width: 32px;\n",
              "    }\n",
              "\n",
              "    .colab-df-convert:hover {\n",
              "      background-color: #E2EBFA;\n",
              "      box-shadow: 0px 1px 2px rgba(60, 64, 67, 0.3), 0px 1px 3px 1px rgba(60, 64, 67, 0.15);\n",
              "      fill: #174EA6;\n",
              "    }\n",
              "\n",
              "    [theme=dark] .colab-df-convert {\n",
              "      background-color: #3B4455;\n",
              "      fill: #D2E3FC;\n",
              "    }\n",
              "\n",
              "    [theme=dark] .colab-df-convert:hover {\n",
              "      background-color: #434B5C;\n",
              "      box-shadow: 0px 1px 3px 1px rgba(0, 0, 0, 0.15);\n",
              "      filter: drop-shadow(0px 1px 2px rgba(0, 0, 0, 0.3));\n",
              "      fill: #FFFFFF;\n",
              "    }\n",
              "  </style>\n",
              "\n",
              "      <script>\n",
              "        const buttonEl =\n",
              "          document.querySelector('#df-5934c7d5-e1bb-4733-b97e-f4b6551636ac button.colab-df-convert');\n",
              "        buttonEl.style.display =\n",
              "          google.colab.kernel.accessAllowed ? 'block' : 'none';\n",
              "\n",
              "        async function convertToInteractive(key) {\n",
              "          const element = document.querySelector('#df-5934c7d5-e1bb-4733-b97e-f4b6551636ac');\n",
              "          const dataTable =\n",
              "            await google.colab.kernel.invokeFunction('convertToInteractive',\n",
              "                                                     [key], {});\n",
              "          if (!dataTable) return;\n",
              "\n",
              "          const docLinkHtml = 'Like what you see? Visit the ' +\n",
              "            '<a target=\"_blank\" href=https://colab.research.google.com/notebooks/data_table.ipynb>data table notebook</a>'\n",
              "            + ' to learn more about interactive tables.';\n",
              "          element.innerHTML = '';\n",
              "          dataTable['output_type'] = 'display_data';\n",
              "          await google.colab.output.renderOutput(dataTable, element);\n",
              "          const docLink = document.createElement('div');\n",
              "          docLink.innerHTML = docLinkHtml;\n",
              "          element.appendChild(docLink);\n",
              "        }\n",
              "      </script>\n",
              "    </div>\n",
              "  </div>\n",
              "  "
            ]
          },
          "metadata": {},
          "execution_count": 16
        }
      ],
      "source": [
        "finaldf.head(5)"
      ]
    },
    {
      "cell_type": "markdown",
      "source": [
        "Using value counts on the ID column we can see the number of unique users in our dataset. "
      ],
      "metadata": {
        "id": "tQkdWvUgjN3H"
      },
      "id": "tQkdWvUgjN3H"
    },
    {
      "cell_type": "code",
      "source": [
        "finaldf.ID.value_counts()"
      ],
      "metadata": {
        "colab": {
          "base_uri": "https://localhost:8080/"
        },
        "id": "wJTG42NTjFJC",
        "outputId": "2f0e81b2-ae4c-4fd7-d0b0-4dd713c9f0d6"
      },
      "id": "wJTG42NTjFJC",
      "execution_count": null,
      "outputs": [
        {
          "output_type": "execute_result",
          "data": {
            "text/plain": [
              "4196    3637\n",
              "4806    3236\n",
              "4693    2736\n",
              "1134    2089\n",
              "284     2052\n",
              "        ... \n",
              "7399       1\n",
              "5971       1\n",
              "7400       1\n",
              "7401       1\n",
              "4828       1\n",
              "Name: ID, Length: 8919, dtype: int64"
            ]
          },
          "metadata": {},
          "execution_count": 17
        }
      ]
    },
    {
      "cell_type": "markdown",
      "source": [
        "Using value counts on the Name column we can see the number of unique books in our dataset. "
      ],
      "metadata": {
        "id": "vrMs3HWir8R_"
      },
      "id": "vrMs3HWir8R_"
    },
    {
      "cell_type": "code",
      "source": [
        "finaldf.Name.value_counts()"
      ],
      "metadata": {
        "colab": {
          "base_uri": "https://localhost:8080/"
        },
        "id": "0q6JXqMAr5cl",
        "outputId": "a210f05e-4711-4c02-c007-098c455c08f6"
      },
      "id": "0q6JXqMAr5cl",
      "execution_count": null,
      "outputs": [
        {
          "output_type": "execute_result",
          "data": {
            "text/plain": [
              "Rating                                    4765\n",
              "The Catcher in the Rye                     985\n",
              "The Great Gatsby                           885\n",
              "The Da Vinci Code (Robert Langdon, #2)     846\n",
              "To Kill a Mockingbird                      830\n",
              "                                          ... \n",
              "فریدریش نیچه (نسل قلم 84)                    1\n",
              "ژان پل سارتر (نسل قلم 61)                    1\n",
              "زیگموند فروید (نسل قلم 31)                   1\n",
              "دل دلدادگی، جلد اول                          1\n",
              "The Encantadas and Other Stories             1\n",
              "Name: Name, Length: 103533, dtype: int64"
            ]
          },
          "metadata": {},
          "execution_count": 18
        }
      ]
    },
    {
      "cell_type": "markdown",
      "source": [
        "The five types of ratings that the users can give to a book. "
      ],
      "metadata": {
        "id": "H_9Z9vCursri"
      },
      "id": "H_9Z9vCursri"
    },
    {
      "cell_type": "code",
      "execution_count": null,
      "id": "c364dedd",
      "metadata": {
        "id": "c364dedd",
        "outputId": "afb16f3f-3fd9-4e14-9bd2-cacd2586e4b4",
        "colab": {
          "base_uri": "https://localhost:8080/"
        }
      },
      "outputs": [
        {
          "output_type": "execute_result",
          "data": {
            "text/plain": [
              "really liked it                      132808\n",
              "liked it                              96047\n",
              "it was amazing                        92354\n",
              "it was ok                             28811\n",
              "did not like it                        7811\n",
              "This user doesn't have any rating      4765\n",
              "Name: Rating, dtype: int64"
            ]
          },
          "metadata": {},
          "execution_count": 19
        }
      ],
      "source": [
        "finaldf.Rating.value_counts()"
      ]
    },
    {
      "cell_type": "markdown",
      "source": [
        "Dropping rows with no ratings. "
      ],
      "metadata": {
        "id": "K96gPJeRGOzN"
      },
      "id": "K96gPJeRGOzN"
    },
    {
      "cell_type": "code",
      "execution_count": null,
      "id": "573e2617",
      "metadata": {
        "id": "573e2617"
      },
      "outputs": [],
      "source": [
        "index_names = finaldf[finaldf['Name'] == 'Rating'].index\n",
        "finaldf.drop(index_names, inplace = True) "
      ]
    },
    {
      "cell_type": "markdown",
      "source": [
        "We'll encode the ratings as categorical values ranging between 1-5, in the column Rating_Cat. "
      ],
      "metadata": {
        "id": "UGNgyuI7TTEz"
      },
      "id": "UGNgyuI7TTEz"
    },
    {
      "cell_type": "code",
      "source": [
        "finaldf['Rating_Cat'] = finaldf['Rating']\n",
        "finaldf['Rating_Cat']= finaldf['Rating_Cat'].replace({'did not like it': 1, 'it was ok': 2, 'liked it': 3, 'really liked it': 4, 'it was amazing': 5})\n",
        "finaldf.drop(['Rating'],axis=1,inplace=True)\n",
        "finaldf.rename({'ID': 'User_ID'}, axis=1, inplace=True)\n",
        "finaldf.head()"
      ],
      "metadata": {
        "colab": {
          "base_uri": "https://localhost:8080/",
          "height": 206
        },
        "id": "9MvuUYSmJ4Xu",
        "outputId": "1544b1ba-7501-4728-fc14-c674651123d7"
      },
      "id": "9MvuUYSmJ4Xu",
      "execution_count": null,
      "outputs": [
        {
          "output_type": "execute_result",
          "data": {
            "text/plain": [
              "     User_ID        Name  Rating_Cat\n",
              "580     7064  Siddhartha           5\n",
              "581     7077  Siddhartha           5\n",
              "582     7112  Siddhartha           5\n",
              "583     7126  Siddhartha           5\n",
              "584     7175  Siddhartha           3"
            ],
            "text/html": [
              "\n",
              "  <div id=\"df-1a71207b-8ce2-4589-9727-04f48ced1770\">\n",
              "    <div class=\"colab-df-container\">\n",
              "      <div>\n",
              "<style scoped>\n",
              "    .dataframe tbody tr th:only-of-type {\n",
              "        vertical-align: middle;\n",
              "    }\n",
              "\n",
              "    .dataframe tbody tr th {\n",
              "        vertical-align: top;\n",
              "    }\n",
              "\n",
              "    .dataframe thead th {\n",
              "        text-align: right;\n",
              "    }\n",
              "</style>\n",
              "<table border=\"1\" class=\"dataframe\">\n",
              "  <thead>\n",
              "    <tr style=\"text-align: right;\">\n",
              "      <th></th>\n",
              "      <th>User_ID</th>\n",
              "      <th>Name</th>\n",
              "      <th>Rating_Cat</th>\n",
              "    </tr>\n",
              "  </thead>\n",
              "  <tbody>\n",
              "    <tr>\n",
              "      <th>580</th>\n",
              "      <td>7064</td>\n",
              "      <td>Siddhartha</td>\n",
              "      <td>5</td>\n",
              "    </tr>\n",
              "    <tr>\n",
              "      <th>581</th>\n",
              "      <td>7077</td>\n",
              "      <td>Siddhartha</td>\n",
              "      <td>5</td>\n",
              "    </tr>\n",
              "    <tr>\n",
              "      <th>582</th>\n",
              "      <td>7112</td>\n",
              "      <td>Siddhartha</td>\n",
              "      <td>5</td>\n",
              "    </tr>\n",
              "    <tr>\n",
              "      <th>583</th>\n",
              "      <td>7126</td>\n",
              "      <td>Siddhartha</td>\n",
              "      <td>5</td>\n",
              "    </tr>\n",
              "    <tr>\n",
              "      <th>584</th>\n",
              "      <td>7175</td>\n",
              "      <td>Siddhartha</td>\n",
              "      <td>3</td>\n",
              "    </tr>\n",
              "  </tbody>\n",
              "</table>\n",
              "</div>\n",
              "      <button class=\"colab-df-convert\" onclick=\"convertToInteractive('df-1a71207b-8ce2-4589-9727-04f48ced1770')\"\n",
              "              title=\"Convert this dataframe to an interactive table.\"\n",
              "              style=\"display:none;\">\n",
              "        \n",
              "  <svg xmlns=\"http://www.w3.org/2000/svg\" height=\"24px\"viewBox=\"0 0 24 24\"\n",
              "       width=\"24px\">\n",
              "    <path d=\"M0 0h24v24H0V0z\" fill=\"none\"/>\n",
              "    <path d=\"M18.56 5.44l.94 2.06.94-2.06 2.06-.94-2.06-.94-.94-2.06-.94 2.06-2.06.94zm-11 1L8.5 8.5l.94-2.06 2.06-.94-2.06-.94L8.5 2.5l-.94 2.06-2.06.94zm10 10l.94 2.06.94-2.06 2.06-.94-2.06-.94-.94-2.06-.94 2.06-2.06.94z\"/><path d=\"M17.41 7.96l-1.37-1.37c-.4-.4-.92-.59-1.43-.59-.52 0-1.04.2-1.43.59L10.3 9.45l-7.72 7.72c-.78.78-.78 2.05 0 2.83L4 21.41c.39.39.9.59 1.41.59.51 0 1.02-.2 1.41-.59l7.78-7.78 2.81-2.81c.8-.78.8-2.07 0-2.86zM5.41 20L4 18.59l7.72-7.72 1.47 1.35L5.41 20z\"/>\n",
              "  </svg>\n",
              "      </button>\n",
              "      \n",
              "  <style>\n",
              "    .colab-df-container {\n",
              "      display:flex;\n",
              "      flex-wrap:wrap;\n",
              "      gap: 12px;\n",
              "    }\n",
              "\n",
              "    .colab-df-convert {\n",
              "      background-color: #E8F0FE;\n",
              "      border: none;\n",
              "      border-radius: 50%;\n",
              "      cursor: pointer;\n",
              "      display: none;\n",
              "      fill: #1967D2;\n",
              "      height: 32px;\n",
              "      padding: 0 0 0 0;\n",
              "      width: 32px;\n",
              "    }\n",
              "\n",
              "    .colab-df-convert:hover {\n",
              "      background-color: #E2EBFA;\n",
              "      box-shadow: 0px 1px 2px rgba(60, 64, 67, 0.3), 0px 1px 3px 1px rgba(60, 64, 67, 0.15);\n",
              "      fill: #174EA6;\n",
              "    }\n",
              "\n",
              "    [theme=dark] .colab-df-convert {\n",
              "      background-color: #3B4455;\n",
              "      fill: #D2E3FC;\n",
              "    }\n",
              "\n",
              "    [theme=dark] .colab-df-convert:hover {\n",
              "      background-color: #434B5C;\n",
              "      box-shadow: 0px 1px 3px 1px rgba(0, 0, 0, 0.15);\n",
              "      filter: drop-shadow(0px 1px 2px rgba(0, 0, 0, 0.3));\n",
              "      fill: #FFFFFF;\n",
              "    }\n",
              "  </style>\n",
              "\n",
              "      <script>\n",
              "        const buttonEl =\n",
              "          document.querySelector('#df-1a71207b-8ce2-4589-9727-04f48ced1770 button.colab-df-convert');\n",
              "        buttonEl.style.display =\n",
              "          google.colab.kernel.accessAllowed ? 'block' : 'none';\n",
              "\n",
              "        async function convertToInteractive(key) {\n",
              "          const element = document.querySelector('#df-1a71207b-8ce2-4589-9727-04f48ced1770');\n",
              "          const dataTable =\n",
              "            await google.colab.kernel.invokeFunction('convertToInteractive',\n",
              "                                                     [key], {});\n",
              "          if (!dataTable) return;\n",
              "\n",
              "          const docLinkHtml = 'Like what you see? Visit the ' +\n",
              "            '<a target=\"_blank\" href=https://colab.research.google.com/notebooks/data_table.ipynb>data table notebook</a>'\n",
              "            + ' to learn more about interactive tables.';\n",
              "          element.innerHTML = '';\n",
              "          dataTable['output_type'] = 'display_data';\n",
              "          await google.colab.output.renderOutput(dataTable, element);\n",
              "          const docLink = document.createElement('div');\n",
              "          docLink.innerHTML = docLinkHtml;\n",
              "          element.appendChild(docLink);\n",
              "        }\n",
              "      </script>\n",
              "    </div>\n",
              "  </div>\n",
              "  "
            ]
          },
          "metadata": {},
          "execution_count": 21
        }
      ]
    },
    {
      "cell_type": "markdown",
      "source": [
        " Creating a dictionary(books_dict) which has names of books and their unique IDs stored as key value pairs.  \n",
        "\n",
        "\n",
        "\n",
        "\n"
      ],
      "metadata": {
        "id": "l5JnfN-AwnjO"
      },
      "id": "l5JnfN-AwnjO"
    },
    {
      "cell_type": "code",
      "source": [
        "books_list=finaldf['Name'].unique().tolist()\n",
        "books_dict = dict()\n",
        "i=100\n",
        "for k in books_list:\n",
        "    books_dict[k]=i\n",
        "    i+=1\n"
      ],
      "metadata": {
        "id": "34xdwob5woDl"
      },
      "id": "34xdwob5woDl",
      "execution_count": null,
      "outputs": []
    },
    {
      "cell_type": "markdown",
      "source": [
        "To have a look at five key-value pairs from the dictionary(books_dict) that we just created. "
      ],
      "metadata": {
        "id": "oTxA6qA5sFSm"
      },
      "id": "oTxA6qA5sFSm"
    },
    {
      "cell_type": "code",
      "source": [
        "key_values_5 = {k: books_dict[k] for k in list(books_dict)[:5]}\n",
        "key_values_5"
      ],
      "metadata": {
        "id": "M92CUbnk16dD",
        "colab": {
          "base_uri": "https://localhost:8080/"
        },
        "outputId": "716e99ca-3417-41e5-8822-b0bc8228f138"
      },
      "id": "M92CUbnk16dD",
      "execution_count": null,
      "outputs": [
        {
          "output_type": "execute_result",
          "data": {
            "text/plain": [
              "{'Siddhartha': 100,\n",
              " 'Fortunately, the Milk': 101,\n",
              " 'Pleasure Activism: The Politics of Feeling Good': 102,\n",
              " 'The Remarkable Inventions of Walter Mortinson': 103,\n",
              " 'The Biology of Belief: Unleashing the Power of Consciousness, Matter and Miracles': 104}"
            ]
          },
          "metadata": {},
          "execution_count": 23
        }
      ]
    },
    {
      "cell_type": "markdown",
      "source": [
        "Creating a column(Book_ID) with unique IDs for the books, as per the dictionary(books_dict)."
      ],
      "metadata": {
        "id": "1Rf7eDkpyCef"
      },
      "id": "1Rf7eDkpyCef"
    },
    {
      "cell_type": "code",
      "source": [
        "finaldf[\"Book_ID\"] = finaldf[\"Name\"].apply(lambda x: books_dict.get(x))\n",
        "finaldf.head(5)"
      ],
      "metadata": {
        "colab": {
          "base_uri": "https://localhost:8080/",
          "height": 206
        },
        "id": "CKp_hqN8yAml",
        "outputId": "09d92d26-3491-485c-c969-035d948e4d8e"
      },
      "id": "CKp_hqN8yAml",
      "execution_count": null,
      "outputs": [
        {
          "output_type": "execute_result",
          "data": {
            "text/plain": [
              "     User_ID        Name  Rating_Cat  Book_ID\n",
              "580     7064  Siddhartha           5      100\n",
              "581     7077  Siddhartha           5      100\n",
              "582     7112  Siddhartha           5      100\n",
              "583     7126  Siddhartha           5      100\n",
              "584     7175  Siddhartha           3      100"
            ],
            "text/html": [
              "\n",
              "  <div id=\"df-ff456ff9-acd4-4542-b3d1-c03da11e7c68\">\n",
              "    <div class=\"colab-df-container\">\n",
              "      <div>\n",
              "<style scoped>\n",
              "    .dataframe tbody tr th:only-of-type {\n",
              "        vertical-align: middle;\n",
              "    }\n",
              "\n",
              "    .dataframe tbody tr th {\n",
              "        vertical-align: top;\n",
              "    }\n",
              "\n",
              "    .dataframe thead th {\n",
              "        text-align: right;\n",
              "    }\n",
              "</style>\n",
              "<table border=\"1\" class=\"dataframe\">\n",
              "  <thead>\n",
              "    <tr style=\"text-align: right;\">\n",
              "      <th></th>\n",
              "      <th>User_ID</th>\n",
              "      <th>Name</th>\n",
              "      <th>Rating_Cat</th>\n",
              "      <th>Book_ID</th>\n",
              "    </tr>\n",
              "  </thead>\n",
              "  <tbody>\n",
              "    <tr>\n",
              "      <th>580</th>\n",
              "      <td>7064</td>\n",
              "      <td>Siddhartha</td>\n",
              "      <td>5</td>\n",
              "      <td>100</td>\n",
              "    </tr>\n",
              "    <tr>\n",
              "      <th>581</th>\n",
              "      <td>7077</td>\n",
              "      <td>Siddhartha</td>\n",
              "      <td>5</td>\n",
              "      <td>100</td>\n",
              "    </tr>\n",
              "    <tr>\n",
              "      <th>582</th>\n",
              "      <td>7112</td>\n",
              "      <td>Siddhartha</td>\n",
              "      <td>5</td>\n",
              "      <td>100</td>\n",
              "    </tr>\n",
              "    <tr>\n",
              "      <th>583</th>\n",
              "      <td>7126</td>\n",
              "      <td>Siddhartha</td>\n",
              "      <td>5</td>\n",
              "      <td>100</td>\n",
              "    </tr>\n",
              "    <tr>\n",
              "      <th>584</th>\n",
              "      <td>7175</td>\n",
              "      <td>Siddhartha</td>\n",
              "      <td>3</td>\n",
              "      <td>100</td>\n",
              "    </tr>\n",
              "  </tbody>\n",
              "</table>\n",
              "</div>\n",
              "      <button class=\"colab-df-convert\" onclick=\"convertToInteractive('df-ff456ff9-acd4-4542-b3d1-c03da11e7c68')\"\n",
              "              title=\"Convert this dataframe to an interactive table.\"\n",
              "              style=\"display:none;\">\n",
              "        \n",
              "  <svg xmlns=\"http://www.w3.org/2000/svg\" height=\"24px\"viewBox=\"0 0 24 24\"\n",
              "       width=\"24px\">\n",
              "    <path d=\"M0 0h24v24H0V0z\" fill=\"none\"/>\n",
              "    <path d=\"M18.56 5.44l.94 2.06.94-2.06 2.06-.94-2.06-.94-.94-2.06-.94 2.06-2.06.94zm-11 1L8.5 8.5l.94-2.06 2.06-.94-2.06-.94L8.5 2.5l-.94 2.06-2.06.94zm10 10l.94 2.06.94-2.06 2.06-.94-2.06-.94-.94-2.06-.94 2.06-2.06.94z\"/><path d=\"M17.41 7.96l-1.37-1.37c-.4-.4-.92-.59-1.43-.59-.52 0-1.04.2-1.43.59L10.3 9.45l-7.72 7.72c-.78.78-.78 2.05 0 2.83L4 21.41c.39.39.9.59 1.41.59.51 0 1.02-.2 1.41-.59l7.78-7.78 2.81-2.81c.8-.78.8-2.07 0-2.86zM5.41 20L4 18.59l7.72-7.72 1.47 1.35L5.41 20z\"/>\n",
              "  </svg>\n",
              "      </button>\n",
              "      \n",
              "  <style>\n",
              "    .colab-df-container {\n",
              "      display:flex;\n",
              "      flex-wrap:wrap;\n",
              "      gap: 12px;\n",
              "    }\n",
              "\n",
              "    .colab-df-convert {\n",
              "      background-color: #E8F0FE;\n",
              "      border: none;\n",
              "      border-radius: 50%;\n",
              "      cursor: pointer;\n",
              "      display: none;\n",
              "      fill: #1967D2;\n",
              "      height: 32px;\n",
              "      padding: 0 0 0 0;\n",
              "      width: 32px;\n",
              "    }\n",
              "\n",
              "    .colab-df-convert:hover {\n",
              "      background-color: #E2EBFA;\n",
              "      box-shadow: 0px 1px 2px rgba(60, 64, 67, 0.3), 0px 1px 3px 1px rgba(60, 64, 67, 0.15);\n",
              "      fill: #174EA6;\n",
              "    }\n",
              "\n",
              "    [theme=dark] .colab-df-convert {\n",
              "      background-color: #3B4455;\n",
              "      fill: #D2E3FC;\n",
              "    }\n",
              "\n",
              "    [theme=dark] .colab-df-convert:hover {\n",
              "      background-color: #434B5C;\n",
              "      box-shadow: 0px 1px 3px 1px rgba(0, 0, 0, 0.15);\n",
              "      filter: drop-shadow(0px 1px 2px rgba(0, 0, 0, 0.3));\n",
              "      fill: #FFFFFF;\n",
              "    }\n",
              "  </style>\n",
              "\n",
              "      <script>\n",
              "        const buttonEl =\n",
              "          document.querySelector('#df-ff456ff9-acd4-4542-b3d1-c03da11e7c68 button.colab-df-convert');\n",
              "        buttonEl.style.display =\n",
              "          google.colab.kernel.accessAllowed ? 'block' : 'none';\n",
              "\n",
              "        async function convertToInteractive(key) {\n",
              "          const element = document.querySelector('#df-ff456ff9-acd4-4542-b3d1-c03da11e7c68');\n",
              "          const dataTable =\n",
              "            await google.colab.kernel.invokeFunction('convertToInteractive',\n",
              "                                                     [key], {});\n",
              "          if (!dataTable) return;\n",
              "\n",
              "          const docLinkHtml = 'Like what you see? Visit the ' +\n",
              "            '<a target=\"_blank\" href=https://colab.research.google.com/notebooks/data_table.ipynb>data table notebook</a>'\n",
              "            + ' to learn more about interactive tables.';\n",
              "          element.innerHTML = '';\n",
              "          dataTable['output_type'] = 'display_data';\n",
              "          await google.colab.output.renderOutput(dataTable, element);\n",
              "          const docLink = document.createElement('div');\n",
              "          docLink.innerHTML = docLinkHtml;\n",
              "          element.appendChild(docLink);\n",
              "        }\n",
              "      </script>\n",
              "    </div>\n",
              "  </div>\n",
              "  "
            ]
          },
          "metadata": {},
          "execution_count": 25
        }
      ]
    },
    {
      "cell_type": "markdown",
      "source": [
        "We'll be keeping only those books that have been rated atleast 20 times, in order to avoid having a very sparse matrix."
      ],
      "metadata": {
        "id": "DSt2wQ9NTzgW"
      },
      "id": "DSt2wQ9NTzgW"
    },
    {
      "cell_type": "code",
      "source": [
        "y = finaldf.groupby('Book_ID')['Rating_Cat'].count()>=20\n",
        "frequent_books = y[y].index\n",
        "final_df = finaldf[finaldf['Book_ID'].isin(frequent_books)]\n",
        "final_df.shape"
      ],
      "metadata": {
        "id": "owrpF5yZTxqb",
        "colab": {
          "base_uri": "https://localhost:8080/"
        },
        "outputId": "c8cb3d42-2325-406e-b0ae-9041eb79c7a0"
      },
      "id": "owrpF5yZTxqb",
      "execution_count": null,
      "outputs": [
        {
          "output_type": "execute_result",
          "data": {
            "text/plain": [
              "(140634, 4)"
            ]
          },
          "metadata": {},
          "execution_count": 27
        }
      ]
    },
    {
      "cell_type": "markdown",
      "source": [
        "We can see we're left with around 2300 books. "
      ],
      "metadata": {
        "id": "oTgo5_E-uC2F"
      },
      "id": "oTgo5_E-uC2F"
    },
    {
      "cell_type": "code",
      "source": [
        "final_df.Book_ID.value_counts()"
      ],
      "metadata": {
        "colab": {
          "base_uri": "https://localhost:8080/"
        },
        "id": "ofB7LxXYaE_v",
        "outputId": "c17c8ed5-1ae7-41f3-82dc-f7cb92eabdbe"
      },
      "id": "ofB7LxXYaE_v",
      "execution_count": null,
      "outputs": [
        {
          "output_type": "execute_result",
          "data": {
            "text/plain": [
              "845      976\n",
              "1107     870\n",
              "739      822\n",
              "928      725\n",
              "953      720\n",
              "        ... \n",
              "2115      20\n",
              "16044     20\n",
              "10214     20\n",
              "740       20\n",
              "16327     20\n",
              "Name: Book_ID, Length: 2336, dtype: int64"
            ]
          },
          "metadata": {},
          "execution_count": 32
        }
      ]
    },
    {
      "cell_type": "markdown",
      "source": [
        "We'll remove the Users/User IDs that have rated less than 20 books too, to avoid sparsity. \n",
        "We'll also create a subset of users that have rated between 15-20 books which we'll use for evaluating the performance of our recommender system later.  "
      ],
      "metadata": {
        "id": "MmOpc_w6Z0C2"
      },
      "id": "MmOpc_w6Z0C2"
    },
    {
      "cell_type": "code",
      "execution_count": null,
      "id": "2429fbba",
      "metadata": {
        "id": "2429fbba"
      },
      "outputs": [],
      "source": [
        "ID_grp= final_df.groupby(['User_ID']).size().reset_index(name='counts')\n",
        "x = final_df.groupby('User_ID')[\"Rating_Cat\"].count() >= 20\n",
        "x_test = final_df.groupby('User_ID')[\"Rating_Cat\"].count().isin(range(15, 20))\n",
        "regular_users = x[x].index\n",
        "test_users = x_test[x_test].index"
      ]
    },
    {
      "cell_type": "markdown",
      "source": [
        "Creating a separate dataframe with just the test users, we can see we have around 250 users for testing. "
      ],
      "metadata": {
        "id": "gETMZlaBuW0q"
      },
      "id": "gETMZlaBuW0q"
    },
    {
      "cell_type": "code",
      "source": [
        "filter_test = final_df[final_df['User_ID'].isin(test_users)]\n",
        "filter_test.User_ID.value_counts()"
      ],
      "metadata": {
        "id": "yequNHAElVnZ",
        "colab": {
          "base_uri": "https://localhost:8080/"
        },
        "outputId": "8e8901ec-6398-4902-c132-42203cbd706f"
      },
      "id": "yequNHAElVnZ",
      "execution_count": null,
      "outputs": [
        {
          "output_type": "execute_result",
          "data": {
            "text/plain": [
              "2717    19\n",
              "3420    19\n",
              "8494    19\n",
              "7       19\n",
              "6       19\n",
              "        ..\n",
              "2856    15\n",
              "9746    15\n",
              "8513    15\n",
              "6862    15\n",
              "3142    15\n",
              "Name: User_ID, Length: 249, dtype: int64"
            ]
          },
          "metadata": {},
          "execution_count": 38
        }
      ]
    },
    {
      "cell_type": "markdown",
      "source": [
        "The dataframe of users that have rated atleast 20 books is obtained(filtered_rating), which will be used for training. "
      ],
      "metadata": {
        "id": "Xh6LZf0qKGp4"
      },
      "id": "Xh6LZf0qKGp4"
    },
    {
      "cell_type": "code",
      "source": [
        "filtered_rating = final_df[final_df['User_ID'].isin(regular_users)]\n",
        "filtered_rating.head(5)"
      ],
      "metadata": {
        "colab": {
          "base_uri": "https://localhost:8080/",
          "height": 206
        },
        "id": "h4CphpYnJGve",
        "outputId": "b5882120-3668-4de8-d6bb-d7d6deb4467c"
      },
      "id": "h4CphpYnJGve",
      "execution_count": null,
      "outputs": [
        {
          "output_type": "execute_result",
          "data": {
            "text/plain": [
              "     User_ID        Name  Rating_Cat  Book_ID\n",
              "580     7064  Siddhartha           5      100\n",
              "581     7077  Siddhartha           5      100\n",
              "582     7112  Siddhartha           5      100\n",
              "584     7175  Siddhartha           3      100\n",
              "585     7206  Siddhartha           3      100"
            ],
            "text/html": [
              "\n",
              "  <div id=\"df-b0f82c6d-1be9-4b6b-9940-98e970fcb437\">\n",
              "    <div class=\"colab-df-container\">\n",
              "      <div>\n",
              "<style scoped>\n",
              "    .dataframe tbody tr th:only-of-type {\n",
              "        vertical-align: middle;\n",
              "    }\n",
              "\n",
              "    .dataframe tbody tr th {\n",
              "        vertical-align: top;\n",
              "    }\n",
              "\n",
              "    .dataframe thead th {\n",
              "        text-align: right;\n",
              "    }\n",
              "</style>\n",
              "<table border=\"1\" class=\"dataframe\">\n",
              "  <thead>\n",
              "    <tr style=\"text-align: right;\">\n",
              "      <th></th>\n",
              "      <th>User_ID</th>\n",
              "      <th>Name</th>\n",
              "      <th>Rating_Cat</th>\n",
              "      <th>Book_ID</th>\n",
              "    </tr>\n",
              "  </thead>\n",
              "  <tbody>\n",
              "    <tr>\n",
              "      <th>580</th>\n",
              "      <td>7064</td>\n",
              "      <td>Siddhartha</td>\n",
              "      <td>5</td>\n",
              "      <td>100</td>\n",
              "    </tr>\n",
              "    <tr>\n",
              "      <th>581</th>\n",
              "      <td>7077</td>\n",
              "      <td>Siddhartha</td>\n",
              "      <td>5</td>\n",
              "      <td>100</td>\n",
              "    </tr>\n",
              "    <tr>\n",
              "      <th>582</th>\n",
              "      <td>7112</td>\n",
              "      <td>Siddhartha</td>\n",
              "      <td>5</td>\n",
              "      <td>100</td>\n",
              "    </tr>\n",
              "    <tr>\n",
              "      <th>584</th>\n",
              "      <td>7175</td>\n",
              "      <td>Siddhartha</td>\n",
              "      <td>3</td>\n",
              "      <td>100</td>\n",
              "    </tr>\n",
              "    <tr>\n",
              "      <th>585</th>\n",
              "      <td>7206</td>\n",
              "      <td>Siddhartha</td>\n",
              "      <td>3</td>\n",
              "      <td>100</td>\n",
              "    </tr>\n",
              "  </tbody>\n",
              "</table>\n",
              "</div>\n",
              "      <button class=\"colab-df-convert\" onclick=\"convertToInteractive('df-b0f82c6d-1be9-4b6b-9940-98e970fcb437')\"\n",
              "              title=\"Convert this dataframe to an interactive table.\"\n",
              "              style=\"display:none;\">\n",
              "        \n",
              "  <svg xmlns=\"http://www.w3.org/2000/svg\" height=\"24px\"viewBox=\"0 0 24 24\"\n",
              "       width=\"24px\">\n",
              "    <path d=\"M0 0h24v24H0V0z\" fill=\"none\"/>\n",
              "    <path d=\"M18.56 5.44l.94 2.06.94-2.06 2.06-.94-2.06-.94-.94-2.06-.94 2.06-2.06.94zm-11 1L8.5 8.5l.94-2.06 2.06-.94-2.06-.94L8.5 2.5l-.94 2.06-2.06.94zm10 10l.94 2.06.94-2.06 2.06-.94-2.06-.94-.94-2.06-.94 2.06-2.06.94z\"/><path d=\"M17.41 7.96l-1.37-1.37c-.4-.4-.92-.59-1.43-.59-.52 0-1.04.2-1.43.59L10.3 9.45l-7.72 7.72c-.78.78-.78 2.05 0 2.83L4 21.41c.39.39.9.59 1.41.59.51 0 1.02-.2 1.41-.59l7.78-7.78 2.81-2.81c.8-.78.8-2.07 0-2.86zM5.41 20L4 18.59l7.72-7.72 1.47 1.35L5.41 20z\"/>\n",
              "  </svg>\n",
              "      </button>\n",
              "      \n",
              "  <style>\n",
              "    .colab-df-container {\n",
              "      display:flex;\n",
              "      flex-wrap:wrap;\n",
              "      gap: 12px;\n",
              "    }\n",
              "\n",
              "    .colab-df-convert {\n",
              "      background-color: #E8F0FE;\n",
              "      border: none;\n",
              "      border-radius: 50%;\n",
              "      cursor: pointer;\n",
              "      display: none;\n",
              "      fill: #1967D2;\n",
              "      height: 32px;\n",
              "      padding: 0 0 0 0;\n",
              "      width: 32px;\n",
              "    }\n",
              "\n",
              "    .colab-df-convert:hover {\n",
              "      background-color: #E2EBFA;\n",
              "      box-shadow: 0px 1px 2px rgba(60, 64, 67, 0.3), 0px 1px 3px 1px rgba(60, 64, 67, 0.15);\n",
              "      fill: #174EA6;\n",
              "    }\n",
              "\n",
              "    [theme=dark] .colab-df-convert {\n",
              "      background-color: #3B4455;\n",
              "      fill: #D2E3FC;\n",
              "    }\n",
              "\n",
              "    [theme=dark] .colab-df-convert:hover {\n",
              "      background-color: #434B5C;\n",
              "      box-shadow: 0px 1px 3px 1px rgba(0, 0, 0, 0.15);\n",
              "      filter: drop-shadow(0px 1px 2px rgba(0, 0, 0, 0.3));\n",
              "      fill: #FFFFFF;\n",
              "    }\n",
              "  </style>\n",
              "\n",
              "      <script>\n",
              "        const buttonEl =\n",
              "          document.querySelector('#df-b0f82c6d-1be9-4b6b-9940-98e970fcb437 button.colab-df-convert');\n",
              "        buttonEl.style.display =\n",
              "          google.colab.kernel.accessAllowed ? 'block' : 'none';\n",
              "\n",
              "        async function convertToInteractive(key) {\n",
              "          const element = document.querySelector('#df-b0f82c6d-1be9-4b6b-9940-98e970fcb437');\n",
              "          const dataTable =\n",
              "            await google.colab.kernel.invokeFunction('convertToInteractive',\n",
              "                                                     [key], {});\n",
              "          if (!dataTable) return;\n",
              "\n",
              "          const docLinkHtml = 'Like what you see? Visit the ' +\n",
              "            '<a target=\"_blank\" href=https://colab.research.google.com/notebooks/data_table.ipynb>data table notebook</a>'\n",
              "            + ' to learn more about interactive tables.';\n",
              "          element.innerHTML = '';\n",
              "          dataTable['output_type'] = 'display_data';\n",
              "          await google.colab.output.renderOutput(dataTable, element);\n",
              "          const docLink = document.createElement('div');\n",
              "          docLink.innerHTML = docLinkHtml;\n",
              "          element.appendChild(docLink);\n",
              "        }\n",
              "      </script>\n",
              "    </div>\n",
              "  </div>\n",
              "  "
            ]
          },
          "metadata": {},
          "execution_count": 40
        }
      ]
    },
    {
      "cell_type": "markdown",
      "source": [
        "We have around 1600 users that we will be training our model on.  "
      ],
      "metadata": {
        "id": "qklFRkK_oS2Z"
      },
      "id": "qklFRkK_oS2Z"
    },
    {
      "cell_type": "code",
      "source": [
        "filtered_rating.User_ID.value_counts()"
      ],
      "metadata": {
        "colab": {
          "base_uri": "https://localhost:8080/"
        },
        "id": "Wtza2EHb9MFM",
        "outputId": "7387ff13-ce76-4541-d8dd-df13223ed16e"
      },
      "id": "Wtza2EHb9MFM",
      "execution_count": null,
      "outputs": [
        {
          "output_type": "execute_result",
          "data": {
            "text/plain": [
              "882      578\n",
              "675      568\n",
              "284      549\n",
              "529      504\n",
              "8835     503\n",
              "        ... \n",
              "865       20\n",
              "8641      20\n",
              "713       20\n",
              "10538     20\n",
              "9304      20\n",
              "Name: User_ID, Length: 1612, dtype: int64"
            ]
          },
          "metadata": {},
          "execution_count": 41
        }
      ]
    },
    {
      "cell_type": "code",
      "execution_count": null,
      "id": "0d808321",
      "metadata": {
        "id": "0d808321"
      },
      "outputs": [],
      "source": [
        "pd.set_option('display.max_rows', 1000)"
      ]
    },
    {
      "cell_type": "markdown",
      "source": [
        "Dropping the 'Name' column, which had the Book titles.  "
      ],
      "metadata": {
        "id": "cHhEuiRtvoOw"
      },
      "id": "cHhEuiRtvoOw"
    },
    {
      "cell_type": "code",
      "execution_count": null,
      "id": "05650fa7",
      "metadata": {
        "id": "05650fa7",
        "outputId": "125d0231-8c8d-4639-890e-3dceb18b0e04",
        "colab": {
          "base_uri": "https://localhost:8080/",
          "height": 206
        }
      },
      "outputs": [
        {
          "output_type": "execute_result",
          "data": {
            "text/plain": [
              "     User_ID  Book_ID  Rating_Cat\n",
              "580     7064      100           5\n",
              "581     7077      100           5\n",
              "582     7112      100           5\n",
              "584     7175      100           3\n",
              "585     7206      100           3"
            ],
            "text/html": [
              "\n",
              "  <div id=\"df-00877ac4-fbd7-4777-8683-6a5e2d09b5ee\">\n",
              "    <div class=\"colab-df-container\">\n",
              "      <div>\n",
              "<style scoped>\n",
              "    .dataframe tbody tr th:only-of-type {\n",
              "        vertical-align: middle;\n",
              "    }\n",
              "\n",
              "    .dataframe tbody tr th {\n",
              "        vertical-align: top;\n",
              "    }\n",
              "\n",
              "    .dataframe thead th {\n",
              "        text-align: right;\n",
              "    }\n",
              "</style>\n",
              "<table border=\"1\" class=\"dataframe\">\n",
              "  <thead>\n",
              "    <tr style=\"text-align: right;\">\n",
              "      <th></th>\n",
              "      <th>User_ID</th>\n",
              "      <th>Book_ID</th>\n",
              "      <th>Rating_Cat</th>\n",
              "    </tr>\n",
              "  </thead>\n",
              "  <tbody>\n",
              "    <tr>\n",
              "      <th>580</th>\n",
              "      <td>7064</td>\n",
              "      <td>100</td>\n",
              "      <td>5</td>\n",
              "    </tr>\n",
              "    <tr>\n",
              "      <th>581</th>\n",
              "      <td>7077</td>\n",
              "      <td>100</td>\n",
              "      <td>5</td>\n",
              "    </tr>\n",
              "    <tr>\n",
              "      <th>582</th>\n",
              "      <td>7112</td>\n",
              "      <td>100</td>\n",
              "      <td>5</td>\n",
              "    </tr>\n",
              "    <tr>\n",
              "      <th>584</th>\n",
              "      <td>7175</td>\n",
              "      <td>100</td>\n",
              "      <td>3</td>\n",
              "    </tr>\n",
              "    <tr>\n",
              "      <th>585</th>\n",
              "      <td>7206</td>\n",
              "      <td>100</td>\n",
              "      <td>3</td>\n",
              "    </tr>\n",
              "  </tbody>\n",
              "</table>\n",
              "</div>\n",
              "      <button class=\"colab-df-convert\" onclick=\"convertToInteractive('df-00877ac4-fbd7-4777-8683-6a5e2d09b5ee')\"\n",
              "              title=\"Convert this dataframe to an interactive table.\"\n",
              "              style=\"display:none;\">\n",
              "        \n",
              "  <svg xmlns=\"http://www.w3.org/2000/svg\" height=\"24px\"viewBox=\"0 0 24 24\"\n",
              "       width=\"24px\">\n",
              "    <path d=\"M0 0h24v24H0V0z\" fill=\"none\"/>\n",
              "    <path d=\"M18.56 5.44l.94 2.06.94-2.06 2.06-.94-2.06-.94-.94-2.06-.94 2.06-2.06.94zm-11 1L8.5 8.5l.94-2.06 2.06-.94-2.06-.94L8.5 2.5l-.94 2.06-2.06.94zm10 10l.94 2.06.94-2.06 2.06-.94-2.06-.94-.94-2.06-.94 2.06-2.06.94z\"/><path d=\"M17.41 7.96l-1.37-1.37c-.4-.4-.92-.59-1.43-.59-.52 0-1.04.2-1.43.59L10.3 9.45l-7.72 7.72c-.78.78-.78 2.05 0 2.83L4 21.41c.39.39.9.59 1.41.59.51 0 1.02-.2 1.41-.59l7.78-7.78 2.81-2.81c.8-.78.8-2.07 0-2.86zM5.41 20L4 18.59l7.72-7.72 1.47 1.35L5.41 20z\"/>\n",
              "  </svg>\n",
              "      </button>\n",
              "      \n",
              "  <style>\n",
              "    .colab-df-container {\n",
              "      display:flex;\n",
              "      flex-wrap:wrap;\n",
              "      gap: 12px;\n",
              "    }\n",
              "\n",
              "    .colab-df-convert {\n",
              "      background-color: #E8F0FE;\n",
              "      border: none;\n",
              "      border-radius: 50%;\n",
              "      cursor: pointer;\n",
              "      display: none;\n",
              "      fill: #1967D2;\n",
              "      height: 32px;\n",
              "      padding: 0 0 0 0;\n",
              "      width: 32px;\n",
              "    }\n",
              "\n",
              "    .colab-df-convert:hover {\n",
              "      background-color: #E2EBFA;\n",
              "      box-shadow: 0px 1px 2px rgba(60, 64, 67, 0.3), 0px 1px 3px 1px rgba(60, 64, 67, 0.15);\n",
              "      fill: #174EA6;\n",
              "    }\n",
              "\n",
              "    [theme=dark] .colab-df-convert {\n",
              "      background-color: #3B4455;\n",
              "      fill: #D2E3FC;\n",
              "    }\n",
              "\n",
              "    [theme=dark] .colab-df-convert:hover {\n",
              "      background-color: #434B5C;\n",
              "      box-shadow: 0px 1px 3px 1px rgba(0, 0, 0, 0.15);\n",
              "      filter: drop-shadow(0px 1px 2px rgba(0, 0, 0, 0.3));\n",
              "      fill: #FFFFFF;\n",
              "    }\n",
              "  </style>\n",
              "\n",
              "      <script>\n",
              "        const buttonEl =\n",
              "          document.querySelector('#df-00877ac4-fbd7-4777-8683-6a5e2d09b5ee button.colab-df-convert');\n",
              "        buttonEl.style.display =\n",
              "          google.colab.kernel.accessAllowed ? 'block' : 'none';\n",
              "\n",
              "        async function convertToInteractive(key) {\n",
              "          const element = document.querySelector('#df-00877ac4-fbd7-4777-8683-6a5e2d09b5ee');\n",
              "          const dataTable =\n",
              "            await google.colab.kernel.invokeFunction('convertToInteractive',\n",
              "                                                     [key], {});\n",
              "          if (!dataTable) return;\n",
              "\n",
              "          const docLinkHtml = 'Like what you see? Visit the ' +\n",
              "            '<a target=\"_blank\" href=https://colab.research.google.com/notebooks/data_table.ipynb>data table notebook</a>'\n",
              "            + ' to learn more about interactive tables.';\n",
              "          element.innerHTML = '';\n",
              "          dataTable['output_type'] = 'display_data';\n",
              "          await google.colab.output.renderOutput(dataTable, element);\n",
              "          const docLink = document.createElement('div');\n",
              "          docLink.innerHTML = docLinkHtml;\n",
              "          element.appendChild(docLink);\n",
              "        }\n",
              "      </script>\n",
              "    </div>\n",
              "  </div>\n",
              "  "
            ]
          },
          "metadata": {},
          "execution_count": 42
        }
      ],
      "source": [
        "filtered_train = filtered_rating.reindex(['User_ID','Book_ID','Rating_Cat'], axis=1)\n",
        "filtered_train.head()"
      ]
    },
    {
      "cell_type": "markdown",
      "source": [
        "Creating a dataframe with Book_ID as the index, and User ids as the columns and rating values as cell entries. "
      ],
      "metadata": {
        "id": "9mVjLAngKLl3"
      },
      "id": "9mVjLAngKLl3"
    },
    {
      "cell_type": "code",
      "execution_count": null,
      "id": "9740dca4",
      "metadata": {
        "id": "9740dca4",
        "outputId": "f10801f7-2b40-434c-bfa6-8afe860a8ece",
        "colab": {
          "base_uri": "https://localhost:8080/"
        }
      },
      "outputs": [
        {
          "output_type": "execute_result",
          "data": {
            "text/plain": [
              "(2336, 1612)"
            ]
          },
          "metadata": {},
          "execution_count": 43
        }
      ],
      "source": [
        "pivot_df = filtered_train.pivot_table(index='Book_ID',columns='User_ID',values='Rating_Cat',fill_value=0)\n",
        "pivot_df.shape"
      ]
    },
    {
      "cell_type": "markdown",
      "source": [
        "Addressing Nan values "
      ],
      "metadata": {
        "id": "2CnNuDRiKio3"
      },
      "id": "2CnNuDRiKio3"
    },
    {
      "cell_type": "code",
      "execution_count": null,
      "id": "e94c0b64",
      "metadata": {
        "id": "e94c0b64"
      },
      "outputs": [],
      "source": [
        "pivot_df.fillna(0, inplace = True)\n"
      ]
    },
    {
      "cell_type": "markdown",
      "source": [],
      "metadata": {
        "id": "-g7rUtmynPhP"
      },
      "id": "-g7rUtmynPhP"
    },
    {
      "cell_type": "code",
      "source": [
        "from sklearn.decomposition import TruncatedSVD\n",
        "svd = TruncatedSVD(n_components=1000, random_state=20)\n",
        "svd.fit(pivot_df)\n",
        "result = svd.transform(pivot_df)"
      ],
      "metadata": {
        "id": "96ncU0gk3neQ"
      },
      "id": "96ncU0gk3neQ",
      "execution_count": null,
      "outputs": []
    },
    {
      "cell_type": "code",
      "source": [
        "result.shape"
      ],
      "metadata": {
        "colab": {
          "base_uri": "https://localhost:8080/"
        },
        "id": "vOHZ2yw24Ayi",
        "outputId": "4e8d3a96-8f3d-4849-a43a-06e7a56e114b"
      },
      "id": "vOHZ2yw24Ayi",
      "execution_count": 48,
      "outputs": [
        {
          "output_type": "execute_result",
          "data": {
            "text/plain": [
              "(2336, 1000)"
            ]
          },
          "metadata": {},
          "execution_count": 48
        }
      ]
    },
    {
      "cell_type": "code",
      "execution_count": 49,
      "id": "bfc3b036",
      "metadata": {
        "id": "bfc3b036",
        "colab": {
          "base_uri": "https://localhost:8080/"
        },
        "outputId": "d503f80b-3173-448d-ed37-dc2fc264c3ce"
      },
      "outputs": [
        {
          "output_type": "execute_result",
          "data": {
            "text/plain": [
              "0.9747174617203953"
            ]
          },
          "metadata": {},
          "execution_count": 49
        }
      ],
      "source": [
        "svd.explained_variance_ratio_.sum()"
      ]
    },
    {
      "cell_type": "markdown",
      "source": [
        "Finding similarity scores on the basis of Cosine similarity. "
      ],
      "metadata": {
        "id": "QNz2UupNw--Y"
      },
      "id": "QNz2UupNw--Y"
    },
    {
      "cell_type": "code",
      "source": [
        "from sklearn.metrics.pairwise import cosine_similarity\n",
        "similarity_scores = cosine_similarity(result)"
      ],
      "metadata": {
        "id": "jtTeNY2sGdXp"
      },
      "id": "jtTeNY2sGdXp",
      "execution_count": 50,
      "outputs": []
    },
    {
      "cell_type": "code",
      "source": [
        "similarity_scores[5]"
      ],
      "metadata": {
        "colab": {
          "base_uri": "https://localhost:8080/"
        },
        "id": "5OqVnEfNCvLM",
        "outputId": "97dcca4d-c9b8-4eb0-9139-b7c5d567b020"
      },
      "id": "5OqVnEfNCvLM",
      "execution_count": 51,
      "outputs": [
        {
          "output_type": "execute_result",
          "data": {
            "text/plain": [
              "array([0.09954132, 0.23388216, 0.30367129, ..., 0.08799203, 0.01590945,\n",
              "       0.03682339])"
            ]
          },
          "metadata": {},
          "execution_count": 51
        }
      ]
    },
    {
      "cell_type": "markdown",
      "source": [
        "The dataframe with similarity scores of all books is obtained(book_sim_df), since the diagonal elements are similarity values of an individual book with itself we shall set it as 0. "
      ],
      "metadata": {
        "id": "CoGn1bYwKrO4"
      },
      "id": "CoGn1bYwKrO4"
    },
    {
      "cell_type": "code",
      "source": [
        "book_sim_df = pd.DataFrame(data=similarity_scores, index= pivot_df.index, columns= pivot_df.index)"
      ],
      "metadata": {
        "id": "8e-_90BOFHxz"
      },
      "id": "8e-_90BOFHxz",
      "execution_count": 52,
      "outputs": []
    },
    {
      "cell_type": "code",
      "source": [
        "book_sim_df.values[[np.arange(book_sim_df.shape[0])]*2] = 0\n",
        "book_sim_df"
      ],
      "metadata": {
        "colab": {
          "base_uri": "https://localhost:8080/",
          "height": 554
        },
        "id": "hoXW0i_1jQ9N",
        "outputId": "5dc75ca0-962b-4c31-840d-6cb8459c5ed6"
      },
      "id": "hoXW0i_1jQ9N",
      "execution_count": 53,
      "outputs": [
        {
          "output_type": "stream",
          "name": "stderr",
          "text": [
            "/usr/local/lib/python3.7/dist-packages/ipykernel_launcher.py:1: FutureWarning: Using a non-tuple sequence for multidimensional indexing is deprecated; use `arr[tuple(seq)]` instead of `arr[seq]`. In the future this will be interpreted as an array index, `arr[np.array(seq)]`, which will result either in an error or a different result.\n",
            "  \"\"\"Entry point for launching an IPython kernel.\n"
          ]
        },
        {
          "output_type": "execute_result",
          "data": {
            "text/plain": [
              "Book_ID     100       114       116       123       129       130       131    \\\n",
              "Book_ID                                                                         \n",
              "100      0.000000  0.131346  0.064414  0.011574  0.045442  0.099541  0.067457   \n",
              "114      0.131346  0.000000  0.097513  0.127460  0.147702  0.233882  0.035899   \n",
              "116      0.064414  0.097513  0.000000  0.206764  0.307643  0.303671  0.232987   \n",
              "123      0.011574  0.127460  0.206764  0.000000  0.467667  0.345114  0.047113   \n",
              "129      0.045442  0.147702  0.307643  0.467667  0.000000  0.423374  0.120829   \n",
              "...           ...       ...       ...       ...       ...       ...       ...   \n",
              "43436    0.113506  0.076532  0.100618  0.042103  0.030913  0.143566  0.066164   \n",
              "43457    0.042575  0.028565  0.001386  0.005251  0.007447  0.061928  0.036786   \n",
              "43505    0.052284  0.032261  0.175588  0.028552  0.041889  0.087992  0.172008   \n",
              "47119    0.066464  0.030846  0.030406 -0.001260 -0.002650  0.015909  0.196841   \n",
              "47154    0.132033  0.026193  0.119320  0.040023  0.058708  0.036823  0.313909   \n",
              "\n",
              "Book_ID     132       133       134    ...     29447     31219     32530  \\\n",
              "Book_ID                                ...                                 \n",
              "100      0.075972  0.110851  0.103176  ...  0.019539  0.044299  0.000350   \n",
              "114      0.081259  0.170538  0.121448  ...  0.134094  0.021738  0.013514   \n",
              "116      0.067937  0.369014  0.069285  ...  0.070120  0.001240  0.060070   \n",
              "123      0.039472  0.227081  0.062711  ...  0.074643  0.001580  0.001986   \n",
              "129      0.035014  0.347523  0.064003  ...  0.148438 -0.000337 -0.000885   \n",
              "...           ...       ...       ...  ...       ...       ...       ...   \n",
              "43436    0.043793  0.089440  0.056418  ...  0.011222 -0.002493  0.001520   \n",
              "43457    0.023768  0.029921  0.027087  ...  0.029644 -0.001490  0.280748   \n",
              "43505    0.021145  0.113609  0.018472  ...  0.019500 -0.000846  0.100859   \n",
              "47119   -0.002014  0.035778 -0.000780  ...  0.000221  0.003438 -0.004738   \n",
              "47154    0.001216  0.058663  0.008671  ... -0.002722  0.001649 -0.006201   \n",
              "\n",
              "Book_ID     43399     43402     43436     43457     43505     47119     47154  \n",
              "Book_ID                                                                        \n",
              "100      0.092075  0.156903  0.113506  0.042575  0.052284  0.066464  0.132033  \n",
              "114      0.103665  0.198948  0.076532  0.028565  0.032261  0.030846  0.026193  \n",
              "116      0.182076  0.209343  0.100618  0.001386  0.175588  0.030406  0.119320  \n",
              "123      0.088192  0.117259  0.042103  0.005251  0.028552 -0.001260  0.040023  \n",
              "129      0.154026  0.186070  0.030913  0.007447  0.041889 -0.002650  0.058708  \n",
              "...           ...       ...       ...       ...       ...       ...       ...  \n",
              "43436    0.093262  0.302536  0.000000  0.133848  0.108596  0.034835  0.046777  \n",
              "43457    0.045468  0.129645  0.133848  0.000000  0.154879  0.048335  0.028313  \n",
              "43505    0.162751  0.195023  0.108596  0.154879  0.000000  0.195571  0.227429  \n",
              "47119    0.341049  0.125543  0.034835  0.048335  0.195571  0.000000  0.253024  \n",
              "47154    0.216048  0.165222  0.046777  0.028313  0.227429  0.253024  0.000000  \n",
              "\n",
              "[2336 rows x 2336 columns]"
            ],
            "text/html": [
              "\n",
              "  <div id=\"df-68161171-f768-4186-b563-5817fd31e3ee\">\n",
              "    <div class=\"colab-df-container\">\n",
              "      <div>\n",
              "<style scoped>\n",
              "    .dataframe tbody tr th:only-of-type {\n",
              "        vertical-align: middle;\n",
              "    }\n",
              "\n",
              "    .dataframe tbody tr th {\n",
              "        vertical-align: top;\n",
              "    }\n",
              "\n",
              "    .dataframe thead th {\n",
              "        text-align: right;\n",
              "    }\n",
              "</style>\n",
              "<table border=\"1\" class=\"dataframe\">\n",
              "  <thead>\n",
              "    <tr style=\"text-align: right;\">\n",
              "      <th>Book_ID</th>\n",
              "      <th>100</th>\n",
              "      <th>114</th>\n",
              "      <th>116</th>\n",
              "      <th>123</th>\n",
              "      <th>129</th>\n",
              "      <th>130</th>\n",
              "      <th>131</th>\n",
              "      <th>132</th>\n",
              "      <th>133</th>\n",
              "      <th>134</th>\n",
              "      <th>...</th>\n",
              "      <th>29447</th>\n",
              "      <th>31219</th>\n",
              "      <th>32530</th>\n",
              "      <th>43399</th>\n",
              "      <th>43402</th>\n",
              "      <th>43436</th>\n",
              "      <th>43457</th>\n",
              "      <th>43505</th>\n",
              "      <th>47119</th>\n",
              "      <th>47154</th>\n",
              "    </tr>\n",
              "    <tr>\n",
              "      <th>Book_ID</th>\n",
              "      <th></th>\n",
              "      <th></th>\n",
              "      <th></th>\n",
              "      <th></th>\n",
              "      <th></th>\n",
              "      <th></th>\n",
              "      <th></th>\n",
              "      <th></th>\n",
              "      <th></th>\n",
              "      <th></th>\n",
              "      <th></th>\n",
              "      <th></th>\n",
              "      <th></th>\n",
              "      <th></th>\n",
              "      <th></th>\n",
              "      <th></th>\n",
              "      <th></th>\n",
              "      <th></th>\n",
              "      <th></th>\n",
              "      <th></th>\n",
              "      <th></th>\n",
              "    </tr>\n",
              "  </thead>\n",
              "  <tbody>\n",
              "    <tr>\n",
              "      <th>100</th>\n",
              "      <td>0.000000</td>\n",
              "      <td>0.131346</td>\n",
              "      <td>0.064414</td>\n",
              "      <td>0.011574</td>\n",
              "      <td>0.045442</td>\n",
              "      <td>0.099541</td>\n",
              "      <td>0.067457</td>\n",
              "      <td>0.075972</td>\n",
              "      <td>0.110851</td>\n",
              "      <td>0.103176</td>\n",
              "      <td>...</td>\n",
              "      <td>0.019539</td>\n",
              "      <td>0.044299</td>\n",
              "      <td>0.000350</td>\n",
              "      <td>0.092075</td>\n",
              "      <td>0.156903</td>\n",
              "      <td>0.113506</td>\n",
              "      <td>0.042575</td>\n",
              "      <td>0.052284</td>\n",
              "      <td>0.066464</td>\n",
              "      <td>0.132033</td>\n",
              "    </tr>\n",
              "    <tr>\n",
              "      <th>114</th>\n",
              "      <td>0.131346</td>\n",
              "      <td>0.000000</td>\n",
              "      <td>0.097513</td>\n",
              "      <td>0.127460</td>\n",
              "      <td>0.147702</td>\n",
              "      <td>0.233882</td>\n",
              "      <td>0.035899</td>\n",
              "      <td>0.081259</td>\n",
              "      <td>0.170538</td>\n",
              "      <td>0.121448</td>\n",
              "      <td>...</td>\n",
              "      <td>0.134094</td>\n",
              "      <td>0.021738</td>\n",
              "      <td>0.013514</td>\n",
              "      <td>0.103665</td>\n",
              "      <td>0.198948</td>\n",
              "      <td>0.076532</td>\n",
              "      <td>0.028565</td>\n",
              "      <td>0.032261</td>\n",
              "      <td>0.030846</td>\n",
              "      <td>0.026193</td>\n",
              "    </tr>\n",
              "    <tr>\n",
              "      <th>116</th>\n",
              "      <td>0.064414</td>\n",
              "      <td>0.097513</td>\n",
              "      <td>0.000000</td>\n",
              "      <td>0.206764</td>\n",
              "      <td>0.307643</td>\n",
              "      <td>0.303671</td>\n",
              "      <td>0.232987</td>\n",
              "      <td>0.067937</td>\n",
              "      <td>0.369014</td>\n",
              "      <td>0.069285</td>\n",
              "      <td>...</td>\n",
              "      <td>0.070120</td>\n",
              "      <td>0.001240</td>\n",
              "      <td>0.060070</td>\n",
              "      <td>0.182076</td>\n",
              "      <td>0.209343</td>\n",
              "      <td>0.100618</td>\n",
              "      <td>0.001386</td>\n",
              "      <td>0.175588</td>\n",
              "      <td>0.030406</td>\n",
              "      <td>0.119320</td>\n",
              "    </tr>\n",
              "    <tr>\n",
              "      <th>123</th>\n",
              "      <td>0.011574</td>\n",
              "      <td>0.127460</td>\n",
              "      <td>0.206764</td>\n",
              "      <td>0.000000</td>\n",
              "      <td>0.467667</td>\n",
              "      <td>0.345114</td>\n",
              "      <td>0.047113</td>\n",
              "      <td>0.039472</td>\n",
              "      <td>0.227081</td>\n",
              "      <td>0.062711</td>\n",
              "      <td>...</td>\n",
              "      <td>0.074643</td>\n",
              "      <td>0.001580</td>\n",
              "      <td>0.001986</td>\n",
              "      <td>0.088192</td>\n",
              "      <td>0.117259</td>\n",
              "      <td>0.042103</td>\n",
              "      <td>0.005251</td>\n",
              "      <td>0.028552</td>\n",
              "      <td>-0.001260</td>\n",
              "      <td>0.040023</td>\n",
              "    </tr>\n",
              "    <tr>\n",
              "      <th>129</th>\n",
              "      <td>0.045442</td>\n",
              "      <td>0.147702</td>\n",
              "      <td>0.307643</td>\n",
              "      <td>0.467667</td>\n",
              "      <td>0.000000</td>\n",
              "      <td>0.423374</td>\n",
              "      <td>0.120829</td>\n",
              "      <td>0.035014</td>\n",
              "      <td>0.347523</td>\n",
              "      <td>0.064003</td>\n",
              "      <td>...</td>\n",
              "      <td>0.148438</td>\n",
              "      <td>-0.000337</td>\n",
              "      <td>-0.000885</td>\n",
              "      <td>0.154026</td>\n",
              "      <td>0.186070</td>\n",
              "      <td>0.030913</td>\n",
              "      <td>0.007447</td>\n",
              "      <td>0.041889</td>\n",
              "      <td>-0.002650</td>\n",
              "      <td>0.058708</td>\n",
              "    </tr>\n",
              "    <tr>\n",
              "      <th>...</th>\n",
              "      <td>...</td>\n",
              "      <td>...</td>\n",
              "      <td>...</td>\n",
              "      <td>...</td>\n",
              "      <td>...</td>\n",
              "      <td>...</td>\n",
              "      <td>...</td>\n",
              "      <td>...</td>\n",
              "      <td>...</td>\n",
              "      <td>...</td>\n",
              "      <td>...</td>\n",
              "      <td>...</td>\n",
              "      <td>...</td>\n",
              "      <td>...</td>\n",
              "      <td>...</td>\n",
              "      <td>...</td>\n",
              "      <td>...</td>\n",
              "      <td>...</td>\n",
              "      <td>...</td>\n",
              "      <td>...</td>\n",
              "      <td>...</td>\n",
              "    </tr>\n",
              "    <tr>\n",
              "      <th>43436</th>\n",
              "      <td>0.113506</td>\n",
              "      <td>0.076532</td>\n",
              "      <td>0.100618</td>\n",
              "      <td>0.042103</td>\n",
              "      <td>0.030913</td>\n",
              "      <td>0.143566</td>\n",
              "      <td>0.066164</td>\n",
              "      <td>0.043793</td>\n",
              "      <td>0.089440</td>\n",
              "      <td>0.056418</td>\n",
              "      <td>...</td>\n",
              "      <td>0.011222</td>\n",
              "      <td>-0.002493</td>\n",
              "      <td>0.001520</td>\n",
              "      <td>0.093262</td>\n",
              "      <td>0.302536</td>\n",
              "      <td>0.000000</td>\n",
              "      <td>0.133848</td>\n",
              "      <td>0.108596</td>\n",
              "      <td>0.034835</td>\n",
              "      <td>0.046777</td>\n",
              "    </tr>\n",
              "    <tr>\n",
              "      <th>43457</th>\n",
              "      <td>0.042575</td>\n",
              "      <td>0.028565</td>\n",
              "      <td>0.001386</td>\n",
              "      <td>0.005251</td>\n",
              "      <td>0.007447</td>\n",
              "      <td>0.061928</td>\n",
              "      <td>0.036786</td>\n",
              "      <td>0.023768</td>\n",
              "      <td>0.029921</td>\n",
              "      <td>0.027087</td>\n",
              "      <td>...</td>\n",
              "      <td>0.029644</td>\n",
              "      <td>-0.001490</td>\n",
              "      <td>0.280748</td>\n",
              "      <td>0.045468</td>\n",
              "      <td>0.129645</td>\n",
              "      <td>0.133848</td>\n",
              "      <td>0.000000</td>\n",
              "      <td>0.154879</td>\n",
              "      <td>0.048335</td>\n",
              "      <td>0.028313</td>\n",
              "    </tr>\n",
              "    <tr>\n",
              "      <th>43505</th>\n",
              "      <td>0.052284</td>\n",
              "      <td>0.032261</td>\n",
              "      <td>0.175588</td>\n",
              "      <td>0.028552</td>\n",
              "      <td>0.041889</td>\n",
              "      <td>0.087992</td>\n",
              "      <td>0.172008</td>\n",
              "      <td>0.021145</td>\n",
              "      <td>0.113609</td>\n",
              "      <td>0.018472</td>\n",
              "      <td>...</td>\n",
              "      <td>0.019500</td>\n",
              "      <td>-0.000846</td>\n",
              "      <td>0.100859</td>\n",
              "      <td>0.162751</td>\n",
              "      <td>0.195023</td>\n",
              "      <td>0.108596</td>\n",
              "      <td>0.154879</td>\n",
              "      <td>0.000000</td>\n",
              "      <td>0.195571</td>\n",
              "      <td>0.227429</td>\n",
              "    </tr>\n",
              "    <tr>\n",
              "      <th>47119</th>\n",
              "      <td>0.066464</td>\n",
              "      <td>0.030846</td>\n",
              "      <td>0.030406</td>\n",
              "      <td>-0.001260</td>\n",
              "      <td>-0.002650</td>\n",
              "      <td>0.015909</td>\n",
              "      <td>0.196841</td>\n",
              "      <td>-0.002014</td>\n",
              "      <td>0.035778</td>\n",
              "      <td>-0.000780</td>\n",
              "      <td>...</td>\n",
              "      <td>0.000221</td>\n",
              "      <td>0.003438</td>\n",
              "      <td>-0.004738</td>\n",
              "      <td>0.341049</td>\n",
              "      <td>0.125543</td>\n",
              "      <td>0.034835</td>\n",
              "      <td>0.048335</td>\n",
              "      <td>0.195571</td>\n",
              "      <td>0.000000</td>\n",
              "      <td>0.253024</td>\n",
              "    </tr>\n",
              "    <tr>\n",
              "      <th>47154</th>\n",
              "      <td>0.132033</td>\n",
              "      <td>0.026193</td>\n",
              "      <td>0.119320</td>\n",
              "      <td>0.040023</td>\n",
              "      <td>0.058708</td>\n",
              "      <td>0.036823</td>\n",
              "      <td>0.313909</td>\n",
              "      <td>0.001216</td>\n",
              "      <td>0.058663</td>\n",
              "      <td>0.008671</td>\n",
              "      <td>...</td>\n",
              "      <td>-0.002722</td>\n",
              "      <td>0.001649</td>\n",
              "      <td>-0.006201</td>\n",
              "      <td>0.216048</td>\n",
              "      <td>0.165222</td>\n",
              "      <td>0.046777</td>\n",
              "      <td>0.028313</td>\n",
              "      <td>0.227429</td>\n",
              "      <td>0.253024</td>\n",
              "      <td>0.000000</td>\n",
              "    </tr>\n",
              "  </tbody>\n",
              "</table>\n",
              "<p>2336 rows × 2336 columns</p>\n",
              "</div>\n",
              "      <button class=\"colab-df-convert\" onclick=\"convertToInteractive('df-68161171-f768-4186-b563-5817fd31e3ee')\"\n",
              "              title=\"Convert this dataframe to an interactive table.\"\n",
              "              style=\"display:none;\">\n",
              "        \n",
              "  <svg xmlns=\"http://www.w3.org/2000/svg\" height=\"24px\"viewBox=\"0 0 24 24\"\n",
              "       width=\"24px\">\n",
              "    <path d=\"M0 0h24v24H0V0z\" fill=\"none\"/>\n",
              "    <path d=\"M18.56 5.44l.94 2.06.94-2.06 2.06-.94-2.06-.94-.94-2.06-.94 2.06-2.06.94zm-11 1L8.5 8.5l.94-2.06 2.06-.94-2.06-.94L8.5 2.5l-.94 2.06-2.06.94zm10 10l.94 2.06.94-2.06 2.06-.94-2.06-.94-.94-2.06-.94 2.06-2.06.94z\"/><path d=\"M17.41 7.96l-1.37-1.37c-.4-.4-.92-.59-1.43-.59-.52 0-1.04.2-1.43.59L10.3 9.45l-7.72 7.72c-.78.78-.78 2.05 0 2.83L4 21.41c.39.39.9.59 1.41.59.51 0 1.02-.2 1.41-.59l7.78-7.78 2.81-2.81c.8-.78.8-2.07 0-2.86zM5.41 20L4 18.59l7.72-7.72 1.47 1.35L5.41 20z\"/>\n",
              "  </svg>\n",
              "      </button>\n",
              "      \n",
              "  <style>\n",
              "    .colab-df-container {\n",
              "      display:flex;\n",
              "      flex-wrap:wrap;\n",
              "      gap: 12px;\n",
              "    }\n",
              "\n",
              "    .colab-df-convert {\n",
              "      background-color: #E8F0FE;\n",
              "      border: none;\n",
              "      border-radius: 50%;\n",
              "      cursor: pointer;\n",
              "      display: none;\n",
              "      fill: #1967D2;\n",
              "      height: 32px;\n",
              "      padding: 0 0 0 0;\n",
              "      width: 32px;\n",
              "    }\n",
              "\n",
              "    .colab-df-convert:hover {\n",
              "      background-color: #E2EBFA;\n",
              "      box-shadow: 0px 1px 2px rgba(60, 64, 67, 0.3), 0px 1px 3px 1px rgba(60, 64, 67, 0.15);\n",
              "      fill: #174EA6;\n",
              "    }\n",
              "\n",
              "    [theme=dark] .colab-df-convert {\n",
              "      background-color: #3B4455;\n",
              "      fill: #D2E3FC;\n",
              "    }\n",
              "\n",
              "    [theme=dark] .colab-df-convert:hover {\n",
              "      background-color: #434B5C;\n",
              "      box-shadow: 0px 1px 3px 1px rgba(0, 0, 0, 0.15);\n",
              "      filter: drop-shadow(0px 1px 2px rgba(0, 0, 0, 0.3));\n",
              "      fill: #FFFFFF;\n",
              "    }\n",
              "  </style>\n",
              "\n",
              "      <script>\n",
              "        const buttonEl =\n",
              "          document.querySelector('#df-68161171-f768-4186-b563-5817fd31e3ee button.colab-df-convert');\n",
              "        buttonEl.style.display =\n",
              "          google.colab.kernel.accessAllowed ? 'block' : 'none';\n",
              "\n",
              "        async function convertToInteractive(key) {\n",
              "          const element = document.querySelector('#df-68161171-f768-4186-b563-5817fd31e3ee');\n",
              "          const dataTable =\n",
              "            await google.colab.kernel.invokeFunction('convertToInteractive',\n",
              "                                                     [key], {});\n",
              "          if (!dataTable) return;\n",
              "\n",
              "          const docLinkHtml = 'Like what you see? Visit the ' +\n",
              "            '<a target=\"_blank\" href=https://colab.research.google.com/notebooks/data_table.ipynb>data table notebook</a>'\n",
              "            + ' to learn more about interactive tables.';\n",
              "          element.innerHTML = '';\n",
              "          dataTable['output_type'] = 'display_data';\n",
              "          await google.colab.output.renderOutput(dataTable, element);\n",
              "          const docLink = document.createElement('div');\n",
              "          docLink.innerHTML = docLinkHtml;\n",
              "          element.appendChild(docLink);\n",
              "        }\n",
              "      </script>\n",
              "    </div>\n",
              "  </div>\n",
              "  "
            ]
          },
          "metadata": {},
          "execution_count": 53
        }
      ]
    },
    {
      "cell_type": "markdown",
      "source": [
        "Function to obtain the book name from corresponding Book ID."
      ],
      "metadata": {
        "id": "ltRKDpbPN_EB"
      },
      "id": "ltRKDpbPN_EB"
    },
    {
      "cell_type": "code",
      "source": [
        "def get_book_name(val):\n",
        "    for key, value in books_dict.items():\n",
        "         if value == val:\n",
        "             return key\n",
        "    return (\"book for corresponding ID doesn't exist\")\n",
        "\n",
        "name=get_book_name(1486)\n",
        "name"
      ],
      "metadata": {
        "id": "feCZAIUDN_W6"
      },
      "id": "feCZAIUDN_W6",
      "execution_count": null,
      "outputs": []
    },
    {
      "cell_type": "markdown",
      "source": [
        "The function list_of_recs returns a list of 5 most similar books to a given book, based on the dataframe with similarity scores. \n",
        "The function final_recs_list returns a list of 5 recommendations for users based on 3 books that the user has previously liked.  "
      ],
      "metadata": {
        "id": "Xq1mKpWQJA8q"
      },
      "id": "Xq1mKpWQJA8q"
    },
    {
      "cell_type": "code",
      "source": [
        "def list_of_recs(Book_ID, df=book_sim_df):\n",
        "   a = df.sort_values(Book_ID, ascending=False).head(6)\n",
        "   rec_list=[]\n",
        "   i=0\n",
        "   for i in range(0,5):\n",
        "    rec_list.append(get_book_name(a.index.values[i]))\n",
        "    i+=1\n",
        "   return(rec_list)\n",
        "\n",
        "def final_recs_list(bookids):\n",
        "  recs_list=[]\n",
        "  for i in bookids:    \n",
        "      temp_list = list_of_recs(i)\n",
        "      recs_list.extend(temp_list)\n",
        "\n",
        "  recs_dict = {}\n",
        "  for i in recs_list:\n",
        "      recs_dict[i]=recs_dict.get(i,0)+1\n",
        "    \n",
        "  final_list=list(sorted(recs_dict, key=recs_dict.get, reverse=True)[:5])\n",
        "  return final_list"
      ],
      "metadata": {
        "id": "dM0eB4mMrcjE"
      },
      "id": "dM0eB4mMrcjE",
      "execution_count": 54,
      "outputs": []
    },
    {
      "cell_type": "markdown",
      "source": [
        "The function evaluate_users takes a particular User ID from the dataframe of test users we had separated earlier(filter_test). It finds a list of 5 recommendations for the user on the basis of 3 books that the user has previously liked. \n",
        "The function match_percent,verifies whether the recommendations made for a given user match with any of the books that the user has read, hence giving us a way to evaluate the accuracy of our recommendations. "
      ],
      "metadata": {
        "id": "AwKpCHE5Kz_y"
      },
      "id": "AwKpCHE5Kz_y"
    },
    {
      "cell_type": "code",
      "source": [
        "def evaluate_users(id_code,filter_test):\n",
        "\n",
        "  temp_df=filter_test.loc[filter_test['User_ID'] == id_code]\n",
        "  user_df=temp_df.sort_values(\"Rating_Cat\",ascending=False)\n",
        "  user_df= user_df.head(3)\n",
        "  bookids_list = user_df['Book_ID'].tolist()\n",
        "  \n",
        "  rec_list=[]\n",
        "  rec_list=final_recs_list(bookids_list)\n",
        "  match_val=0\n",
        "  match_val=find_match_percent(rec_list,id_code,temp_df)\n",
        "  return match_val\n",
        "\n",
        "def find_match_percent(recs,user_id,test_user_df):\n",
        "  books_list = test_user_df['Name'].tolist()\n",
        "  match = 0\n",
        "  for x in books_list:\n",
        "    match+= recs.count(x)\n",
        "  return ((match/5)*100)\n"
      ],
      "metadata": {
        "id": "9xheepUk6hmH"
      },
      "id": "9xheepUk6hmH",
      "execution_count": 55,
      "outputs": []
    },
    {
      "cell_type": "markdown",
      "source": [
        "The following code block calculates the overall percentage of matches for all our test users."
      ],
      "metadata": {
        "id": "GV01jyXGMZFW"
      },
      "id": "GV01jyXGMZFW"
    },
    {
      "cell_type": "code",
      "source": [
        "test_users_list= filter_test.User_ID.unique().tolist()\n",
        "match=0\n",
        "total=0\n",
        "for x in test_users_list:\n",
        "  match=evaluate_users(x,filter_test) \n",
        "  total+= match\n",
        "print (\"Overall match percentage =\", total/249)\n"
      ],
      "metadata": {
        "colab": {
          "base_uri": "https://localhost:8080/"
        },
        "id": "EB4z886YISCO",
        "outputId": "00a4a268-ddae-4333-8f56-d4001ceb1b26"
      },
      "id": "EB4z886YISCO",
      "execution_count": 62,
      "outputs": [
        {
          "output_type": "stream",
          "name": "stdout",
          "text": [
            "Overall match percentage = 25.38152610441767\n"
          ]
        }
      ]
    },
    {
      "cell_type": "code",
      "source": [
        "# filter_test[(filter_test.User_ID == 10118)]"
      ],
      "metadata": {
        "id": "ICbLMI5k52Qo"
      },
      "id": "ICbLMI5k52Qo",
      "execution_count": null,
      "outputs": []
    }
  ],
  "metadata": {
    "kernelspec": {
      "display_name": "Python 3",
      "name": "python3"
    },
    "language_info": {
      "name": "python"
    },
    "colab": {
      "provenance": [],
      "machine_shape": "hm",
      "collapsed_sections": []
    }
  },
  "nbformat": 4,
  "nbformat_minor": 5
}